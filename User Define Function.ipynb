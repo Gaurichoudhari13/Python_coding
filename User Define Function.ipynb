{
 "cells": [
  {
   "cell_type": "markdown",
   "id": "2e68c6dc",
   "metadata": {},
   "source": [
    "### abs()"
   ]
  },
  {
   "cell_type": "code",
   "execution_count": 1,
   "id": "a9aba004",
   "metadata": {},
   "outputs": [
    {
     "data": {
      "text/plain": [
       "123"
      ]
     },
     "execution_count": 1,
     "metadata": {},
     "output_type": "execute_result"
    }
   ],
   "source": [
    "a=123\n",
    "abs(a)"
   ]
  },
  {
   "cell_type": "code",
   "execution_count": 2,
   "id": "98695cb4",
   "metadata": {
    "scrolled": true
   },
   "outputs": [
    {
     "data": {
      "text/plain": [
       "234"
      ]
     },
     "execution_count": 2,
     "metadata": {},
     "output_type": "execute_result"
    }
   ],
   "source": [
    "b=-234\n",
    "abs(b)"
   ]
  },
  {
   "cell_type": "code",
   "execution_count": 13,
   "id": "1bdad012",
   "metadata": {},
   "outputs": [],
   "source": [
    "def absolute(n):\n",
    "    a=str(n)\n",
    "    if \"-\" in a:\n",
    "        print(a[1:])\n",
    "    else:\n",
    "        print(n)"
   ]
  },
  {
   "cell_type": "code",
   "execution_count": 16,
   "id": "bc89965e",
   "metadata": {},
   "outputs": [
    {
     "name": "stdout",
     "output_type": "stream",
     "text": [
      "45\n"
     ]
    }
   ],
   "source": [
    "absolute(-45)"
   ]
  },
  {
   "cell_type": "code",
   "execution_count": 4,
   "id": "b9fd50c7",
   "metadata": {},
   "outputs": [
    {
     "name": "stdout",
     "output_type": "stream",
     "text": [
      "10077696\n"
     ]
    }
   ],
   "source": [
    "#power() function\n",
    "a=pow(6,9)\n",
    "print(a)"
   ]
  },
  {
   "cell_type": "code",
   "execution_count": 15,
   "id": "a0b421bb",
   "metadata": {
    "scrolled": true
   },
   "outputs": [
    {
     "name": "stdout",
     "output_type": "stream",
     "text": [
      "57\n"
     ]
    }
   ],
   "source": [
    "#round() function\n",
    "a=round(56.7896)\n",
    "print(a)"
   ]
  },
  {
   "cell_type": "code",
   "execution_count": 3,
   "id": "9d88c3cb",
   "metadata": {},
   "outputs": [],
   "source": [
    "def custom_round(number):\n",
    "    decimal_part=number - int(number)\n",
    "    if decimal_part >0.5:\n",
    "        return int(number) + 1\n",
    "    else:\n",
    "        return int(number)"
   ]
  },
  {
   "cell_type": "code",
   "execution_count": 4,
   "id": "8b670a03",
   "metadata": {},
   "outputs": [
    {
     "data": {
      "text/plain": [
       "24"
      ]
     },
     "execution_count": 4,
     "metadata": {},
     "output_type": "execute_result"
    }
   ],
   "source": [
    "custom_round(23.9)"
   ]
  },
  {
   "cell_type": "code",
   "execution_count": 6,
   "id": "958d0715",
   "metadata": {
    "scrolled": true
   },
   "outputs": [
    {
     "name": "stdout",
     "output_type": "stream",
     "text": [
      "Help on built-in function print in module builtins:\n",
      "\n",
      "print(*args, sep=' ', end='\\n', file=None, flush=False)\n",
      "    Prints the values to a stream, or to sys.stdout by default.\n",
      "    \n",
      "    sep\n",
      "      string inserted between values, default a space.\n",
      "    end\n",
      "      string appended after the last value, default a newline.\n",
      "    file\n",
      "      a file-like object (stream); defaults to the current sys.stdout.\n",
      "    flush\n",
      "      whether to forcibly flush the stream.\n",
      "\n"
     ]
    }
   ],
   "source": [
    "#help() function\n",
    "help(print)"
   ]
  },
  {
   "cell_type": "code",
   "execution_count": 20,
   "id": "343bb894",
   "metadata": {},
   "outputs": [
    {
     "data": {
      "text/plain": [
       "1768173450192"
      ]
     },
     "execution_count": 20,
     "metadata": {},
     "output_type": "execute_result"
    }
   ],
   "source": [
    "id(b)"
   ]
  },
  {
   "cell_type": "code",
   "execution_count": 25,
   "id": "efcebd58",
   "metadata": {},
   "outputs": [
    {
     "data": {
      "text/plain": [
       "99"
      ]
     },
     "execution_count": 25,
     "metadata": {},
     "output_type": "execute_result"
    }
   ],
   "source": [
    "\n",
    "ord(\"c\")"
   ]
  },
  {
   "cell_type": "code",
   "execution_count": 2,
   "id": "41795612",
   "metadata": {},
   "outputs": [],
   "source": [
    "def sum1():\n",
    "    a=27\n",
    "    b=67\n",
    "    c=a+b\n",
    "    print(c)"
   ]
  },
  {
   "cell_type": "code",
   "execution_count": 3,
   "id": "be5274d3",
   "metadata": {},
   "outputs": [
    {
     "name": "stdout",
     "output_type": "stream",
     "text": [
      "94\n"
     ]
    }
   ],
   "source": [
    "sum1()\n",
    "    "
   ]
  },
  {
   "cell_type": "code",
   "execution_count": 9,
   "id": "3a300442",
   "metadata": {},
   "outputs": [],
   "source": [
    "def mult():\n",
    "    a=45\n",
    "    b=23\n",
    "    c=a*b\n",
    "    print(c)\n",
    "     "
   ]
  },
  {
   "cell_type": "code",
   "execution_count": 10,
   "id": "47875bf4",
   "metadata": {},
   "outputs": [
    {
     "name": "stdout",
     "output_type": "stream",
     "text": [
      "1035\n"
     ]
    }
   ],
   "source": [
    "mult()"
   ]
  },
  {
   "cell_type": "markdown",
   "id": "9618adba",
   "metadata": {},
   "source": [
    "### Function without return and without parameter"
   ]
  },
  {
   "cell_type": "code",
   "execution_count": 17,
   "id": "42a6bce3",
   "metadata": {},
   "outputs": [],
   "source": [
    "def mult():\n",
    "    x=45\n",
    "    y=23\n",
    "    c=x*y\n",
    "    print(c)\n",
    "    "
   ]
  },
  {
   "cell_type": "code",
   "execution_count": 18,
   "id": "9423bae4",
   "metadata": {},
   "outputs": [
    {
     "name": "stdout",
     "output_type": "stream",
     "text": [
      "1035\n"
     ]
    }
   ],
   "source": [
    "mult()"
   ]
  },
  {
   "cell_type": "markdown",
   "id": "8957963f",
   "metadata": {},
   "source": [
    "### Function without return and with parametr "
   ]
  },
  {
   "cell_type": "code",
   "execution_count": 24,
   "id": "b4184e31",
   "metadata": {},
   "outputs": [],
   "source": [
    "def add(a,b):\n",
    "    c=a+b\n",
    "    print(c)"
   ]
  },
  {
   "cell_type": "code",
   "execution_count": 25,
   "id": "0788a0ca",
   "metadata": {},
   "outputs": [
    {
     "name": "stdout",
     "output_type": "stream",
     "text": [
      "6\n"
     ]
    }
   ],
   "source": [
    "add(2,4)"
   ]
  },
  {
   "cell_type": "markdown",
   "id": "ae4e577d",
   "metadata": {},
   "source": [
    "### Function with return and without parameter"
   ]
  },
  {
   "cell_type": "code",
   "execution_count": 37,
   "id": "26087eae",
   "metadata": {},
   "outputs": [],
   "source": [
    "def mult():\n",
    "    x=11\n",
    "    y=56\n",
    "    c=x*y\n",
    "    return \"multiplication is\",c"
   ]
  },
  {
   "cell_type": "code",
   "execution_count": 38,
   "id": "583558d7",
   "metadata": {},
   "outputs": [
    {
     "data": {
      "text/plain": [
       "('multiplication is', 616)"
      ]
     },
     "execution_count": 38,
     "metadata": {},
     "output_type": "execute_result"
    }
   ],
   "source": [
    "mult()"
   ]
  },
  {
   "cell_type": "markdown",
   "id": "a5c4756e",
   "metadata": {},
   "source": [
    "### Function with return and with parameter"
   ]
  },
  {
   "cell_type": "code",
   "execution_count": 40,
   "id": "38527b40",
   "metadata": {},
   "outputs": [],
   "source": [
    "def mult(x,y):\n",
    "    c=x*y\n",
    "    return f\"multiplication is {c}\""
   ]
  },
  {
   "cell_type": "code",
   "execution_count": 41,
   "id": "aab1100b",
   "metadata": {},
   "outputs": [
    {
     "data": {
      "text/plain": [
       "'multiplication is 63'"
      ]
     },
     "execution_count": 41,
     "metadata": {},
     "output_type": "execute_result"
    }
   ],
   "source": [
    "mult(7,9)"
   ]
  },
  {
   "cell_type": "code",
   "execution_count": 49,
   "id": "542469b5",
   "metadata": {},
   "outputs": [],
   "source": [
    "def cube(n):\n",
    "    c=n**3\n",
    "    return c"
   ]
  },
  {
   "cell_type": "code",
   "execution_count": 51,
   "id": "e198adf3",
   "metadata": {},
   "outputs": [
    {
     "data": {
      "text/plain": [
       "64"
      ]
     },
     "execution_count": 51,
     "metadata": {},
     "output_type": "execute_result"
    }
   ],
   "source": [
    "cube(4)"
   ]
  },
  {
   "cell_type": "code",
   "execution_count": 61,
   "id": "b1b19d76",
   "metadata": {},
   "outputs": [],
   "source": [
    "def squre(n):\n",
    "    c=n**2\n",
    "    return c"
   ]
  },
  {
   "cell_type": "code",
   "execution_count": 63,
   "id": "4be0e8bd",
   "metadata": {},
   "outputs": [
    {
     "data": {
      "text/plain": [
       "64"
      ]
     },
     "execution_count": 63,
     "metadata": {},
     "output_type": "execute_result"
    }
   ],
   "source": [
    "squre(8)"
   ]
  },
  {
   "cell_type": "code",
   "execution_count": 18,
   "id": "37d95baf",
   "metadata": {},
   "outputs": [],
   "source": [
    "def max_1():\n",
    "    list1=[12,45,3,6,8,13,34,100]\n",
    "    maximum = list1[0]\n",
    "    for num in list1:\n",
    "        if num > maximum:\n",
    "            maximum = num\n",
    "    print(\"MAximum value is: \",maximum)\n",
    "            "
   ]
  },
  {
   "cell_type": "code",
   "execution_count": 19,
   "id": "05f98775",
   "metadata": {
    "scrolled": true
   },
   "outputs": [
    {
     "name": "stdout",
     "output_type": "stream",
     "text": [
      "MAximum value is:  100\n"
     ]
    }
   ],
   "source": [
    "max_1()"
   ]
  },
  {
   "cell_type": "code",
   "execution_count": 2,
   "id": "bcd9ef73",
   "metadata": {},
   "outputs": [],
   "source": [
    "#max_value=numbers[0]\n",
    "#min_value=numbers[0]\n",
    "def max_2():\n",
    "    numbers=[24,45,23,67,12,90,10]\n",
    "    max_value=numbers[0]\n",
    "    min_value=numbers[0]\n",
    "    for num in numbers:\n",
    "        if num> max_values:\n",
    "            max_value=num\n",
    "        if num< min_values:\n",
    "            min_values=num\n",
    "    print(\"Maximum value:\", max_value)\n",
    "    print(\"minimum value\", min_value)\n"
   ]
  },
  {
   "cell_type": "code",
   "execution_count": 8,
   "id": "e1b856b7",
   "metadata": {},
   "outputs": [],
   "source": [
    "def custom_round(number):\n",
    "    decimal_part=number - int(number)\n",
    "    if decimal_part >0.5:\n",
    "        return int(number) + 1\n",
    "    else:\n",
    "        return int(number)"
   ]
  },
  {
   "cell_type": "markdown",
   "id": "ce5771a3",
   "metadata": {},
   "source": [
    "### Local and gobal function"
   ]
  },
  {
   "cell_type": "code",
   "execution_count": 10,
   "id": "873a795b",
   "metadata": {},
   "outputs": [],
   "source": [
    "def m1():\n",
    "    x=300 #local scope\n",
    "    print(x)"
   ]
  },
  {
   "cell_type": "code",
   "execution_count": 11,
   "id": "d0d60741",
   "metadata": {},
   "outputs": [
    {
     "name": "stdout",
     "output_type": "stream",
     "text": [
      "300\n"
     ]
    }
   ],
   "source": [
    "m1()"
   ]
  },
  {
   "cell_type": "code",
   "execution_count": 12,
   "id": "b2cf8d6e",
   "metadata": {},
   "outputs": [
    {
     "ename": "NameError",
     "evalue": "name 'x' is not defined",
     "output_type": "error",
     "traceback": [
      "\u001b[1;31m---------------------------------------------------------------------------\u001b[0m",
      "\u001b[1;31mNameError\u001b[0m                                 Traceback (most recent call last)",
      "Cell \u001b[1;32mIn[12], line 1\u001b[0m\n\u001b[1;32m----> 1\u001b[0m x\n",
      "\u001b[1;31mNameError\u001b[0m: name 'x' is not defined"
     ]
    }
   ],
   "source": [
    "x"
   ]
  },
  {
   "cell_type": "code",
   "execution_count": 19,
   "id": "792dba90",
   "metadata": {},
   "outputs": [],
   "source": [
    "c=200 #globaly decared\n",
    "def m1():\n",
    "    print(c) #global scop"
   ]
  },
  {
   "cell_type": "code",
   "execution_count": 20,
   "id": "663e41ca",
   "metadata": {},
   "outputs": [
    {
     "name": "stdout",
     "output_type": "stream",
     "text": [
      "200\n"
     ]
    }
   ],
   "source": [
    "m1()"
   ]
  },
  {
   "cell_type": "code",
   "execution_count": 31,
   "id": "0df6a19d",
   "metadata": {},
   "outputs": [],
   "source": [
    "def arithmatic():\n",
    "    o=32\n",
    "    p=67\n",
    "    z=o+p\n",
    "    print(z)\n",
    "    def sub():\n",
    "        a=o-p\n",
    "        print(a)\n",
    "    sub()\n",
    "    def mult():\n",
    "        a=o*p\n",
    "        print(a)\n",
    "    mult()"
   ]
  },
  {
   "cell_type": "code",
   "execution_count": 32,
   "id": "158f306c",
   "metadata": {
    "scrolled": true
   },
   "outputs": [
    {
     "name": "stdout",
     "output_type": "stream",
     "text": [
      "99\n",
      "-35\n",
      "2144\n"
     ]
    }
   ],
   "source": [
    "arithmatic()"
   ]
  },
  {
   "cell_type": "code",
   "execution_count": 5,
   "id": "e7fe9e59",
   "metadata": {},
   "outputs": [
    {
     "name": "stdout",
     "output_type": "stream",
     "text": [
      "68\n"
     ]
    }
   ],
   "source": [
    "def arithmatic():\n",
    "    global o,p\n",
    "    o=23\n",
    "    p=45\n",
    "    z=o+p\n",
    "    print(z)\n",
    "arithmatic()"
   ]
  },
  {
   "cell_type": "code",
   "execution_count": 24,
   "id": "1b7732cd",
   "metadata": {},
   "outputs": [
    {
     "name": "stdout",
     "output_type": "stream",
     "text": [
      "Enter the length:3\n",
      "Enter the breadth:2\n",
      "area= 6\n",
      "perimeter= 10\n"
     ]
    }
   ],
   "source": [
    "#write a function that calculate the area and perimeter of a rectangle given \n",
    "#its length and width as parameters.\n",
    "def area(l,b):\n",
    "    return(l*b)\n",
    "def perimeter(l,b):\n",
    "    return(2*(l+b))\n",
    "l=int(input(\"Enter the length:\"))\n",
    "b=int(input(\"Enter the breadth:\"))\n",
    "print(\"area=\",area(l,b))\n",
    "print(\"perimeter=\",perimeter(l,b))"
   ]
  },
  {
   "cell_type": "code",
   "execution_count": 2,
   "id": "f7809390",
   "metadata": {},
   "outputs": [
    {
     "name": "stdout",
     "output_type": "stream",
     "text": [
      "enter number even or odd:23\n"
     ]
    }
   ],
   "source": [
    "#create a function that take an integer as input and return \"Even\" if it's \n",
    "#even and odd if it's odd\n",
    "n=int(input(\"enter number even or odd:\"))\n",
    "def evenodd(n):\n",
    "    if n and 1:\n",
    "        return\n",
    "    else:\n",
    "        return\n",
    "    if(evenodd(n)):\n",
    "        print(n,\"num is odd\")\n",
    "    else:\n",
    "        print(n,\"num is even\")"
   ]
  },
  {
   "cell_type": "code",
   "execution_count": 25,
   "id": "a7e23b0c",
   "metadata": {},
   "outputs": [],
   "source": [
    "y=789\n",
    "def sqr(n):\n",
    "    square=n**2\n",
    "    global x\n",
    "    x=678   #local\n",
    "    return square\n",
    "    \n",
    "    \n"
   ]
  },
  {
   "cell_type": "code",
   "execution_count": 27,
   "id": "e504acc5",
   "metadata": {},
   "outputs": [
    {
     "name": "stdout",
     "output_type": "stream",
     "text": [
      "25\n",
      "678\n"
     ]
    },
    {
     "data": {
      "text/plain": [
       "789"
      ]
     },
     "execution_count": 27,
     "metadata": {},
     "output_type": "execute_result"
    }
   ],
   "source": [
    "print(sqr(5))\n",
    "print(x)\n",
    "y"
   ]
  },
  {
   "cell_type": "code",
   "execution_count": null,
   "id": "63f8324f",
   "metadata": {},
   "outputs": [],
   "source": []
  }
 ],
 "metadata": {
  "kernelspec": {
   "display_name": "Python 3 (ipykernel)",
   "language": "python",
   "name": "python3"
  },
  "language_info": {
   "codemirror_mode": {
    "name": "ipython",
    "version": 3
   },
   "file_extension": ".py",
   "mimetype": "text/x-python",
   "name": "python",
   "nbconvert_exporter": "python",
   "pygments_lexer": "ipython3",
   "version": "3.11.5"
  }
 },
 "nbformat": 4,
 "nbformat_minor": 5
}
