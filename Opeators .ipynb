{
 "cells": [
  {
   "cell_type": "code",
   "execution_count": 2,
   "id": "fefbc740",
   "metadata": {},
   "outputs": [
    {
     "data": {
      "text/plain": [
       "12"
      ]
     },
     "execution_count": 2,
     "metadata": {},
     "output_type": "execute_result"
    }
   ],
   "source": [
    "# Bitwaise AND\n",
    "a=60\n",
    "b=13\n",
    "a & b"
   ]
  },
  {
   "cell_type": "code",
   "execution_count": 3,
   "id": "58e4f1b5",
   "metadata": {},
   "outputs": [
    {
     "data": {
      "text/plain": [
       "0"
      ]
     },
     "execution_count": 3,
     "metadata": {},
     "output_type": "execute_result"
    }
   ],
   "source": [
    "a=10\n",
    "b=5\n",
    "a&b"
   ]
  },
  {
   "cell_type": "code",
   "execution_count": 28,
   "id": "80360a6e",
   "metadata": {},
   "outputs": [
    {
     "data": {
      "text/plain": [
       "-25"
      ]
     },
     "execution_count": 28,
     "metadata": {},
     "output_type": "execute_result"
    }
   ],
   "source": [
    "#Bitwaise NOT\n",
    "a=24\n",
    "~ a"
   ]
  },
  {
   "cell_type": "code",
   "execution_count": 4,
   "id": "9deb5315",
   "metadata": {},
   "outputs": [
    {
     "data": {
      "text/plain": [
       "61"
      ]
     },
     "execution_count": 4,
     "metadata": {},
     "output_type": "execute_result"
    }
   ],
   "source": [
    "#Bitwaise OR\n",
    "a=60\n",
    "b=13\n",
    "a|b"
   ]
  },
  {
   "cell_type": "code",
   "execution_count": 17,
   "id": "fc8fc5ae",
   "metadata": {},
   "outputs": [
    {
     "data": {
      "text/plain": [
       "58"
      ]
     },
     "execution_count": 17,
     "metadata": {},
     "output_type": "execute_result"
    }
   ],
   "source": [
    "#Bitwaise XOR\n",
    "a=23\n",
    "b=45\n",
    "a^b"
   ]
  },
  {
   "cell_type": "code",
   "execution_count": 9,
   "id": "706ca18f",
   "metadata": {},
   "outputs": [
    {
     "name": "stdout",
     "output_type": "stream",
     "text": [
      "60\n"
     ]
    }
   ],
   "source": [
    "#Evaluating Exapression -Using eval Function\n",
    "evaluate='x*(x+1)*(x+2)'\n",
    "x=3\n",
    "expression=eval(evaluate)\n",
    "print(expression)\n"
   ]
  },
  {
   "cell_type": "markdown",
   "id": "3d072abc",
   "metadata": {},
   "source": [
    "### Left-right associativity"
   ]
  },
  {
   "cell_type": "code",
   "execution_count": 19,
   "id": "0f960087",
   "metadata": {},
   "outputs": [
    {
     "name": "stdout",
     "output_type": "stream",
     "text": [
      "3\n"
     ]
    }
   ],
   "source": [
    "print(5*2//3)"
   ]
  },
  {
   "cell_type": "code",
   "execution_count": 20,
   "id": "1d09cec2",
   "metadata": {},
   "outputs": [
    {
     "name": "stdout",
     "output_type": "stream",
     "text": [
      "0\n"
     ]
    }
   ],
   "source": [
    "print(5*(2//3))"
   ]
  },
  {
   "cell_type": "markdown",
   "id": "e5358565",
   "metadata": {},
   "source": [
    "### right-left associativity"
   ]
  },
  {
   "cell_type": "code",
   "execution_count": 21,
   "id": "22811219",
   "metadata": {},
   "outputs": [
    {
     "name": "stdout",
     "output_type": "stream",
     "text": [
      "65536\n"
     ]
    }
   ],
   "source": [
    "print(2**4**2)"
   ]
  },
  {
   "cell_type": "code",
   "execution_count": 22,
   "id": "200e21ef",
   "metadata": {},
   "outputs": [
    {
     "name": "stdout",
     "output_type": "stream",
     "text": [
      "64\n"
     ]
    }
   ],
   "source": [
    "print((2*4)**2)"
   ]
  },
  {
   "cell_type": "code",
   "execution_count": null,
   "id": "9bfccf16",
   "metadata": {},
   "outputs": [],
   "source": []
  }
 ],
 "metadata": {
  "kernelspec": {
   "display_name": "Python 3 (ipykernel)",
   "language": "python",
   "name": "python3"
  },
  "language_info": {
   "codemirror_mode": {
    "name": "ipython",
    "version": 3
   },
   "file_extension": ".py",
   "mimetype": "text/x-python",
   "name": "python",
   "nbconvert_exporter": "python",
   "pygments_lexer": "ipython3",
   "version": "3.11.3"
  }
 },
 "nbformat": 4,
 "nbformat_minor": 5
}
