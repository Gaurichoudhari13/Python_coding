{
 "cells": [
  {
   "cell_type": "code",
   "execution_count": 1,
   "id": "05a2bdb1",
   "metadata": {},
   "outputs": [],
   "source": [
    "#lambda arguments:expression\n",
    "y=lambda x,y:x**y #one liner"
   ]
  },
  {
   "cell_type": "code",
   "execution_count": 2,
   "id": "407bc3b5",
   "metadata": {},
   "outputs": [
    {
     "data": {
      "text/plain": [
       "15625"
      ]
     },
     "execution_count": 2,
     "metadata": {},
     "output_type": "execute_result"
    }
   ],
   "source": [
    "y(5,6)"
   ]
  },
  {
   "cell_type": "code",
   "execution_count": 3,
   "id": "11b82664",
   "metadata": {},
   "outputs": [
    {
     "data": {
      "text/plain": [
       "13"
      ]
     },
     "execution_count": 3,
     "metadata": {},
     "output_type": "execute_result"
    }
   ],
   "source": [
    "x=lambda a:a+10\n",
    "x(3)"
   ]
  },
  {
   "cell_type": "code",
   "execution_count": 4,
   "id": "905636ea",
   "metadata": {},
   "outputs": [
    {
     "name": "stdout",
     "output_type": "stream",
     "text": [
      "26\n",
      "12\n"
     ]
    }
   ],
   "source": [
    "def f1(n):\n",
    "    return lambda a:a*n\n",
    "double=f1(2)\n",
    "print(double(13))\n",
    "triplet=f1(3)\n",
    "print(triplet(4))"
   ]
  },
  {
   "cell_type": "code",
   "execution_count": 1,
   "id": "61ae3c77",
   "metadata": {},
   "outputs": [
    {
     "data": {
      "text/plain": [
       "15"
      ]
     },
     "execution_count": 1,
     "metadata": {},
     "output_type": "execute_result"
    }
   ],
   "source": [
    "add=lambda x,y:x+y\n",
    "add(7,8)"
   ]
  },
  {
   "cell_type": "code",
   "execution_count": 2,
   "id": "67f67c07",
   "metadata": {},
   "outputs": [],
   "source": [
    "def add1(p,q):\n",
    "    c=p+q\n",
    "    return c"
   ]
  },
  {
   "cell_type": "code",
   "execution_count": 3,
   "id": "a4bca60e",
   "metadata": {},
   "outputs": [
    {
     "data": {
      "text/plain": [
       "14"
      ]
     },
     "execution_count": 3,
     "metadata": {},
     "output_type": "execute_result"
    }
   ],
   "source": [
    "add1(6,8)"
   ]
  },
  {
   "cell_type": "markdown",
   "id": "d7326621",
   "metadata": {},
   "source": [
    "### filter()"
   ]
  },
  {
   "cell_type": "code",
   "execution_count": 4,
   "id": "372ecba3",
   "metadata": {},
   "outputs": [
    {
     "name": "stdout",
     "output_type": "stream",
     "text": [
      "(67,)\n"
     ]
    }
   ],
   "source": [
    "l=(56,33,13,23,22,45,56,67,3)\n",
    "x=tuple(filter(lambda a:a>57,l))\n",
    "print(x)"
   ]
  },
  {
   "cell_type": "markdown",
   "id": "98dbfa8b",
   "metadata": {},
   "source": [
    "### map()"
   ]
  },
  {
   "cell_type": "code",
   "execution_count": 5,
   "id": "5033ad10",
   "metadata": {},
   "outputs": [
    {
     "name": "stdout",
     "output_type": "stream",
     "text": [
      "[1, 4, 9, 16, 25, 36, 49, 64, 81]\n"
     ]
    }
   ],
   "source": [
    "nums=[1,2,3,4,5,6,7,8,9]\n",
    "square=list(map(lambda a:a*a,nums))\n",
    "print(square)"
   ]
  },
  {
   "cell_type": "markdown",
   "id": "becc5ce2",
   "metadata": {},
   "source": [
    "### reduce()"
   ]
  },
  {
   "cell_type": "markdown",
   "id": "84bcdbae",
   "metadata": {},
   "source": [
    "the reduce(fn,seq) fn is used to apply a particular fn passed in its arguments to all of the\n",
    "list elements mentioned in the sequence passed along.\n",
    "- defined i9n \"functools\" modules\n",
    "- 2 4 6 8\n",
    "- 2+4 6 8\n",
    "- 6+6 8\n",
    "- 12+8\n",
    "- 20\n",
    "- At first step, 1st 2 elements of a sequence are picked and the result is obtained.\n",
    "\n",
    "syntax:\n",
    "-from functools import reduce\n",
    "result = reduce(lambda x, y: expression, iterable)\n"
   ]
  },
  {
   "cell_type": "markdown",
   "id": "59a40e45",
   "metadata": {},
   "source": [
    "#### sum of list elements using reduce fn"
   ]
  },
  {
   "cell_type": "code",
   "execution_count": 6,
   "id": "cf71054c",
   "metadata": {},
   "outputs": [],
   "source": [
    "from functools import reduce\n",
    "def myfn(a,b):\n",
    "    return a*b"
   ]
  },
  {
   "cell_type": "code",
   "execution_count": 7,
   "id": "9701c412",
   "metadata": {},
   "outputs": [
    {
     "data": {
      "text/plain": [
       "5040"
      ]
     },
     "execution_count": 7,
     "metadata": {},
     "output_type": "execute_result"
    }
   ],
   "source": [
    "val=[1,2,3,4,5,6,7]  #1,2 are a,b\n",
    "add=reduce(myfn,val)\n",
    "add"
   ]
  },
  {
   "cell_type": "code",
   "execution_count": 8,
   "id": "078f8406",
   "metadata": {},
   "outputs": [],
   "source": [
    "add_lambda=reduce(lambda a,b:a+b,val)"
   ]
  },
  {
   "cell_type": "code",
   "execution_count": 9,
   "id": "2c07ed6e",
   "metadata": {},
   "outputs": [
    {
     "data": {
      "text/plain": [
       "28"
      ]
     },
     "execution_count": 9,
     "metadata": {},
     "output_type": "execute_result"
    }
   ],
   "source": [
    "add_lambda"
   ]
  },
  {
   "cell_type": "markdown",
   "id": "d79c930e",
   "metadata": {},
   "source": [
    "### Finding max value in the list using Reduce function"
   ]
  },
  {
   "cell_type": "code",
   "execution_count": 10,
   "id": "fa5f913b",
   "metadata": {},
   "outputs": [],
   "source": [
    "def maximum(a,b):\n",
    "    if a>b:\n",
    "        return a\n",
    "    else: \n",
    "        return b"
   ]
  },
  {
   "cell_type": "code",
   "execution_count": 11,
   "id": "8c4a3401",
   "metadata": {},
   "outputs": [],
   "source": [
    "val=[2,4,5,7,10,19,20,10]\n",
    "max1=reduce(maximum,val)"
   ]
  },
  {
   "cell_type": "code",
   "execution_count": 12,
   "id": "f2fb2d9c",
   "metadata": {},
   "outputs": [
    {
     "data": {
      "text/plain": [
       "20"
      ]
     },
     "execution_count": 12,
     "metadata": {},
     "output_type": "execute_result"
    }
   ],
   "source": [
    "max1"
   ]
  },
  {
   "cell_type": "code",
   "execution_count": 13,
   "id": "69c4d3d3",
   "metadata": {},
   "outputs": [],
   "source": [
    "max_lambda=reduce(lambda a,b:a if a>b else b,val)"
   ]
  },
  {
   "cell_type": "code",
   "execution_count": 14,
   "id": "9fb4eb50",
   "metadata": {},
   "outputs": [
    {
     "data": {
      "text/plain": [
       "20"
      ]
     },
     "execution_count": 14,
     "metadata": {},
     "output_type": "execute_result"
    }
   ],
   "source": [
    "max_lambda"
   ]
  },
  {
   "cell_type": "markdown",
   "id": "54393619",
   "metadata": {},
   "source": [
    "#### product of numbers"
   ]
  },
  {
   "cell_type": "code",
   "execution_count": 15,
   "id": "21193669",
   "metadata": {},
   "outputs": [
    {
     "name": "stdout",
     "output_type": "stream",
     "text": [
      "Product of elements: 120\n"
     ]
    }
   ],
   "source": [
    "numbers = [1, 2, 3, 4, 5]\n",
    "product = reduce(lambda x, y: x * y, numbers)\n",
    "\n",
    "print(\"Product of elements:\", product)\n"
   ]
  },
  {
   "cell_type": "code",
   "execution_count": null,
   "id": "b7350796",
   "metadata": {},
   "outputs": [],
   "source": []
  }
 ],
 "metadata": {
  "kernelspec": {
   "display_name": "Python 3 (ipykernel)",
   "language": "python",
   "name": "python3"
  },
  "language_info": {
   "codemirror_mode": {
    "name": "ipython",
    "version": 3
   },
   "file_extension": ".py",
   "mimetype": "text/x-python",
   "name": "python",
   "nbconvert_exporter": "python",
   "pygments_lexer": "ipython3",
   "version": "3.11.5"
  }
 },
 "nbformat": 4,
 "nbformat_minor": 5
}
