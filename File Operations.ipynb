{
 "cells": [
  {
   "cell_type": "markdown",
   "id": "456bbba3",
   "metadata": {},
   "source": [
    "# File operations in python"
   ]
  },
  {
   "cell_type": "code",
   "execution_count": null,
   "id": "58dd2e6b",
   "metadata": {},
   "outputs": [],
   "source": [
    "#syntx: open(r\"file_path\",\"mode\")"
   ]
  },
  {
   "cell_type": "markdown",
   "id": "5d6af00e",
   "metadata": {},
   "source": [
    "### Reading Text file()"
   ]
  },
  {
   "cell_type": "markdown",
   "id": "b4f064d2",
   "metadata": {},
   "source": [
    "##### Read mode"
   ]
  },
  {
   "cell_type": "markdown",
   "id": "bbcc6955",
   "metadata": {},
   "source": [
    "### with read mode we can only read the files that have already created"
   ]
  },
  {
   "cell_type": "code",
   "execution_count": 5,
   "id": "255216e6",
   "metadata": {},
   "outputs": [],
   "source": [
    "f1=open(r\"C:\\Users\\ipcs nagpur\\Desktop\\prathmesh.txt\",\"r\")"
   ]
  },
  {
   "cell_type": "code",
   "execution_count": 2,
   "id": "8bedf816",
   "metadata": {},
   "outputs": [
    {
     "data": {
      "text/plain": [
       "<_io.TextIOWrapper name='C:\\\\Users\\\\ipcs nagpur\\\\Desktop\\\\prathmesh.txt' mode='r' encoding='cp1252'>"
      ]
     },
     "execution_count": 2,
     "metadata": {},
     "output_type": "execute_result"
    }
   ],
   "source": [
    "f1"
   ]
  },
  {
   "cell_type": "code",
   "execution_count": 3,
   "id": "fe27b3ad",
   "metadata": {},
   "outputs": [
    {
     "name": "stdout",
     "output_type": "stream",
     "text": [
      "i am data scientist\n"
     ]
    }
   ],
   "source": [
    "print(f1.read())"
   ]
  },
  {
   "cell_type": "code",
   "execution_count": 6,
   "id": "1f5b8847",
   "metadata": {},
   "outputs": [
    {
     "name": "stdout",
     "output_type": "stream",
     "text": [
      "i am data scientist\n"
     ]
    }
   ],
   "source": [
    "for data in f1:\n",
    "    print(data)"
   ]
  },
  {
   "cell_type": "code",
   "execution_count": 12,
   "id": "e82a904d",
   "metadata": {},
   "outputs": [],
   "source": [
    "file=open(r\"C:\\Users\\ipcs\\Desktop\\file.txt\",\"r\")"
   ]
  },
  {
   "cell_type": "code",
   "execution_count": 6,
   "id": "db61ef6d",
   "metadata": {},
   "outputs": [
    {
     "data": {
      "text/plain": [
       "<_io.TextIOWrapper name='C:\\\\Users\\\\ipcs\\\\Desktop\\\\file.txt' mode='r' encoding='cp1252'>"
      ]
     },
     "execution_count": 6,
     "metadata": {},
     "output_type": "execute_result"
    }
   ],
   "source": [
    "file"
   ]
  },
  {
   "cell_type": "code",
   "execution_count": 7,
   "id": "3d60a04c",
   "metadata": {},
   "outputs": [
    {
     "name": "stdout",
     "output_type": "stream",
     "text": [
      "My name is prachi\n",
      "My name is sayli\n",
      "I am learning python\n"
     ]
    }
   ],
   "source": [
    "#using read function we can read the file\n",
    "print(file.read())  #for reading we need file in \"r\" mode"
   ]
  },
  {
   "cell_type": "markdown",
   "id": "dbf2dc1e",
   "metadata": {},
   "source": [
    "#### To extract set of characters"
   ]
  },
  {
   "cell_type": "code",
   "execution_count": 10,
   "id": "5b99b70d",
   "metadata": {
    "scrolled": true
   },
   "outputs": [
    {
     "data": {
      "text/plain": [
       "'My na'"
      ]
     },
     "execution_count": 10,
     "metadata": {},
     "output_type": "execute_result"
    }
   ],
   "source": [
    "file.read(5)  #Read only fist 5 char"
   ]
  },
  {
   "cell_type": "code",
   "execution_count": 14,
   "id": "41dca75f",
   "metadata": {},
   "outputs": [
    {
     "data": {
      "text/plain": [
       "'M'"
      ]
     },
     "execution_count": 14,
     "metadata": {},
     "output_type": "execute_result"
    }
   ],
   "source": [
    "file.read(1)"
   ]
  },
  {
   "cell_type": "code",
   "execution_count": null,
   "id": "e8e7038c",
   "metadata": {},
   "outputs": [],
   "source": [
    "#To read content of file we can also use for loop"
   ]
  },
  {
   "cell_type": "code",
   "execution_count": 3,
   "id": "3bda57b5",
   "metadata": {},
   "outputs": [
    {
     "name": "stdout",
     "output_type": "stream",
     "text": [
      "My name is prachi\n",
      "\n",
      "My name is sayli\n",
      "\n",
      "I am learning python\n"
     ]
    }
   ],
   "source": [
    "for content in file:\n",
    "    print(content)\n",
    "    "
   ]
  },
  {
   "cell_type": "code",
   "execution_count": null,
   "id": "2989b3fa",
   "metadata": {},
   "outputs": [],
   "source": []
  },
  {
   "cell_type": "markdown",
   "id": "4627133b",
   "metadata": {},
   "source": [
    "##### write mode"
   ]
  },
  {
   "cell_type": "code",
   "execution_count": 12,
   "id": "3d6b3df9",
   "metadata": {},
   "outputs": [],
   "source": [
    "f1=open(r\"C:\\Users\\ipcs nagpur\\Desktop\\prathmesh.txt\",\"w\")\n",
    "f1.write(\"i am learning file operations.\")\n",
    "f1.close()"
   ]
  },
  {
   "cell_type": "code",
   "execution_count": 13,
   "id": "6295209f",
   "metadata": {},
   "outputs": [],
   "source": [
    "f2=open(r\"C:\\Users\\ipcs nagpur\\Desktop\\prathmesh_new.txt\",\"w\")\n",
    "f2.write(\"Data analytics\")\n",
    "f2.close()"
   ]
  },
  {
   "cell_type": "markdown",
   "id": "f219dc2a",
   "metadata": {},
   "source": [
    "#### With write mode we can also create a new file and also edit that existing file"
   ]
  },
  {
   "cell_type": "code",
   "execution_count": 53,
   "id": "decb26dd",
   "metadata": {},
   "outputs": [],
   "source": [
    "#creating new file to the specified path\n",
    "new_file=open(r\"C:\\Users\\ipcs\\Desktop\\new_file.txt\",\"w\")"
   ]
  },
  {
   "cell_type": "code",
   "execution_count": 54,
   "id": "0d8927f6",
   "metadata": {},
   "outputs": [],
   "source": [
    "#Write\n",
    "new_file.write(\"This is new file created by write function\\n\")\n",
    "new_file.write(\"write fn allows us to write something in file\\n\")\n",
    "new_file.close()  #we need to close the file here "
   ]
  },
  {
   "cell_type": "code",
   "execution_count": 56,
   "id": "ab34e8f8",
   "metadata": {
    "scrolled": true
   },
   "outputs": [],
   "source": [
    "file=open(r\"C:\\Users\\ipcs\\Desktop\\new_file.txt\",\"r\")"
   ]
  },
  {
   "cell_type": "code",
   "execution_count": 57,
   "id": "57807652",
   "metadata": {},
   "outputs": [
    {
     "name": "stdout",
     "output_type": "stream",
     "text": [
      "This is new file created by write function\n",
      "write fn allows us to write something in file\n",
      "\n"
     ]
    }
   ],
   "source": [
    "print(file.read())"
   ]
  },
  {
   "cell_type": "code",
   "execution_count": 59,
   "id": "041c737b",
   "metadata": {},
   "outputs": [],
   "source": [
    "#we need  write mode ton write in file again\n",
    "new_file=open(r\"C:\\Users\\ipcs\\Desktop\\new_file.txt\",\"w\")"
   ]
  },
  {
   "cell_type": "code",
   "execution_count": 60,
   "id": "e35974cc",
   "metadata": {},
   "outputs": [],
   "source": [
    "new_file.write(\"I am learning file operations\\n\")\n",
    "new_file.close()  #we need to close the file here "
   ]
  },
  {
   "cell_type": "code",
   "execution_count": 61,
   "id": "3095399d",
   "metadata": {},
   "outputs": [],
   "source": [
    "file=open(r\"C:\\Users\\ipcs\\Desktop\\new_file.txt\",\"r\")"
   ]
  },
  {
   "cell_type": "code",
   "execution_count": 62,
   "id": "bfb64ab3",
   "metadata": {},
   "outputs": [
    {
     "data": {
      "text/plain": [
       "'I am learning file operations\\n'"
      ]
     },
     "execution_count": 62,
     "metadata": {},
     "output_type": "execute_result"
    }
   ],
   "source": [
    "file.read()"
   ]
  },
  {
   "cell_type": "markdown",
   "id": "a6f5564c",
   "metadata": {},
   "source": [
    "### Append mode"
   ]
  },
  {
   "cell_type": "code",
   "execution_count": 14,
   "id": "d7baeafa",
   "metadata": {},
   "outputs": [],
   "source": [
    "f2=open(r\"C:\\Users\\ipcs nagpur\\Desktop\\prathmesh_new.txt\",\"a\")\n",
    "f2.write(\"python and data science\")\n",
    "f2.close()"
   ]
  },
  {
   "cell_type": "code",
   "execution_count": 15,
   "id": "6589a30b",
   "metadata": {},
   "outputs": [],
   "source": [
    "f2=open(r\"C:\\Users\\ipcs nagpur\\Desktop\\prathmesh_new.txt\",\"a\")\n",
    "f2.write(\"\\npython and data science\")\n",
    "f2.close()"
   ]
  },
  {
   "cell_type": "code",
   "execution_count": null,
   "id": "a5cf296c",
   "metadata": {},
   "outputs": [],
   "source": []
  },
  {
   "cell_type": "markdown",
   "id": "ab269b67",
   "metadata": {},
   "source": [
    "#### To add data to existing file"
   ]
  },
  {
   "cell_type": "code",
   "execution_count": 64,
   "id": "88289aad",
   "metadata": {},
   "outputs": [],
   "source": [
    "file=open(r\"C:\\Users\\ipcs\\Desktop\\new_file.txt\",\"a\")"
   ]
  },
  {
   "cell_type": "code",
   "execution_count": 65,
   "id": "ed733736",
   "metadata": {},
   "outputs": [
    {
     "data": {
      "text/plain": [
       "19"
      ]
     },
     "execution_count": 65,
     "metadata": {},
     "output_type": "execute_result"
    }
   ],
   "source": [
    "file.write(\"Adding data to file\")\n"
   ]
  },
  {
   "cell_type": "code",
   "execution_count": 66,
   "id": "43d2673e",
   "metadata": {},
   "outputs": [],
   "source": [
    "file.close()"
   ]
  },
  {
   "cell_type": "code",
   "execution_count": 67,
   "id": "c9ee622d",
   "metadata": {},
   "outputs": [],
   "source": [
    "file=open(r\"C:\\Users\\ipcs\\Desktop\\new_file.txt\",\"a\")"
   ]
  },
  {
   "cell_type": "code",
   "execution_count": 68,
   "id": "98c68a1c",
   "metadata": {},
   "outputs": [],
   "source": [
    "file.write(\"Adding more data\")\n",
    "file.close()"
   ]
  },
  {
   "cell_type": "markdown",
   "id": "9fd3aa33",
   "metadata": {},
   "source": [
    "# Using With statement"
   ]
  },
  {
   "cell_type": "code",
   "execution_count": 69,
   "id": "b5afc598",
   "metadata": {},
   "outputs": [],
   "source": [
    "l=[\"My name is Gauri\\n\",\"I am here to learn Data Science\\n\"]\n",
    "with open(r\"C:\\Users\\ipcs\\Desktop\\with_statement.txt\",\"w\") as file1:\n",
    "    file1.write(\"Hello\\n\")\n",
    "    file1.writelines(l)   # to add multiple lines"
   ]
  },
  {
   "cell_type": "code",
   "execution_count": 70,
   "id": "47f410bd",
   "metadata": {},
   "outputs": [],
   "source": [
    "with open(r\"C:\\Users\\ipcs\\Desktop\\with_statement.txt\",\"a\") as file1:\n",
    "    file1.write(\"i love coding\\n\")\n"
   ]
  },
  {
   "cell_type": "code",
   "execution_count": 71,
   "id": "a955d33f",
   "metadata": {},
   "outputs": [
    {
     "name": "stdout",
     "output_type": "stream",
     "text": [
      "Hello\n",
      "My name is Gauri\n",
      "I am here to learn Data Science\n",
      "i love coding\n",
      "\n"
     ]
    }
   ],
   "source": [
    "with open(r\"C:\\Users\\ipcs\\Desktop\\with_statement.txt\",\"r+\") as file1:\n",
    "    print(file1.read())"
   ]
  },
  {
   "cell_type": "markdown",
   "id": "446b2456",
   "metadata": {},
   "source": [
    "### Reading excel files using pandas module"
   ]
  },
  {
   "cell_type": "code",
   "execution_count": 72,
   "id": "b8b5e665",
   "metadata": {},
   "outputs": [],
   "source": [
    "#first we have to import pandas module\n",
    "import pandas as pd"
   ]
  },
  {
   "cell_type": "code",
   "execution_count": 73,
   "id": "f503146c",
   "metadata": {},
   "outputs": [],
   "source": [
    "data=pd.read_excel(r\"C:\\Users\\ipcs\\Downloads\\Excel Sample Data.xlsx\")"
   ]
  },
  {
   "cell_type": "code",
   "execution_count": 74,
   "id": "997ccb2d",
   "metadata": {},
   "outputs": [
    {
     "data": {
      "text/html": [
       "<div>\n",
       "<style scoped>\n",
       "    .dataframe tbody tr th:only-of-type {\n",
       "        vertical-align: middle;\n",
       "    }\n",
       "\n",
       "    .dataframe tbody tr th {\n",
       "        vertical-align: top;\n",
       "    }\n",
       "\n",
       "    .dataframe thead th {\n",
       "        text-align: right;\n",
       "    }\n",
       "</style>\n",
       "<table border=\"1\" class=\"dataframe\">\n",
       "  <thead>\n",
       "    <tr style=\"text-align: right;\">\n",
       "      <th></th>\n",
       "      <th>EEID</th>\n",
       "      <th>Full Name</th>\n",
       "      <th>Job Title</th>\n",
       "      <th>Department</th>\n",
       "      <th>Business Unit</th>\n",
       "      <th>Gender</th>\n",
       "      <th>Ethnicity</th>\n",
       "      <th>Age</th>\n",
       "      <th>Hire Date</th>\n",
       "      <th>Annual Salary</th>\n",
       "      <th>Bonus %</th>\n",
       "      <th>Country</th>\n",
       "      <th>City</th>\n",
       "      <th>Exit Date</th>\n",
       "    </tr>\n",
       "  </thead>\n",
       "  <tbody>\n",
       "    <tr>\n",
       "      <th>0</th>\n",
       "      <td>E02387</td>\n",
       "      <td>Emily Davis</td>\n",
       "      <td>Sr. Manger</td>\n",
       "      <td>IT</td>\n",
       "      <td>Research &amp; Development</td>\n",
       "      <td>Female</td>\n",
       "      <td>Black</td>\n",
       "      <td>55</td>\n",
       "      <td>2016-04-08</td>\n",
       "      <td>141604</td>\n",
       "      <td>0.15</td>\n",
       "      <td>United States</td>\n",
       "      <td>Seattle</td>\n",
       "      <td>2021-10-16</td>\n",
       "    </tr>\n",
       "    <tr>\n",
       "      <th>1</th>\n",
       "      <td>E04105</td>\n",
       "      <td>Theodore Dinh</td>\n",
       "      <td>Technical Architect</td>\n",
       "      <td>IT</td>\n",
       "      <td>Manufacturing</td>\n",
       "      <td>Male</td>\n",
       "      <td>Asian</td>\n",
       "      <td>59</td>\n",
       "      <td>1997-11-29</td>\n",
       "      <td>99975</td>\n",
       "      <td>0.00</td>\n",
       "      <td>China</td>\n",
       "      <td>Chongqing</td>\n",
       "      <td>NaT</td>\n",
       "    </tr>\n",
       "    <tr>\n",
       "      <th>2</th>\n",
       "      <td>E02572</td>\n",
       "      <td>Luna Sanders</td>\n",
       "      <td>Director</td>\n",
       "      <td>Finance</td>\n",
       "      <td>Speciality Products</td>\n",
       "      <td>Female</td>\n",
       "      <td>Caucasian</td>\n",
       "      <td>50</td>\n",
       "      <td>2006-10-26</td>\n",
       "      <td>163099</td>\n",
       "      <td>0.20</td>\n",
       "      <td>United States</td>\n",
       "      <td>Chicago</td>\n",
       "      <td>NaT</td>\n",
       "    </tr>\n",
       "    <tr>\n",
       "      <th>3</th>\n",
       "      <td>E02832</td>\n",
       "      <td>Penelope Jordan</td>\n",
       "      <td>Computer Systems Manager</td>\n",
       "      <td>IT</td>\n",
       "      <td>Manufacturing</td>\n",
       "      <td>Female</td>\n",
       "      <td>Caucasian</td>\n",
       "      <td>26</td>\n",
       "      <td>2019-09-27</td>\n",
       "      <td>84913</td>\n",
       "      <td>0.07</td>\n",
       "      <td>United States</td>\n",
       "      <td>Chicago</td>\n",
       "      <td>NaT</td>\n",
       "    </tr>\n",
       "    <tr>\n",
       "      <th>4</th>\n",
       "      <td>E01639</td>\n",
       "      <td>Austin Vo</td>\n",
       "      <td>Sr. Analyst</td>\n",
       "      <td>Finance</td>\n",
       "      <td>Manufacturing</td>\n",
       "      <td>Male</td>\n",
       "      <td>Asian</td>\n",
       "      <td>55</td>\n",
       "      <td>1995-11-20</td>\n",
       "      <td>95409</td>\n",
       "      <td>0.00</td>\n",
       "      <td>United States</td>\n",
       "      <td>Phoenix</td>\n",
       "      <td>NaT</td>\n",
       "    </tr>\n",
       "    <tr>\n",
       "      <th>...</th>\n",
       "      <td>...</td>\n",
       "      <td>...</td>\n",
       "      <td>...</td>\n",
       "      <td>...</td>\n",
       "      <td>...</td>\n",
       "      <td>...</td>\n",
       "      <td>...</td>\n",
       "      <td>...</td>\n",
       "      <td>...</td>\n",
       "      <td>...</td>\n",
       "      <td>...</td>\n",
       "      <td>...</td>\n",
       "      <td>...</td>\n",
       "      <td>...</td>\n",
       "    </tr>\n",
       "    <tr>\n",
       "      <th>995</th>\n",
       "      <td>E03094</td>\n",
       "      <td>Wesley Young</td>\n",
       "      <td>Sr. Analyst</td>\n",
       "      <td>Marketing</td>\n",
       "      <td>Speciality Products</td>\n",
       "      <td>Male</td>\n",
       "      <td>Caucasian</td>\n",
       "      <td>33</td>\n",
       "      <td>2016-09-18</td>\n",
       "      <td>98427</td>\n",
       "      <td>0.00</td>\n",
       "      <td>United States</td>\n",
       "      <td>Columbus</td>\n",
       "      <td>NaT</td>\n",
       "    </tr>\n",
       "    <tr>\n",
       "      <th>996</th>\n",
       "      <td>E01909</td>\n",
       "      <td>Lillian Khan</td>\n",
       "      <td>Analyst</td>\n",
       "      <td>Finance</td>\n",
       "      <td>Speciality Products</td>\n",
       "      <td>Female</td>\n",
       "      <td>Asian</td>\n",
       "      <td>44</td>\n",
       "      <td>2010-05-31</td>\n",
       "      <td>47387</td>\n",
       "      <td>0.00</td>\n",
       "      <td>China</td>\n",
       "      <td>Chengdu</td>\n",
       "      <td>2018-01-08</td>\n",
       "    </tr>\n",
       "    <tr>\n",
       "      <th>997</th>\n",
       "      <td>E04398</td>\n",
       "      <td>Oliver Yang</td>\n",
       "      <td>Director</td>\n",
       "      <td>Marketing</td>\n",
       "      <td>Speciality Products</td>\n",
       "      <td>Male</td>\n",
       "      <td>Asian</td>\n",
       "      <td>31</td>\n",
       "      <td>2019-06-10</td>\n",
       "      <td>176710</td>\n",
       "      <td>0.15</td>\n",
       "      <td>United States</td>\n",
       "      <td>Miami</td>\n",
       "      <td>NaT</td>\n",
       "    </tr>\n",
       "    <tr>\n",
       "      <th>998</th>\n",
       "      <td>E02521</td>\n",
       "      <td>Lily Nguyen</td>\n",
       "      <td>Sr. Analyst</td>\n",
       "      <td>Finance</td>\n",
       "      <td>Speciality Products</td>\n",
       "      <td>Female</td>\n",
       "      <td>Asian</td>\n",
       "      <td>33</td>\n",
       "      <td>2012-01-28</td>\n",
       "      <td>95960</td>\n",
       "      <td>0.00</td>\n",
       "      <td>China</td>\n",
       "      <td>Chengdu</td>\n",
       "      <td>NaT</td>\n",
       "    </tr>\n",
       "    <tr>\n",
       "      <th>999</th>\n",
       "      <td>E03545</td>\n",
       "      <td>Sofia Cheng</td>\n",
       "      <td>Vice President</td>\n",
       "      <td>Accounting</td>\n",
       "      <td>Corporate</td>\n",
       "      <td>Female</td>\n",
       "      <td>Asian</td>\n",
       "      <td>63</td>\n",
       "      <td>2020-07-26</td>\n",
       "      <td>216195</td>\n",
       "      <td>0.31</td>\n",
       "      <td>United States</td>\n",
       "      <td>Miami</td>\n",
       "      <td>NaT</td>\n",
       "    </tr>\n",
       "  </tbody>\n",
       "</table>\n",
       "<p>1000 rows × 14 columns</p>\n",
       "</div>"
      ],
      "text/plain": [
       "       EEID        Full Name                 Job Title  Department  \\\n",
       "0    E02387      Emily Davis                Sr. Manger          IT   \n",
       "1    E04105    Theodore Dinh       Technical Architect          IT   \n",
       "2    E02572     Luna Sanders                  Director     Finance   \n",
       "3    E02832  Penelope Jordan  Computer Systems Manager          IT   \n",
       "4    E01639        Austin Vo               Sr. Analyst     Finance   \n",
       "..      ...              ...                       ...         ...   \n",
       "995  E03094     Wesley Young               Sr. Analyst   Marketing   \n",
       "996  E01909     Lillian Khan                   Analyst     Finance   \n",
       "997  E04398      Oliver Yang                  Director   Marketing   \n",
       "998  E02521      Lily Nguyen               Sr. Analyst     Finance   \n",
       "999  E03545      Sofia Cheng            Vice President  Accounting   \n",
       "\n",
       "              Business Unit  Gender  Ethnicity  Age  Hire Date  Annual Salary  \\\n",
       "0    Research & Development  Female      Black   55 2016-04-08         141604   \n",
       "1             Manufacturing    Male      Asian   59 1997-11-29          99975   \n",
       "2       Speciality Products  Female  Caucasian   50 2006-10-26         163099   \n",
       "3             Manufacturing  Female  Caucasian   26 2019-09-27          84913   \n",
       "4             Manufacturing    Male      Asian   55 1995-11-20          95409   \n",
       "..                      ...     ...        ...  ...        ...            ...   \n",
       "995     Speciality Products    Male  Caucasian   33 2016-09-18          98427   \n",
       "996     Speciality Products  Female      Asian   44 2010-05-31          47387   \n",
       "997     Speciality Products    Male      Asian   31 2019-06-10         176710   \n",
       "998     Speciality Products  Female      Asian   33 2012-01-28          95960   \n",
       "999               Corporate  Female      Asian   63 2020-07-26         216195   \n",
       "\n",
       "     Bonus %        Country       City  Exit Date  \n",
       "0       0.15  United States    Seattle 2021-10-16  \n",
       "1       0.00          China  Chongqing        NaT  \n",
       "2       0.20  United States    Chicago        NaT  \n",
       "3       0.07  United States    Chicago        NaT  \n",
       "4       0.00  United States    Phoenix        NaT  \n",
       "..       ...            ...        ...        ...  \n",
       "995     0.00  United States   Columbus        NaT  \n",
       "996     0.00          China    Chengdu 2018-01-08  \n",
       "997     0.15  United States      Miami        NaT  \n",
       "998     0.00          China    Chengdu        NaT  \n",
       "999     0.31  United States      Miami        NaT  \n",
       "\n",
       "[1000 rows x 14 columns]"
      ]
     },
     "execution_count": 74,
     "metadata": {},
     "output_type": "execute_result"
    }
   ],
   "source": [
    "data"
   ]
  },
  {
   "cell_type": "markdown",
   "id": "1f611b23",
   "metadata": {},
   "source": [
    "## Reading csv files using pandas module"
   ]
  },
  {
   "cell_type": "code",
   "execution_count": 101,
   "id": "d8dd3911",
   "metadata": {},
   "outputs": [],
   "source": [
    "import pandas as pd"
   ]
  },
  {
   "cell_type": "code",
   "execution_count": 106,
   "id": "8fda2d6a",
   "metadata": {},
   "outputs": [],
   "source": [
    "data_csv=pd.read_csv(r\"C:\\Users\\ipcs\\Downloads\\Excel1.csv\")"
   ]
  },
  {
   "cell_type": "code",
   "execution_count": 107,
   "id": "b85c8f67",
   "metadata": {
    "scrolled": true
   },
   "outputs": [
    {
     "data": {
      "text/html": [
       "<div>\n",
       "<style scoped>\n",
       "    .dataframe tbody tr th:only-of-type {\n",
       "        vertical-align: middle;\n",
       "    }\n",
       "\n",
       "    .dataframe tbody tr th {\n",
       "        vertical-align: top;\n",
       "    }\n",
       "\n",
       "    .dataframe thead th {\n",
       "        text-align: right;\n",
       "    }\n",
       "</style>\n",
       "<table border=\"1\" class=\"dataframe\">\n",
       "  <thead>\n",
       "    <tr style=\"text-align: right;\">\n",
       "      <th></th>\n",
       "      <th>cellphone_id</th>\n",
       "      <th>brand</th>\n",
       "      <th>model</th>\n",
       "      <th>operating system</th>\n",
       "      <th>internal memory</th>\n",
       "      <th>RAM</th>\n",
       "      <th>performance</th>\n",
       "      <th>main camera</th>\n",
       "      <th>selfie camera</th>\n",
       "      <th>battery size</th>\n",
       "      <th>screen size</th>\n",
       "      <th>weight</th>\n",
       "      <th>price</th>\n",
       "      <th>release date</th>\n",
       "    </tr>\n",
       "  </thead>\n",
       "  <tbody>\n",
       "    <tr>\n",
       "      <th>0</th>\n",
       "      <td>0</td>\n",
       "      <td>Apple</td>\n",
       "      <td>iPhone SE (2022)</td>\n",
       "      <td>iOS</td>\n",
       "      <td>128</td>\n",
       "      <td>4</td>\n",
       "      <td>7.23</td>\n",
       "      <td>12</td>\n",
       "      <td>7</td>\n",
       "      <td>2018</td>\n",
       "      <td>4.7</td>\n",
       "      <td>144</td>\n",
       "      <td>429</td>\n",
       "      <td>18/03/2022</td>\n",
       "    </tr>\n",
       "    <tr>\n",
       "      <th>1</th>\n",
       "      <td>1</td>\n",
       "      <td>Apple</td>\n",
       "      <td>iPhone 13 Mini</td>\n",
       "      <td>iOS</td>\n",
       "      <td>128</td>\n",
       "      <td>4</td>\n",
       "      <td>7.72</td>\n",
       "      <td>12</td>\n",
       "      <td>12</td>\n",
       "      <td>2438</td>\n",
       "      <td>5.4</td>\n",
       "      <td>141</td>\n",
       "      <td>699</td>\n",
       "      <td>24/09/2021</td>\n",
       "    </tr>\n",
       "    <tr>\n",
       "      <th>2</th>\n",
       "      <td>2</td>\n",
       "      <td>Apple</td>\n",
       "      <td>iPhone 13</td>\n",
       "      <td>iOS</td>\n",
       "      <td>128</td>\n",
       "      <td>4</td>\n",
       "      <td>7.75</td>\n",
       "      <td>12</td>\n",
       "      <td>12</td>\n",
       "      <td>3240</td>\n",
       "      <td>6.1</td>\n",
       "      <td>174</td>\n",
       "      <td>699</td>\n",
       "      <td>24/09/2021</td>\n",
       "    </tr>\n",
       "    <tr>\n",
       "      <th>3</th>\n",
       "      <td>3</td>\n",
       "      <td>Apple</td>\n",
       "      <td>iPhone 13 Pro</td>\n",
       "      <td>iOS</td>\n",
       "      <td>256</td>\n",
       "      <td>6</td>\n",
       "      <td>7.94</td>\n",
       "      <td>12</td>\n",
       "      <td>12</td>\n",
       "      <td>3065</td>\n",
       "      <td>6.1</td>\n",
       "      <td>204</td>\n",
       "      <td>999</td>\n",
       "      <td>24/09/2021</td>\n",
       "    </tr>\n",
       "    <tr>\n",
       "      <th>4</th>\n",
       "      <td>4</td>\n",
       "      <td>Apple</td>\n",
       "      <td>iPhone 13 Pro Max</td>\n",
       "      <td>iOS</td>\n",
       "      <td>256</td>\n",
       "      <td>6</td>\n",
       "      <td>8.01</td>\n",
       "      <td>12</td>\n",
       "      <td>12</td>\n",
       "      <td>4352</td>\n",
       "      <td>6.7</td>\n",
       "      <td>240</td>\n",
       "      <td>1199</td>\n",
       "      <td>24/09/2021</td>\n",
       "    </tr>\n",
       "    <tr>\n",
       "      <th>5</th>\n",
       "      <td>5</td>\n",
       "      <td>Apple</td>\n",
       "      <td>iPhone XR</td>\n",
       "      <td>iOS</td>\n",
       "      <td>64</td>\n",
       "      <td>3</td>\n",
       "      <td>4.22</td>\n",
       "      <td>12</td>\n",
       "      <td>7</td>\n",
       "      <td>2942</td>\n",
       "      <td>6.1</td>\n",
       "      <td>194</td>\n",
       "      <td>236</td>\n",
       "      <td>26/10/2018</td>\n",
       "    </tr>\n",
       "    <tr>\n",
       "      <th>6</th>\n",
       "      <td>6</td>\n",
       "      <td>Asus</td>\n",
       "      <td>Zenfone 8</td>\n",
       "      <td>Android</td>\n",
       "      <td>128</td>\n",
       "      <td>8</td>\n",
       "      <td>6.76</td>\n",
       "      <td>64</td>\n",
       "      <td>12</td>\n",
       "      <td>4000</td>\n",
       "      <td>5.9</td>\n",
       "      <td>169</td>\n",
       "      <td>599</td>\n",
       "      <td>12/05/2021</td>\n",
       "    </tr>\n",
       "    <tr>\n",
       "      <th>7</th>\n",
       "      <td>7</td>\n",
       "      <td>Samsung</td>\n",
       "      <td>Galaxy A13</td>\n",
       "      <td>Android</td>\n",
       "      <td>32</td>\n",
       "      <td>3</td>\n",
       "      <td>1.36</td>\n",
       "      <td>50</td>\n",
       "      <td>8</td>\n",
       "      <td>5000</td>\n",
       "      <td>6.6</td>\n",
       "      <td>196</td>\n",
       "      <td>154</td>\n",
       "      <td>23/03/2022</td>\n",
       "    </tr>\n",
       "    <tr>\n",
       "      <th>8</th>\n",
       "      <td>8</td>\n",
       "      <td>Samsung</td>\n",
       "      <td>Galaxy A32</td>\n",
       "      <td>Android</td>\n",
       "      <td>64</td>\n",
       "      <td>4</td>\n",
       "      <td>2.20</td>\n",
       "      <td>48</td>\n",
       "      <td>13</td>\n",
       "      <td>5000</td>\n",
       "      <td>6.5</td>\n",
       "      <td>205</td>\n",
       "      <td>199</td>\n",
       "      <td>22/01/2021</td>\n",
       "    </tr>\n",
       "    <tr>\n",
       "      <th>9</th>\n",
       "      <td>9</td>\n",
       "      <td>Samsung</td>\n",
       "      <td>Galaxy A53</td>\n",
       "      <td>Android</td>\n",
       "      <td>128</td>\n",
       "      <td>6</td>\n",
       "      <td>3.79</td>\n",
       "      <td>64</td>\n",
       "      <td>32</td>\n",
       "      <td>5000</td>\n",
       "      <td>6.5</td>\n",
       "      <td>189</td>\n",
       "      <td>312</td>\n",
       "      <td>24/03/2022</td>\n",
       "    </tr>\n",
       "    <tr>\n",
       "      <th>10</th>\n",
       "      <td>10</td>\n",
       "      <td>Samsung</td>\n",
       "      <td>Galaxy S22</td>\n",
       "      <td>Android</td>\n",
       "      <td>128</td>\n",
       "      <td>8</td>\n",
       "      <td>8.81</td>\n",
       "      <td>50</td>\n",
       "      <td>10</td>\n",
       "      <td>3700</td>\n",
       "      <td>6.1</td>\n",
       "      <td>167</td>\n",
       "      <td>528</td>\n",
       "      <td>25/02/2022</td>\n",
       "    </tr>\n",
       "    <tr>\n",
       "      <th>11</th>\n",
       "      <td>11</td>\n",
       "      <td>Samsung</td>\n",
       "      <td>Galaxy S22 Plus</td>\n",
       "      <td>Android</td>\n",
       "      <td>128</td>\n",
       "      <td>8</td>\n",
       "      <td>7.22</td>\n",
       "      <td>50</td>\n",
       "      <td>10</td>\n",
       "      <td>4500</td>\n",
       "      <td>6.6</td>\n",
       "      <td>195</td>\n",
       "      <td>899</td>\n",
       "      <td>25/02/2022</td>\n",
       "    </tr>\n",
       "    <tr>\n",
       "      <th>12</th>\n",
       "      <td>12</td>\n",
       "      <td>Samsung</td>\n",
       "      <td>Galaxy S22 Ultra</td>\n",
       "      <td>Android</td>\n",
       "      <td>128</td>\n",
       "      <td>8</td>\n",
       "      <td>9.68</td>\n",
       "      <td>108</td>\n",
       "      <td>40</td>\n",
       "      <td>5000</td>\n",
       "      <td>6.8</td>\n",
       "      <td>228</td>\n",
       "      <td>840</td>\n",
       "      <td>25/02/2022</td>\n",
       "    </tr>\n",
       "    <tr>\n",
       "      <th>13</th>\n",
       "      <td>13</td>\n",
       "      <td>Samsung</td>\n",
       "      <td>Galaxy Z Flip 3</td>\n",
       "      <td>Android</td>\n",
       "      <td>128</td>\n",
       "      <td>8</td>\n",
       "      <td>5.96</td>\n",
       "      <td>12</td>\n",
       "      <td>10</td>\n",
       "      <td>3300</td>\n",
       "      <td>6.7</td>\n",
       "      <td>183</td>\n",
       "      <td>899</td>\n",
       "      <td>11/08/2021</td>\n",
       "    </tr>\n",
       "    <tr>\n",
       "      <th>14</th>\n",
       "      <td>14</td>\n",
       "      <td>Samsung</td>\n",
       "      <td>Galaxy Z Fold 3</td>\n",
       "      <td>Android</td>\n",
       "      <td>256</td>\n",
       "      <td>12</td>\n",
       "      <td>6.35</td>\n",
       "      <td>12</td>\n",
       "      <td>4</td>\n",
       "      <td>4400</td>\n",
       "      <td>7.6</td>\n",
       "      <td>271</td>\n",
       "      <td>1799</td>\n",
       "      <td>11/08/2021</td>\n",
       "    </tr>\n",
       "    <tr>\n",
       "      <th>15</th>\n",
       "      <td>15</td>\n",
       "      <td>Google</td>\n",
       "      <td>Pixel 6</td>\n",
       "      <td>Android</td>\n",
       "      <td>128</td>\n",
       "      <td>8</td>\n",
       "      <td>6.76</td>\n",
       "      <td>50</td>\n",
       "      <td>8</td>\n",
       "      <td>4614</td>\n",
       "      <td>6.4</td>\n",
       "      <td>207</td>\n",
       "      <td>499</td>\n",
       "      <td>28/10/2021</td>\n",
       "    </tr>\n",
       "    <tr>\n",
       "      <th>16</th>\n",
       "      <td>16</td>\n",
       "      <td>Google</td>\n",
       "      <td>Pixel 6a</td>\n",
       "      <td>Android</td>\n",
       "      <td>128</td>\n",
       "      <td>6</td>\n",
       "      <td>6.88</td>\n",
       "      <td>12</td>\n",
       "      <td>8</td>\n",
       "      <td>4410</td>\n",
       "      <td>6.1</td>\n",
       "      <td>178</td>\n",
       "      <td>449</td>\n",
       "      <td>21/07/2021</td>\n",
       "    </tr>\n",
       "    <tr>\n",
       "      <th>17</th>\n",
       "      <td>17</td>\n",
       "      <td>Google</td>\n",
       "      <td>Pixel 6 Pro</td>\n",
       "      <td>Android</td>\n",
       "      <td>128</td>\n",
       "      <td>12</td>\n",
       "      <td>7.19</td>\n",
       "      <td>50</td>\n",
       "      <td>11</td>\n",
       "      <td>5003</td>\n",
       "      <td>6.7</td>\n",
       "      <td>210</td>\n",
       "      <td>699</td>\n",
       "      <td>28/10/2021</td>\n",
       "    </tr>\n",
       "    <tr>\n",
       "      <th>18</th>\n",
       "      <td>18</td>\n",
       "      <td>OnePlus</td>\n",
       "      <td>Nord N20</td>\n",
       "      <td>Android</td>\n",
       "      <td>128</td>\n",
       "      <td>6</td>\n",
       "      <td>3.80</td>\n",
       "      <td>64</td>\n",
       "      <td>16</td>\n",
       "      <td>4500</td>\n",
       "      <td>6.4</td>\n",
       "      <td>173</td>\n",
       "      <td>299</td>\n",
       "      <td>28/04/2022</td>\n",
       "    </tr>\n",
       "    <tr>\n",
       "      <th>19</th>\n",
       "      <td>19</td>\n",
       "      <td>OnePlus</td>\n",
       "      <td>Nord 2T</td>\n",
       "      <td>Android</td>\n",
       "      <td>128</td>\n",
       "      <td>8</td>\n",
       "      <td>6.04</td>\n",
       "      <td>50</td>\n",
       "      <td>32</td>\n",
       "      <td>4500</td>\n",
       "      <td>6.4</td>\n",
       "      <td>190</td>\n",
       "      <td>379</td>\n",
       "      <td>21/05/2022</td>\n",
       "    </tr>\n",
       "    <tr>\n",
       "      <th>20</th>\n",
       "      <td>20</td>\n",
       "      <td>OnePlus</td>\n",
       "      <td>10 Pro</td>\n",
       "      <td>Android</td>\n",
       "      <td>128</td>\n",
       "      <td>8</td>\n",
       "      <td>8.86</td>\n",
       "      <td>48</td>\n",
       "      <td>32</td>\n",
       "      <td>5000</td>\n",
       "      <td>6.7</td>\n",
       "      <td>201</td>\n",
       "      <td>780</td>\n",
       "      <td>11/01/2022</td>\n",
       "    </tr>\n",
       "    <tr>\n",
       "      <th>21</th>\n",
       "      <td>21</td>\n",
       "      <td>OnePlus</td>\n",
       "      <td>10T</td>\n",
       "      <td>Android</td>\n",
       "      <td>128</td>\n",
       "      <td>8</td>\n",
       "      <td>11.00</td>\n",
       "      <td>50</td>\n",
       "      <td>16</td>\n",
       "      <td>4800</td>\n",
       "      <td>6.7</td>\n",
       "      <td>204</td>\n",
       "      <td>649</td>\n",
       "      <td>06/08/2022</td>\n",
       "    </tr>\n",
       "    <tr>\n",
       "      <th>22</th>\n",
       "      <td>22</td>\n",
       "      <td>Oppo</td>\n",
       "      <td>Find X5 Pro</td>\n",
       "      <td>Android</td>\n",
       "      <td>256</td>\n",
       "      <td>12</td>\n",
       "      <td>10.12</td>\n",
       "      <td>50</td>\n",
       "      <td>32</td>\n",
       "      <td>5000</td>\n",
       "      <td>6.7</td>\n",
       "      <td>218</td>\n",
       "      <td>987</td>\n",
       "      <td>14/03/2022</td>\n",
       "    </tr>\n",
       "    <tr>\n",
       "      <th>23</th>\n",
       "      <td>23</td>\n",
       "      <td>Vivo</td>\n",
       "      <td>X80 Pro</td>\n",
       "      <td>Android</td>\n",
       "      <td>256</td>\n",
       "      <td>8</td>\n",
       "      <td>9.81</td>\n",
       "      <td>50</td>\n",
       "      <td>32</td>\n",
       "      <td>4700</td>\n",
       "      <td>6.7</td>\n",
       "      <td>215</td>\n",
       "      <td>872</td>\n",
       "      <td>29/04/2022</td>\n",
       "    </tr>\n",
       "    <tr>\n",
       "      <th>24</th>\n",
       "      <td>24</td>\n",
       "      <td>Xiaomi</td>\n",
       "      <td>Redmi Note 11</td>\n",
       "      <td>Android</td>\n",
       "      <td>128</td>\n",
       "      <td>4</td>\n",
       "      <td>2.44</td>\n",
       "      <td>50</td>\n",
       "      <td>13</td>\n",
       "      <td>5000</td>\n",
       "      <td>6.4</td>\n",
       "      <td>179</td>\n",
       "      <td>174</td>\n",
       "      <td>09/02/2022</td>\n",
       "    </tr>\n",
       "    <tr>\n",
       "      <th>25</th>\n",
       "      <td>25</td>\n",
       "      <td>Xiaomi</td>\n",
       "      <td>11T Pro</td>\n",
       "      <td>Android</td>\n",
       "      <td>256</td>\n",
       "      <td>8</td>\n",
       "      <td>7.59</td>\n",
       "      <td>108</td>\n",
       "      <td>16</td>\n",
       "      <td>5000</td>\n",
       "      <td>6.6</td>\n",
       "      <td>204</td>\n",
       "      <td>435</td>\n",
       "      <td>05/10/2021</td>\n",
       "    </tr>\n",
       "    <tr>\n",
       "      <th>26</th>\n",
       "      <td>26</td>\n",
       "      <td>Xiaomi</td>\n",
       "      <td>12 Pro</td>\n",
       "      <td>Android</td>\n",
       "      <td>128</td>\n",
       "      <td>8</td>\n",
       "      <td>9.85</td>\n",
       "      <td>50</td>\n",
       "      <td>32</td>\n",
       "      <td>4600</td>\n",
       "      <td>6.7</td>\n",
       "      <td>204</td>\n",
       "      <td>618</td>\n",
       "      <td>31/12/2021</td>\n",
       "    </tr>\n",
       "    <tr>\n",
       "      <th>27</th>\n",
       "      <td>27</td>\n",
       "      <td>Xiaomi</td>\n",
       "      <td>Poco F4</td>\n",
       "      <td>Android</td>\n",
       "      <td>128</td>\n",
       "      <td>8</td>\n",
       "      <td>6.98</td>\n",
       "      <td>64</td>\n",
       "      <td>20</td>\n",
       "      <td>4500</td>\n",
       "      <td>6.6</td>\n",
       "      <td>195</td>\n",
       "      <td>428</td>\n",
       "      <td>27/07/2022</td>\n",
       "    </tr>\n",
       "    <tr>\n",
       "      <th>28</th>\n",
       "      <td>28</td>\n",
       "      <td>Sony</td>\n",
       "      <td>Xperia Pro</td>\n",
       "      <td>Android</td>\n",
       "      <td>512</td>\n",
       "      <td>12</td>\n",
       "      <td>6.82</td>\n",
       "      <td>12</td>\n",
       "      <td>8</td>\n",
       "      <td>4000</td>\n",
       "      <td>6.5</td>\n",
       "      <td>225</td>\n",
       "      <td>1998</td>\n",
       "      <td>27/01/2021</td>\n",
       "    </tr>\n",
       "    <tr>\n",
       "      <th>29</th>\n",
       "      <td>29</td>\n",
       "      <td>Motorola</td>\n",
       "      <td>Moto G Stylus (2022)</td>\n",
       "      <td>Android</td>\n",
       "      <td>128</td>\n",
       "      <td>6</td>\n",
       "      <td>2.30</td>\n",
       "      <td>50</td>\n",
       "      <td>16</td>\n",
       "      <td>5000</td>\n",
       "      <td>6.8</td>\n",
       "      <td>215</td>\n",
       "      <td>500</td>\n",
       "      <td>27/04/2022</td>\n",
       "    </tr>\n",
       "    <tr>\n",
       "      <th>30</th>\n",
       "      <td>30</td>\n",
       "      <td>Motorola</td>\n",
       "      <td>Moto G Play (2021)</td>\n",
       "      <td>Android</td>\n",
       "      <td>32</td>\n",
       "      <td>3</td>\n",
       "      <td>1.42</td>\n",
       "      <td>13</td>\n",
       "      <td>5</td>\n",
       "      <td>5000</td>\n",
       "      <td>6.5</td>\n",
       "      <td>204</td>\n",
       "      <td>159</td>\n",
       "      <td>14/01/2021</td>\n",
       "    </tr>\n",
       "    <tr>\n",
       "      <th>31</th>\n",
       "      <td>31</td>\n",
       "      <td>Motorola</td>\n",
       "      <td>Moto G Pure</td>\n",
       "      <td>Android</td>\n",
       "      <td>32</td>\n",
       "      <td>3</td>\n",
       "      <td>1.02</td>\n",
       "      <td>13</td>\n",
       "      <td>5</td>\n",
       "      <td>4000</td>\n",
       "      <td>6.5</td>\n",
       "      <td>188</td>\n",
       "      <td>129</td>\n",
       "      <td>14/10/2021</td>\n",
       "    </tr>\n",
       "    <tr>\n",
       "      <th>32</th>\n",
       "      <td>32</td>\n",
       "      <td>Motorola</td>\n",
       "      <td>Moto G Power (2022)</td>\n",
       "      <td>Android</td>\n",
       "      <td>64</td>\n",
       "      <td>4</td>\n",
       "      <td>1.35</td>\n",
       "      <td>50</td>\n",
       "      <td>8</td>\n",
       "      <td>5000</td>\n",
       "      <td>6.5</td>\n",
       "      <td>203</td>\n",
       "      <td>189</td>\n",
       "      <td>22/02/2022</td>\n",
       "    </tr>\n",
       "  </tbody>\n",
       "</table>\n",
       "</div>"
      ],
      "text/plain": [
       "    cellphone_id     brand                 model operating system  \\\n",
       "0              0     Apple      iPhone SE (2022)              iOS   \n",
       "1              1     Apple        iPhone 13 Mini              iOS   \n",
       "2              2     Apple             iPhone 13              iOS   \n",
       "3              3     Apple         iPhone 13 Pro              iOS   \n",
       "4              4     Apple     iPhone 13 Pro Max              iOS   \n",
       "5              5     Apple             iPhone XR              iOS   \n",
       "6              6      Asus             Zenfone 8          Android   \n",
       "7              7   Samsung            Galaxy A13          Android   \n",
       "8              8   Samsung            Galaxy A32          Android   \n",
       "9              9   Samsung            Galaxy A53          Android   \n",
       "10            10   Samsung            Galaxy S22          Android   \n",
       "11            11   Samsung       Galaxy S22 Plus          Android   \n",
       "12            12   Samsung      Galaxy S22 Ultra          Android   \n",
       "13            13   Samsung       Galaxy Z Flip 3          Android   \n",
       "14            14   Samsung       Galaxy Z Fold 3          Android   \n",
       "15            15    Google             Pixel 6            Android   \n",
       "16            16    Google              Pixel 6a          Android   \n",
       "17            17    Google          Pixel 6 Pro           Android   \n",
       "18            18   OnePlus              Nord N20          Android   \n",
       "19            19   OnePlus               Nord 2T          Android   \n",
       "20            20   OnePlus                10 Pro          Android   \n",
       "21            21   OnePlus                   10T          Android   \n",
       "22            22      Oppo           Find X5 Pro          Android   \n",
       "23            23      Vivo               X80 Pro          Android   \n",
       "24            24    Xiaomi         Redmi Note 11          Android   \n",
       "25            25    Xiaomi               11T Pro          Android   \n",
       "26            26    Xiaomi                12 Pro          Android   \n",
       "27            27    Xiaomi               Poco F4          Android   \n",
       "28            28      Sony            Xperia Pro          Android   \n",
       "29            29  Motorola  Moto G Stylus (2022)          Android   \n",
       "30            30  Motorola    Moto G Play (2021)          Android   \n",
       "31            31  Motorola           Moto G Pure          Android   \n",
       "32            32  Motorola   Moto G Power (2022)          Android   \n",
       "\n",
       "    internal memory  RAM  performance  main camera  selfie camera  \\\n",
       "0               128    4         7.23           12              7   \n",
       "1               128    4         7.72           12             12   \n",
       "2               128    4         7.75           12             12   \n",
       "3               256    6         7.94           12             12   \n",
       "4               256    6         8.01           12             12   \n",
       "5                64    3         4.22           12              7   \n",
       "6               128    8         6.76           64             12   \n",
       "7                32    3         1.36           50              8   \n",
       "8                64    4         2.20           48             13   \n",
       "9               128    6         3.79           64             32   \n",
       "10              128    8         8.81           50             10   \n",
       "11              128    8         7.22           50             10   \n",
       "12              128    8         9.68          108             40   \n",
       "13              128    8         5.96           12             10   \n",
       "14              256   12         6.35           12              4   \n",
       "15              128    8         6.76           50              8   \n",
       "16              128    6         6.88           12              8   \n",
       "17              128   12         7.19           50             11   \n",
       "18              128    6         3.80           64             16   \n",
       "19              128    8         6.04           50             32   \n",
       "20              128    8         8.86           48             32   \n",
       "21              128    8        11.00           50             16   \n",
       "22              256   12        10.12           50             32   \n",
       "23              256    8         9.81           50             32   \n",
       "24              128    4         2.44           50             13   \n",
       "25              256    8         7.59          108             16   \n",
       "26              128    8         9.85           50             32   \n",
       "27              128    8         6.98           64             20   \n",
       "28              512   12         6.82           12              8   \n",
       "29              128    6         2.30           50             16   \n",
       "30               32    3         1.42           13              5   \n",
       "31               32    3         1.02           13              5   \n",
       "32               64    4         1.35           50              8   \n",
       "\n",
       "    battery size  screen size  weight  price release date  \n",
       "0           2018          4.7     144    429   18/03/2022  \n",
       "1           2438          5.4     141    699   24/09/2021  \n",
       "2           3240          6.1     174    699   24/09/2021  \n",
       "3           3065          6.1     204    999   24/09/2021  \n",
       "4           4352          6.7     240   1199   24/09/2021  \n",
       "5           2942          6.1     194    236   26/10/2018  \n",
       "6           4000          5.9     169    599   12/05/2021  \n",
       "7           5000          6.6     196    154   23/03/2022  \n",
       "8           5000          6.5     205    199   22/01/2021  \n",
       "9           5000          6.5     189    312   24/03/2022  \n",
       "10          3700          6.1     167    528   25/02/2022  \n",
       "11          4500          6.6     195    899   25/02/2022  \n",
       "12          5000          6.8     228    840   25/02/2022  \n",
       "13          3300          6.7     183    899   11/08/2021  \n",
       "14          4400          7.6     271   1799   11/08/2021  \n",
       "15          4614          6.4     207    499   28/10/2021  \n",
       "16          4410          6.1     178    449   21/07/2021  \n",
       "17          5003          6.7     210    699   28/10/2021  \n",
       "18          4500          6.4     173    299   28/04/2022  \n",
       "19          4500          6.4     190    379   21/05/2022  \n",
       "20          5000          6.7     201    780   11/01/2022  \n",
       "21          4800          6.7     204    649   06/08/2022  \n",
       "22          5000          6.7     218    987   14/03/2022  \n",
       "23          4700          6.7     215    872   29/04/2022  \n",
       "24          5000          6.4     179    174   09/02/2022  \n",
       "25          5000          6.6     204    435   05/10/2021  \n",
       "26          4600          6.7     204    618   31/12/2021  \n",
       "27          4500          6.6     195    428   27/07/2022  \n",
       "28          4000          6.5     225   1998   27/01/2021  \n",
       "29          5000          6.8     215    500   27/04/2022  \n",
       "30          5000          6.5     204    159   14/01/2021  \n",
       "31          4000          6.5     188    129   14/10/2021  \n",
       "32          5000          6.5     203    189   22/02/2022  "
      ]
     },
     "execution_count": 107,
     "metadata": {},
     "output_type": "execute_result"
    }
   ],
   "source": [
    "data_csv"
   ]
  },
  {
   "cell_type": "markdown",
   "id": "b66a4387",
   "metadata": {},
   "source": [
    "### Reading csv files using csv module"
   ]
  },
  {
   "cell_type": "code",
   "execution_count": 108,
   "id": "37c0a6c1",
   "metadata": {},
   "outputs": [],
   "source": [
    "import csv"
   ]
  },
  {
   "cell_type": "code",
   "execution_count": 111,
   "id": "924d8075",
   "metadata": {},
   "outputs": [],
   "source": [
    "with open(r\"C:\\Users\\ipcs\\Downloads\\Excel1.csv\",\"r\") as csvfile:\n",
    "    csvreader=csv.reader(csvfile)   #using reader() fn of csv"
   ]
  },
  {
   "cell_type": "code",
   "execution_count": 112,
   "id": "37a6b539",
   "metadata": {},
   "outputs": [
    {
     "data": {
      "text/plain": [
       "<_csv.reader at 0x273222a5000>"
      ]
     },
     "execution_count": 112,
     "metadata": {},
     "output_type": "execute_result"
    }
   ],
   "source": [
    "csvreader"
   ]
  },
  {
   "cell_type": "markdown",
   "id": "75093e84",
   "metadata": {},
   "source": [
    "### Reading excel files using json module"
   ]
  },
  {
   "cell_type": "code",
   "execution_count": 75,
   "id": "200f0ae3",
   "metadata": {},
   "outputs": [],
   "source": [
    "#import json module\n",
    "import json"
   ]
  },
  {
   "cell_type": "code",
   "execution_count": 76,
   "id": "e2fdc060",
   "metadata": {},
   "outputs": [],
   "source": [
    "json_file=open(r\"C:\\Users\\ipcs\\Desktop\\json_file.json\")"
   ]
  },
  {
   "cell_type": "code",
   "execution_count": 77,
   "id": "b1dd7a05",
   "metadata": {},
   "outputs": [],
   "source": [
    "data=json.load(json_file)  #load function to load the files"
   ]
  },
  {
   "cell_type": "code",
   "execution_count": 78,
   "id": "31f1288e",
   "metadata": {},
   "outputs": [
    {
     "name": "stdout",
     "output_type": "stream",
     "text": [
      "squadName\n",
      "homeTown\n",
      "formed\n",
      "secretBase\n",
      "active\n",
      "members\n"
     ]
    }
   ],
   "source": [
    "for i in data:\n",
    "    print(i)"
   ]
  },
  {
   "cell_type": "markdown",
   "id": "63c4fc8f",
   "metadata": {},
   "source": [
    "### creating json file"
   ]
  },
  {
   "cell_type": "code",
   "execution_count": 79,
   "id": "7bfa5497",
   "metadata": {},
   "outputs": [],
   "source": [
    "{\n",
    "    \"emp_derails\":[\n",
    "        {\n",
    "            \"emp_name\": \"shubham\",\n",
    "            \"email\": \"ksingh.shubh@gmail.com\",\n",
    "            \"jon_profile\": \"intern\"\n",
    "        },\n",
    "        {\n",
    "            \"emp_name\": \"Gaurav\",\n",
    "            \"email\": \"gaurav.singh@gmail.com\",\n",
    "            \"jon_profile\": \"developer\"\n",
    "        },\n",
    "        {\n",
    "            \"emp_name\": \"nikhil\",\n",
    "            \"email\": \"nikhil@gmail.org\",\n",
    "            \"jon_profile\": \"Full Time\"\n",
    "        }\n",
    "    ]\n",
    "}"
   ]
  },
  {
   "cell_type": "code",
   "execution_count": 80,
   "id": "f9c5471a",
   "metadata": {
    "scrolled": true
   },
   "outputs": [
    {
     "data": {
      "text/plain": [
       "{'emp_derails': [{'emp_name': 'shubham',\n",
       "   'email': 'ksingh.shubh@gmail.com',\n",
       "   'jon_profile': 'intern'},\n",
       "  {'emp_name': 'Gaurav',\n",
       "   'email': 'gaurav.singh@gmail.com',\n",
       "   'jon_profile': 'developer'},\n",
       "  {'emp_name': 'nikhil',\n",
       "   'email': 'nikhil@gmail.org',\n",
       "   'jon_profile': 'Full Time'}]}"
      ]
     },
     "execution_count": 80,
     "metadata": {},
     "output_type": "execute_result"
    }
   ],
   "source": [
    "data"
   ]
  },
  {
   "cell_type": "code",
   "execution_count": 82,
   "id": "a54c5e0e",
   "metadata": {},
   "outputs": [],
   "source": [
    "json_file1=open(r\"C:\\Users\\ipcs\\Desktop\\json1.json\")"
   ]
  },
  {
   "cell_type": "code",
   "execution_count": 83,
   "id": "54fd7f15",
   "metadata": {},
   "outputs": [],
   "source": [
    "data1=json.load(json_file1)  #load function to load the files"
   ]
  },
  {
   "cell_type": "code",
   "execution_count": 85,
   "id": "e2de8e72",
   "metadata": {},
   "outputs": [
    {
     "name": "stdout",
     "output_type": "stream",
     "text": [
      "{'emp_name': 'shubham', 'email': 'ksingh.shubh@gmail.com', 'jon_profile': 'intern'}\n",
      "{'emp_name': 'Gaurav', 'email': 'gaurav.singh@gmail.com', 'jon_profile': 'developer'}\n",
      "{'emp_name': 'nikhil', 'email': 'nikhil@gmail.org', 'jon_profile': 'Full Time'}\n"
     ]
    }
   ],
   "source": [
    "for i in data1[\"emp_derails\"]:\n",
    "    print(i)"
   ]
  },
  {
   "cell_type": "code",
   "execution_count": 86,
   "id": "17b484f2",
   "metadata": {},
   "outputs": [],
   "source": [
    "json_file1.close()"
   ]
  },
  {
   "cell_type": "markdown",
   "id": "b2b09bdb",
   "metadata": {},
   "source": [
    "## Reading XML file(HTML files)"
   ]
  },
  {
   "cell_type": "code",
   "execution_count": 17,
   "id": "a216b9c5",
   "metadata": {},
   "outputs": [
    {
     "ename": "FileNotFoundError",
     "evalue": "[Errno 2] No such file or directory: 'C:\\\\Users\\\\ipcs\\\\Desktop\\\\XML_file.xml'",
     "output_type": "error",
     "traceback": [
      "\u001b[1;31m---------------------------------------------------------------------------\u001b[0m",
      "\u001b[1;31mFileNotFoundError\u001b[0m                         Traceback (most recent call last)",
      "Cell \u001b[1;32mIn[17], line 1\u001b[0m\n\u001b[1;32m----> 1\u001b[0m \u001b[38;5;28;01mwith\u001b[39;00m \u001b[38;5;28mopen\u001b[39m(\u001b[38;5;124mr\u001b[39m\u001b[38;5;124m\"\u001b[39m\u001b[38;5;124mC:\u001b[39m\u001b[38;5;124m\\\u001b[39m\u001b[38;5;124mUsers\u001b[39m\u001b[38;5;124m\\\u001b[39m\u001b[38;5;124mipcs\u001b[39m\u001b[38;5;124m\\\u001b[39m\u001b[38;5;124mDesktop\u001b[39m\u001b[38;5;124m\\\u001b[39m\u001b[38;5;124mXML_file.xml\u001b[39m\u001b[38;5;124m\"\u001b[39m) \u001b[38;5;28;01mas\u001b[39;00m xml_file:\n\u001b[0;32m      2\u001b[0m     data\u001b[38;5;241m=\u001b[39mxml_file\u001b[38;5;241m.\u001b[39mread()\n",
      "File \u001b[1;32m~\\AppData\\Local\\anaconda3\\Lib\\site-packages\\IPython\\core\\interactiveshell.py:284\u001b[0m, in \u001b[0;36m_modified_open\u001b[1;34m(file, *args, **kwargs)\u001b[0m\n\u001b[0;32m    277\u001b[0m \u001b[38;5;28;01mif\u001b[39;00m file \u001b[38;5;129;01min\u001b[39;00m {\u001b[38;5;241m0\u001b[39m, \u001b[38;5;241m1\u001b[39m, \u001b[38;5;241m2\u001b[39m}:\n\u001b[0;32m    278\u001b[0m     \u001b[38;5;28;01mraise\u001b[39;00m \u001b[38;5;167;01mValueError\u001b[39;00m(\n\u001b[0;32m    279\u001b[0m         \u001b[38;5;124mf\u001b[39m\u001b[38;5;124m\"\u001b[39m\u001b[38;5;124mIPython won\u001b[39m\u001b[38;5;124m'\u001b[39m\u001b[38;5;124mt let you open fd=\u001b[39m\u001b[38;5;132;01m{\u001b[39;00mfile\u001b[38;5;132;01m}\u001b[39;00m\u001b[38;5;124m by default \u001b[39m\u001b[38;5;124m\"\u001b[39m\n\u001b[0;32m    280\u001b[0m         \u001b[38;5;124m\"\u001b[39m\u001b[38;5;124mas it is likely to crash IPython. If you know what you are doing, \u001b[39m\u001b[38;5;124m\"\u001b[39m\n\u001b[0;32m    281\u001b[0m         \u001b[38;5;124m\"\u001b[39m\u001b[38;5;124myou can use builtins\u001b[39m\u001b[38;5;124m'\u001b[39m\u001b[38;5;124m open.\u001b[39m\u001b[38;5;124m\"\u001b[39m\n\u001b[0;32m    282\u001b[0m     )\n\u001b[1;32m--> 284\u001b[0m \u001b[38;5;28;01mreturn\u001b[39;00m io_open(file, \u001b[38;5;241m*\u001b[39margs, \u001b[38;5;241m*\u001b[39m\u001b[38;5;241m*\u001b[39mkwargs)\n",
      "\u001b[1;31mFileNotFoundError\u001b[0m: [Errno 2] No such file or directory: 'C:\\\\Users\\\\ipcs\\\\Desktop\\\\XML_file.xml'"
     ]
    }
   ],
   "source": [
    "with open(r\"C:\\Users\\ipcs\\Desktop\\XML_file.xml\") as xml_file:\n",
    "    data=xml_file.read()"
   ]
  },
  {
   "cell_type": "code",
   "execution_count": 89,
   "id": "c7847753",
   "metadata": {},
   "outputs": [
    {
     "data": {
      "text/plain": [
       "'<?xml version=\"1.0\"?>\\n<catalog>\\n   <book id=\"bk101\">\\n      <author>Gambardella, Matthew</author>\\n      <title>XML Developer\\'s Guide</title>\\n      <genre>Computer</genre>\\n      <price>44.95</price>\\n      <publish_date>2000-10-01</publish_date>\\n      <description>An in-depth look at creating applications \\n      with XML.</description>\\n   </book>\\n   \\n   </book>\\n   <book id=\"bk109\">\\n      <author>Kress, Peter</author>\\n      <title>Paradox Lost</title>\\n      <genre>Science Fiction</genre>\\n      <price>6.95</price>\\n      <publish_date>2000-11-02</publish_date>\\n      <description>After an inadvertant trip through a Heisenberg\\n      Uncertainty Device, James Salway discovers the problems \\n      of being quantum.</description>\\n  '"
      ]
     },
     "execution_count": 89,
     "metadata": {},
     "output_type": "execute_result"
    }
   ],
   "source": [
    "data"
   ]
  },
  {
   "cell_type": "markdown",
   "id": "8876e548",
   "metadata": {},
   "source": [
    "### to parse the xml_file we need beautifulsoup module"
   ]
  },
  {
   "cell_type": "code",
   "execution_count": 90,
   "id": "a9159574",
   "metadata": {},
   "outputs": [],
   "source": [
    "import bs4"
   ]
  },
  {
   "cell_type": "code",
   "execution_count": 92,
   "id": "f838a65d",
   "metadata": {},
   "outputs": [],
   "source": [
    "from bs4 import BeautifulSoup as bs"
   ]
  },
  {
   "cell_type": "code",
   "execution_count": 93,
   "id": "17081ce5",
   "metadata": {},
   "outputs": [],
   "source": [
    "sparced_data=bs(data,\"xml\")"
   ]
  },
  {
   "cell_type": "code",
   "execution_count": 94,
   "id": "91a1c547",
   "metadata": {
    "scrolled": true
   },
   "outputs": [
    {
     "data": {
      "text/plain": [
       "<?xml version=\"1.0\" encoding=\"utf-8\"?>\n",
       "<catalog>\n",
       "<book id=\"bk101\">\n",
       "<author>Gambardella, Matthew</author>\n",
       "<title>XML Developer's Guide</title>\n",
       "<genre>Computer</genre>\n",
       "<price>44.95</price>\n",
       "<publish_date>2000-10-01</publish_date>\n",
       "<description>An in-depth look at creating applications \n",
       "      with XML.</description>\n",
       "</book>\n",
       "</catalog>"
      ]
     },
     "execution_count": 94,
     "metadata": {},
     "output_type": "execute_result"
    }
   ],
   "source": [
    "sparced_data"
   ]
  },
  {
   "cell_type": "markdown",
   "id": "b1b4bda6",
   "metadata": {},
   "source": [
    "### find()"
   ]
  },
  {
   "cell_type": "code",
   "execution_count": 16,
   "id": "062dc521",
   "metadata": {},
   "outputs": [
    {
     "ename": "NameError",
     "evalue": "name 'sparced_data' is not defined",
     "output_type": "error",
     "traceback": [
      "\u001b[1;31m---------------------------------------------------------------------------\u001b[0m",
      "\u001b[1;31mNameError\u001b[0m                                 Traceback (most recent call last)",
      "Cell \u001b[1;32mIn[16], line 1\u001b[0m\n\u001b[1;32m----> 1\u001b[0m price\u001b[38;5;241m=\u001b[39msparced_data\u001b[38;5;241m.\u001b[39mfind(\u001b[38;5;124m\"\u001b[39m\u001b[38;5;124mprice\u001b[39m\u001b[38;5;124m\"\u001b[39m)\n\u001b[0;32m      2\u001b[0m price\n",
      "\u001b[1;31mNameError\u001b[0m: name 'sparced_data' is not defined"
     ]
    }
   ],
   "source": [
    "price=sparced_data.find(\"price\")\n",
    "price"
   ]
  },
  {
   "cell_type": "code",
   "execution_count": 97,
   "id": "7f737b2c",
   "metadata": {},
   "outputs": [
    {
     "data": {
      "text/plain": [
       "'44.95'"
      ]
     },
     "execution_count": 97,
     "metadata": {},
     "output_type": "execute_result"
    }
   ],
   "source": [
    "price.get_text()"
   ]
  },
  {
   "cell_type": "code",
   "execution_count": 99,
   "id": "527e67ac",
   "metadata": {},
   "outputs": [
    {
     "data": {
      "text/plain": [
       "'Gambardella, Matthew'"
      ]
     },
     "execution_count": 99,
     "metadata": {},
     "output_type": "execute_result"
    }
   ],
   "source": [
    "sparced_data.find(\"author\").get_text()"
   ]
  },
  {
   "cell_type": "code",
   "execution_count": 2,
   "id": "5a154ad7",
   "metadata": {},
   "outputs": [],
   "source": [
    "with open(r\"C:\\Users\\ipcs\\Downloads\\books.xml\") as gauri:\n",
    "    data=gauri.read()\n"
   ]
  },
  {
   "cell_type": "code",
   "execution_count": 3,
   "id": "c58987aa",
   "metadata": {},
   "outputs": [
    {
     "data": {
      "text/plain": [
       "\"<library>\\n <book>\\n <title>Harry Potter and the Sorcerer's Stone</title>\\n <author>J.K. Rowling</author>\\n <year>1997</year>\\n </book>\\n <book>\\n <title>The Great Gatsby</title>\\n <author>F. Scott Fitzgerald</author>\\n <year>1925</year>\\n </book>\\n <book>\\n <title>To Kill a Mockingbird</title>\\n <author>Harper Lee</author>\\n <year>1960</year>\\n </book>\\n</library>\""
      ]
     },
     "execution_count": 3,
     "metadata": {},
     "output_type": "execute_result"
    }
   ],
   "source": [
    "data"
   ]
  },
  {
   "cell_type": "code",
   "execution_count": null,
   "id": "a9a1a77a",
   "metadata": {},
   "outputs": [],
   "source": []
  }
 ],
 "metadata": {
  "kernelspec": {
   "display_name": "Python 3 (ipykernel)",
   "language": "python",
   "name": "python3"
  },
  "language_info": {
   "codemirror_mode": {
    "name": "ipython",
    "version": 3
   },
   "file_extension": ".py",
   "mimetype": "text/x-python",
   "name": "python",
   "nbconvert_exporter": "python",
   "pygments_lexer": "ipython3",
   "version": "3.11.5"
  }
 },
 "nbformat": 4,
 "nbformat_minor": 5
}
