{
 "cells": [
  {
   "cell_type": "code",
   "execution_count": 2,
   "id": "f3869b78",
   "metadata": {},
   "outputs": [
    {
     "name": "stdout",
     "output_type": "stream",
     "text": [
      "[0, 1, 1, 2, 3, 5, 8, 13, 21, 34, 55, 89]\n"
     ]
    }
   ],
   "source": [
    "fib=[0,1]\n",
    "for i in range(10):\n",
    "    next_term=fib[-1]+fib[-2]\n",
    "    fib.append(next_term)\n",
    "print(fib)"
   ]
  },
  {
   "cell_type": "code",
   "execution_count": 7,
   "id": "91e336dc",
   "metadata": {},
   "outputs": [],
   "source": [
    "#Fabonacci using def function.\n",
    "def fib(n):\n",
    "    fib1=[0,1]\n",
    "    for i in range(n):\n",
    "        next_term=fib1[-1]+fib1[-2]\n",
    "        fib1.append(next_term)\n",
    "    print(fib1)  "
   ]
  },
  {
   "cell_type": "code",
   "execution_count": 8,
   "id": "12d7b09a",
   "metadata": {},
   "outputs": [
    {
     "name": "stdout",
     "output_type": "stream",
     "text": [
      "[0, 1, 1, 2, 3, 5, 8, 13, 21]\n"
     ]
    }
   ],
   "source": [
    "fib(7)"
   ]
  },
  {
   "cell_type": "code",
   "execution_count": 9,
   "id": "50855ad3",
   "metadata": {},
   "outputs": [],
   "source": [
    "def string(a):\n",
    "    vowel=\"aeiouAEIOU\"\n",
    "    count_vowel=0\n",
    "    for char in a:\n",
    "        if char in vowel:\n",
    "            count_vowel+=1\n",
    "            print(char)\n",
    "    print(count_vowel)"
   ]
  },
  {
   "cell_type": "code",
   "execution_count": 10,
   "id": "36208826",
   "metadata": {},
   "outputs": [
    {
     "name": "stdout",
     "output_type": "stream",
     "text": [
      "a\n",
      "u\n",
      "i\n",
      "3\n"
     ]
    }
   ],
   "source": [
    "string(\"gauri\")"
   ]
  },
  {
   "cell_type": "code",
   "execution_count": null,
   "id": "a7841c1c",
   "metadata": {},
   "outputs": [],
   "source": []
  }
 ],
 "metadata": {
  "kernelspec": {
   "display_name": "Python 3 (ipykernel)",
   "language": "python",
   "name": "python3"
  },
  "language_info": {
   "codemirror_mode": {
    "name": "ipython",
    "version": 3
   },
   "file_extension": ".py",
   "mimetype": "text/x-python",
   "name": "python",
   "nbconvert_exporter": "python",
   "pygments_lexer": "ipython3",
   "version": "3.11.3"
  }
 },
 "nbformat": 4,
 "nbformat_minor": 5
}
