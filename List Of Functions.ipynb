{
 "cells": [
  {
   "cell_type": "markdown",
   "id": "2142edbc",
   "metadata": {},
   "source": [
    "# Appending and extending"
   ]
  },
  {
   "cell_type": "code",
   "execution_count": 6,
   "id": "839a9a66",
   "metadata": {},
   "outputs": [
    {
     "name": "stdout",
     "output_type": "stream",
     "text": [
      "[2, 3, 4, 5, 2]\n"
     ]
    }
   ],
   "source": [
    "#Appending\n",
    "s=[2,3,4,5]\n",
    "s.append(2)\n",
    "print(s)"
   ]
  },
  {
   "cell_type": "code",
   "execution_count": 8,
   "id": "9d662d29",
   "metadata": {},
   "outputs": [
    {
     "name": "stdout",
     "output_type": "stream",
     "text": [
      "[2, 3, 4, 5, 7, 9]\n"
     ]
    }
   ],
   "source": [
    "#extending\n",
    "s=[2,3,4,5]\n",
    "s.extend([7,9])\n",
    "print(s)\n"
   ]
  },
  {
   "cell_type": "code",
   "execution_count": 9,
   "id": "ff5ae54a",
   "metadata": {},
   "outputs": [
    {
     "name": "stdout",
     "output_type": "stream",
     "text": [
      "[2, 3, 4, 5, 6, 7, 8, 9]\n"
     ]
    }
   ],
   "source": [
    "#extending\n",
    "s=[2,3,4,5]\n",
    "s.extend([6,7,8,9])\n",
    "print(s)\n"
   ]
  },
  {
   "cell_type": "markdown",
   "id": "e96f2aa1",
   "metadata": {},
   "source": [
    "### Insert()"
   ]
  },
  {
   "cell_type": "code",
   "execution_count": 4,
   "id": "01a9fe8f",
   "metadata": {},
   "outputs": [
    {
     "name": "stdout",
     "output_type": "stream",
     "text": [
      "['apple', 'orange', 'banana', 'cherry']\n"
     ]
    }
   ],
   "source": [
    "fruits=[\"apple\",\"banana\",\"cherry\"]\n",
    "fruits.insert(1,\"orange\")\n",
    "print(fruits)"
   ]
  },
  {
   "cell_type": "code",
   "execution_count": 6,
   "id": "2889bd73",
   "metadata": {},
   "outputs": [
    {
     "name": "stdout",
     "output_type": "stream",
     "text": [
      "['apple', 'orange', 'banana', 'cherry', 'mango']\n"
     ]
    }
   ],
   "source": [
    "fruits.insert(4,\"mango\")\n",
    "print(fruits)"
   ]
  },
  {
   "cell_type": "markdown",
   "id": "f746df22",
   "metadata": {},
   "source": [
    "### Max()"
   ]
  },
  {
   "cell_type": "code",
   "execution_count": 7,
   "id": "fff63751",
   "metadata": {},
   "outputs": [
    {
     "name": "stdout",
     "output_type": "stream",
     "text": [
      "[100, 3, 12, 4, 56, 2, 54]\n",
      "100\n"
     ]
    }
   ],
   "source": [
    "age=[100,3,12,4,56,2,54]\n",
    "print(age)\n",
    "print(max(age))"
   ]
  },
  {
   "cell_type": "markdown",
   "id": "21c9d383",
   "metadata": {},
   "source": [
    "### Min()"
   ]
  },
  {
   "cell_type": "code",
   "execution_count": 1,
   "id": "8cbbfd76",
   "metadata": {},
   "outputs": [
    {
     "name": "stdout",
     "output_type": "stream",
     "text": [
      "[100, 3, 12, 4, 56, 2, 54]\n",
      "2\n"
     ]
    }
   ],
   "source": [
    "age=[100,3,12,4,56,2,54]\n",
    "print(age)\n",
    "print(min(age))"
   ]
  },
  {
   "cell_type": "markdown",
   "id": "b1abdc82",
   "metadata": {},
   "source": [
    "### Sort()"
   ]
  },
  {
   "cell_type": "code",
   "execution_count": 33,
   "id": "9f979dd3",
   "metadata": {},
   "outputs": [
    {
     "name": "stdout",
     "output_type": "stream",
     "text": [
      "[2, 3, 4, 12, 54, 56, 100]\n"
     ]
    }
   ],
   "source": [
    "age.sort() #ascending\n",
    "print(age)\n",
    "age.sort() "
   ]
  },
  {
   "cell_type": "code",
   "execution_count": 36,
   "id": "fb073323",
   "metadata": {},
   "outputs": [
    {
     "name": "stdout",
     "output_type": "stream",
     "text": [
      "[2, 3, 4, 12, 54, 56, 100]\n",
      "[100, 56, 54, 12, 4, 3, 2]\n"
     ]
    }
   ],
   "source": [
    "age.sort() #decending \n",
    "print(age)\n",
    "age.sort(reverse=True)\n",
    "print(age)"
   ]
  },
  {
   "cell_type": "markdown",
   "id": "17e2fbdb",
   "metadata": {},
   "source": [
    "### Sum()"
   ]
  },
  {
   "cell_type": "code",
   "execution_count": 13,
   "id": "4e43831e",
   "metadata": {},
   "outputs": [
    {
     "name": "stdout",
     "output_type": "stream",
     "text": [
      "sum is: 231\n"
     ]
    }
   ],
   "source": [
    "a=sum(age)\n",
    "print(f'sum is:',a)"
   ]
  },
  {
   "cell_type": "markdown",
   "id": "6cb8a730",
   "metadata": {},
   "source": [
    "### count()"
   ]
  },
  {
   "cell_type": "code",
   "execution_count": 15,
   "id": "dce5532d",
   "metadata": {},
   "outputs": [
    {
     "name": "stdout",
     "output_type": "stream",
     "text": [
      "3\n"
     ]
    }
   ],
   "source": [
    "fruits=(\"apple\",\"mango\",\"papaya\",\"pineapple\",\"cherry\",\"mango\",\"mango\")\n",
    "print(fruits.count(\"mango\"))"
   ]
  },
  {
   "cell_type": "code",
   "execution_count": 16,
   "id": "ef088c1a",
   "metadata": {},
   "outputs": [
    {
     "name": "stdout",
     "output_type": "stream",
     "text": [
      "2\n"
     ]
    }
   ],
   "source": [
    "fruits=(\"apple\",\"mango\",\"papaya\",\"pineapple\",\"cherry\",\"mango\",\"mango\",\"apple\",\"banana\")\n",
    "print(fruits.count(\"apple\"))"
   ]
  },
  {
   "cell_type": "markdown",
   "id": "d09d9c03",
   "metadata": {},
   "source": [
    "### Extracting items from the list\n"
   ]
  },
  {
   "cell_type": "code",
   "execution_count": 17,
   "id": "277780f2",
   "metadata": {},
   "outputs": [
    {
     "name": "stdout",
     "output_type": "stream",
     "text": [
      "apple\n"
     ]
    }
   ],
   "source": [
    "fruits=(\"apple\",\"mango\",\"papaya\",\"pineapple\",\"cherry\",\"mango\",\"mango\",\"apple\",\"banana\")\n",
    "print(fruits[0])"
   ]
  },
  {
   "cell_type": "code",
   "execution_count": 18,
   "id": "7bcd1446",
   "metadata": {},
   "outputs": [
    {
     "name": "stdout",
     "output_type": "stream",
     "text": [
      "('papaya', 'pineapple', 'cherry', 'mango', 'mango', 'apple', 'banana')\n"
     ]
    }
   ],
   "source": [
    "fruits=(\"apple\",\"mango\",\"papaya\",\"pineapple\",\"cherry\",\"mango\",\"mango\",\"apple\",\"banana\")\n",
    "print(fruits[2:])"
   ]
  },
  {
   "cell_type": "code",
   "execution_count": 19,
   "id": "36ce12a8",
   "metadata": {},
   "outputs": [
    {
     "name": "stdout",
     "output_type": "stream",
     "text": [
      "('pineapple', 'cherry')\n"
     ]
    }
   ],
   "source": [
    "fruits=(\"apple\",\"mango\",\"papaya\",\"pineapple\",\"cherry\",\"mango\",\"mango\",\"apple\",\"banana\")\n",
    "print(fruits[3:5])"
   ]
  },
  {
   "cell_type": "code",
   "execution_count": 23,
   "id": "c5ae69b3",
   "metadata": {},
   "outputs": [
    {
     "name": "stdout",
     "output_type": "stream",
     "text": [
      "('banana', 'apple', 'mango', 'mango', 'cherry', 'pineapple')\n"
     ]
    }
   ],
   "source": [
    "fruits=(\"apple\",\"mango\",\"papaya\",\"pineapple\",\"cherry\",\"mango\",\"mango\",\"apple\",\"banana\")\n",
    "print(fruits[-1:-7:-1])"
   ]
  },
  {
   "cell_type": "code",
   "execution_count": 31,
   "id": "16d98d97",
   "metadata": {},
   "outputs": [
    {
     "name": "stdout",
     "output_type": "stream",
     "text": [
      "('banana', 'apple', 'mango', 'mango', 'cherry', 'pineapple', 'papaya', 'mango', 'apple')\n"
     ]
    }
   ],
   "source": [
    "fruits=(\"apple\",\"mango\",\"papaya\",\"pineapple\",\"cherry\",\"mango\",\"mango\",\"apple\",\"banana\")\n",
    "print(fruits[-1:-10:-1])"
   ]
  },
  {
   "cell_type": "markdown",
   "id": "c141ccc6",
   "metadata": {},
   "source": [
    "## Creating List"
   ]
  },
  {
   "cell_type": "code",
   "execution_count": 1,
   "id": "da2266d1",
   "metadata": {},
   "outputs": [
    {
     "name": "stdout",
     "output_type": "stream",
     "text": [
      "good\n"
     ]
    }
   ],
   "source": [
    "s=[\"hello\",\"good\"]\n",
    "\n",
    "#first item\n",
    "print(s[1])"
   ]
  },
  {
   "cell_type": "markdown",
   "id": "36d26224",
   "metadata": {},
   "source": [
    "## indexing"
   ]
  },
  {
   "cell_type": "code",
   "execution_count": 2,
   "id": "b08959bb",
   "metadata": {},
   "outputs": [
    {
     "name": "stdout",
     "output_type": "stream",
     "text": [
      "black\n"
     ]
    }
   ],
   "source": [
    "colour=[\"red\",\"green\",\"pink\",\"black\",\"blue\"]\n",
    "print(colour[3])"
   ]
  },
  {
   "cell_type": "code",
   "execution_count": 3,
   "id": "d9e76102",
   "metadata": {},
   "outputs": [
    {
     "name": "stdout",
     "output_type": "stream",
     "text": [
      "blue\n"
     ]
    }
   ],
   "source": [
    "print(colour[-1])"
   ]
  },
  {
   "cell_type": "markdown",
   "id": "3c33514f",
   "metadata": {},
   "source": [
    "## List Slicing"
   ]
  },
  {
   "cell_type": "code",
   "execution_count": 4,
   "id": "88a33fbf",
   "metadata": {},
   "outputs": [
    {
     "name": "stdout",
     "output_type": "stream",
     "text": [
      "['pink', 'black', 'blue']\n"
     ]
    }
   ],
   "source": [
    "colour=[\"red\",\"green\",\"pink\",\"black\",\"blue\"]\n",
    "print(colour[2:])"
   ]
  },
  {
   "cell_type": "code",
   "execution_count": 5,
   "id": "1686bb59",
   "metadata": {},
   "outputs": [
    {
     "name": "stdout",
     "output_type": "stream",
     "text": [
      "[]\n"
     ]
    }
   ],
   "source": [
    "colour=[\"red\",\"green\",\"pink\",\"black\",\"blue\"]\n",
    "print(colour[-1:-6])"
   ]
  },
  {
   "cell_type": "code",
   "execution_count": null,
   "id": "6380f0a4",
   "metadata": {},
   "outputs": [],
   "source": []
  }
 ],
 "metadata": {
  "kernelspec": {
   "display_name": "Python 3 (ipykernel)",
   "language": "python",
   "name": "python3"
  },
  "language_info": {
   "codemirror_mode": {
    "name": "ipython",
    "version": 3
   },
   "file_extension": ".py",
   "mimetype": "text/x-python",
   "name": "python",
   "nbconvert_exporter": "python",
   "pygments_lexer": "ipython3",
   "version": "3.11.5"
  }
 },
 "nbformat": 4,
 "nbformat_minor": 5
}
