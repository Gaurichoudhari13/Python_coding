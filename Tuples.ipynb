{
 "cells": [
  {
   "cell_type": "markdown",
   "id": "a5e66b6c",
   "metadata": {},
   "source": [
    "# Tuple\n",
    "Tuples are immutable,They cannot be changed once they are created. \n",
    "Tuple items are ordered, unchangeable, and allow duplicate values."
   ]
  },
  {
   "cell_type": "markdown",
   "id": "b64dd83d",
   "metadata": {},
   "source": [
    "### Crating Tuples"
   ]
  },
  {
   "cell_type": "code",
   "execution_count": 1,
   "id": "8f21e03a",
   "metadata": {},
   "outputs": [
    {
     "name": "stdout",
     "output_type": "stream",
     "text": [
      "('apple', 'banana', 'cherry')\n"
     ]
    }
   ],
   "source": [
    "thistuple=(\"apple\",\"banana\",\"cherry\")\n",
    "print(thistuple)"
   ]
  },
  {
   "cell_type": "code",
   "execution_count": 4,
   "id": "6f852d27",
   "metadata": {},
   "outputs": [
    {
     "name": "stdout",
     "output_type": "stream",
     "text": [
      "('abcs', '123', '5.4', 'good', '60')\n"
     ]
    }
   ],
   "source": [
    "tuples=(\"abcs\",\"123\",\"5.4\",\"good\",\"60\")\n",
    "print(tuples)"
   ]
  },
  {
   "cell_type": "markdown",
   "id": "3a3a0536",
   "metadata": {},
   "source": [
    "### Tuples Length\n",
    "To determine how many items a tuple has, use the len() function:"
   ]
  },
  {
   "cell_type": "code",
   "execution_count": 2,
   "id": "9d532f22",
   "metadata": {},
   "outputs": [
    {
     "name": "stdout",
     "output_type": "stream",
     "text": [
      "3\n"
     ]
    }
   ],
   "source": [
    "thistuple=(\"apple\",\"banana\",\"cherry\")\n",
    "print(len(thistuple))"
   ]
  },
  {
   "cell_type": "code",
   "execution_count": 5,
   "id": "96c4066c",
   "metadata": {},
   "outputs": [
    {
     "name": "stdout",
     "output_type": "stream",
     "text": [
      "5\n"
     ]
    }
   ],
   "source": [
    "tuples=(\"abcs\",\"123\",\"5.4\",\"good\",\"60\")\n",
    "print(len(tuples))"
   ]
  },
  {
   "cell_type": "markdown",
   "id": "d493838d",
   "metadata": {},
   "source": [
    "### Tuple Items - Data Types\n",
    "Tuple items can be of any data type:"
   ]
  },
  {
   "cell_type": "code",
   "execution_count": 2,
   "id": "46bbd536",
   "metadata": {},
   "outputs": [
    {
     "name": "stdout",
     "output_type": "stream",
     "text": [
      "('apple', 'banana', 'cherry')\n",
      "(1, 5, 7, 9, 3)\n",
      "(True, False, False)\n"
     ]
    }
   ],
   "source": [
    "tuple1 = (\"apple\", \"banana\", \"cherry\")\n",
    "tuple2 = (1, 5, 7, 9, 3)\n",
    "tuple3 = (True, False, False)\n",
    "print(tuple1)\n",
    "print(tuple2)\n",
    "print(tuple3)\n"
   ]
  },
  {
   "cell_type": "code",
   "execution_count": 3,
   "id": "8e06d12b",
   "metadata": {},
   "outputs": [
    {
     "name": "stdout",
     "output_type": "stream",
     "text": [
      "('abc', 34, True, 40, 'male')\n"
     ]
    }
   ],
   "source": [
    "#A tuple with strings, integers and boolean values:\n",
    "\n",
    "tuple1 = (\"abc\", 34, True, 40, \"male\")\n",
    "print(tuple1)"
   ]
  },
  {
   "cell_type": "markdown",
   "id": "19726536",
   "metadata": {},
   "source": [
    "### Access Tuple Items"
   ]
  },
  {
   "cell_type": "code",
   "execution_count": 6,
   "id": "7b5712dd",
   "metadata": {
    "scrolled": true
   },
   "outputs": [
    {
     "name": "stdout",
     "output_type": "stream",
     "text": [
      "123\n"
     ]
    }
   ],
   "source": [
    "tuples=(\"abcs\",\"123\",\"5.4\",\"good\",\"60\")\n",
    "print(tuples[1])"
   ]
  },
  {
   "cell_type": "code",
   "execution_count": 7,
   "id": "9310a6de",
   "metadata": {},
   "outputs": [
    {
     "name": "stdout",
     "output_type": "stream",
     "text": [
      "5.4\n"
     ]
    }
   ],
   "source": [
    "tuples=(\"abcs\",\"123\",\"5.4\",\"good\",\"60\")\n",
    "print(tuples[2])"
   ]
  },
  {
   "cell_type": "code",
   "execution_count": 8,
   "id": "7e86f357",
   "metadata": {},
   "outputs": [
    {
     "name": "stdout",
     "output_type": "stream",
     "text": [
      "good\n"
     ]
    }
   ],
   "source": [
    "tuples=(\"abcs\",\"123\",\"5.4\",\"good\",\"60\")\n",
    "print(tuples[-2])"
   ]
  },
  {
   "cell_type": "code",
   "execution_count": 9,
   "id": "d1af8e1f",
   "metadata": {},
   "outputs": [
    {
     "name": "stdout",
     "output_type": "stream",
     "text": [
      "('60', 'good', '5.4', '123', 'abcs')\n"
     ]
    }
   ],
   "source": [
    "tuples=(\"abcs\",\"123\",\"5.4\",\"good\",\"60\")\n",
    "print(tuples[-1:-6:-1])"
   ]
  },
  {
   "cell_type": "markdown",
   "id": "0ccf9d6a",
   "metadata": {},
   "source": [
    "### Range of valuse"
   ]
  },
  {
   "cell_type": "code",
   "execution_count": 1,
   "id": "f79d8bb5",
   "metadata": {},
   "outputs": [
    {
     "name": "stdout",
     "output_type": "stream",
     "text": [
      "('cherry', 'kiwi', 'melon')\n"
     ]
    }
   ],
   "source": [
    "tuples=(\"apple\",\"mango\",\"cherry\",\"kiwi\",\"melon\",)\n",
    "print(tuples[2:5])"
   ]
  },
  {
   "cell_type": "markdown",
   "id": "4aa4c5db",
   "metadata": {},
   "source": [
    "### When Starting Value is not specified"
   ]
  },
  {
   "cell_type": "code",
   "execution_count": 4,
   "id": "e3403fae",
   "metadata": {},
   "outputs": [
    {
     "name": "stdout",
     "output_type": "stream",
     "text": [
      "('apple', 'mango')\n"
     ]
    }
   ],
   "source": [
    "tuples=(\"apple\",\"mango\",\"cherry\",\"kiwi\",\"melon\",)\n",
    "print(tuples[:2])"
   ]
  },
  {
   "cell_type": "code",
   "execution_count": 5,
   "id": "43a1442f",
   "metadata": {},
   "outputs": [
    {
     "name": "stdout",
     "output_type": "stream",
     "text": [
      "('cherry', 'kiwi', 'melon')\n"
     ]
    }
   ],
   "source": [
    "tuples=(\"apple\",\"mango\",\"cherry\",\"kiwi\",\"melon\",)\n",
    "print(tuples[2:])"
   ]
  },
  {
   "cell_type": "markdown",
   "id": "7e07e967",
   "metadata": {},
   "source": [
    "### Negative Range"
   ]
  },
  {
   "cell_type": "code",
   "execution_count": 10,
   "id": "b77ba752",
   "metadata": {},
   "outputs": [
    {
     "name": "stdout",
     "output_type": "stream",
     "text": [
      "('cherry', 'kiwi')\n"
     ]
    }
   ],
   "source": [
    "tuples=(\"apple\",\"mango\",\"cherry\",\"kiwi\",\"melon\",)\n",
    "print(tuples[-3:-1])"
   ]
  },
  {
   "cell_type": "code",
   "execution_count": 14,
   "id": "67ce9ddf",
   "metadata": {},
   "outputs": [
    {
     "name": "stdout",
     "output_type": "stream",
     "text": [
      "('apple', 'mango', 'cherry', 'kiwi')\n"
     ]
    }
   ],
   "source": [
    "tuples=(\"apple\",\"mango\",\"cherry\",\"kiwi\",\"melon\",)\n",
    "print(tuples[-5:-1:1])"
   ]
  },
  {
   "cell_type": "code",
   "execution_count": 1,
   "id": "45aabb3e",
   "metadata": {},
   "outputs": [
    {
     "name": "stdout",
     "output_type": "stream",
     "text": [
      "('melon', 'kiwi', 'cherry', 'mango', 'apple')\n"
     ]
    }
   ],
   "source": [
    "tuples=(\"apple\",\"mango\",\"cherry\",\"kiwi\",\"melon\",)\n",
    "print(tuples[-1:-6:-1])"
   ]
  },
  {
   "cell_type": "markdown",
   "id": "f568f6c0",
   "metadata": {},
   "source": [
    "### Change tuple Value "
   ]
  },
  {
   "cell_type": "code",
   "execution_count": 2,
   "id": "c9a05816",
   "metadata": {},
   "outputs": [
    {
     "name": "stdout",
     "output_type": "stream",
     "text": [
      "('apple', 'kiwi', 'cherry')\n"
     ]
    }
   ],
   "source": [
    "x=(\"apple\",\"banana\",\"cherry\")\n",
    "y=list(x)\n",
    "y[1]=\"kiwi\"\n",
    "x=tuple(y)\n",
    "print(x)"
   ]
  },
  {
   "cell_type": "markdown",
   "id": "8e9dc455",
   "metadata": {},
   "source": [
    "### Adding Item"
   ]
  },
  {
   "cell_type": "code",
   "execution_count": 4,
   "id": "f69fd27b",
   "metadata": {},
   "outputs": [
    {
     "name": "stdout",
     "output_type": "stream",
     "text": [
      "('apple', 'mango', 'cherry', 'kiwi', 'melon', 'orange')\n"
     ]
    }
   ],
   "source": [
    "tuples=(\"apple\",\"mango\",\"cherry\",\"kiwi\",\"melon\",)\n",
    "y=list(tuples)\n",
    "y.append(\"orange\")\n",
    "tuples=tuple(y)\n",
    "print(tuples)"
   ]
  },
  {
   "cell_type": "markdown",
   "id": "6ad7e366",
   "metadata": {},
   "source": [
    "### Remove The item"
   ]
  },
  {
   "cell_type": "code",
   "execution_count": 11,
   "id": "2c23d600",
   "metadata": {},
   "outputs": [
    {
     "name": "stdout",
     "output_type": "stream",
     "text": [
      "('mango', 'cherry', 'kiwi', 'melon')\n"
     ]
    }
   ],
   "source": [
    "tuples=(\"apple\",\"mango\",\"cherry\",\"kiwi\",\"melon\")\n",
    "y=list(tuples)\n",
    "y.remove(\"apple\")\n",
    "tuples=tuple(y)\n",
    "print(tuples)"
   ]
  },
  {
   "cell_type": "markdown",
   "id": "d85823b8",
   "metadata": {},
   "source": [
    "### To det the tuple completely"
   ]
  },
  {
   "cell_type": "code",
   "execution_count": 3,
   "id": "91b6754b",
   "metadata": {},
   "outputs": [
    {
     "ename": "AttributeError",
     "evalue": "'tuple' object has no attribute 'clear'",
     "output_type": "error",
     "traceback": [
      "\u001b[1;31m---------------------------------------------------------------------------\u001b[0m",
      "\u001b[1;31mAttributeError\u001b[0m                            Traceback (most recent call last)",
      "Cell \u001b[1;32mIn[3], line 2\u001b[0m\n\u001b[0;32m      1\u001b[0m temp\u001b[38;5;241m=\u001b[39m(\u001b[38;5;124m\"\u001b[39m\u001b[38;5;124mapple\u001b[39m\u001b[38;5;124m\"\u001b[39m,\u001b[38;5;124m\"\u001b[39m\u001b[38;5;124mmango\u001b[39m\u001b[38;5;124m\"\u001b[39m,\u001b[38;5;124m\"\u001b[39m\u001b[38;5;124mcherry\u001b[39m\u001b[38;5;124m\"\u001b[39m,\u001b[38;5;124m\"\u001b[39m\u001b[38;5;124mkiwi\u001b[39m\u001b[38;5;124m\"\u001b[39m,\u001b[38;5;124m\"\u001b[39m\u001b[38;5;124mmelon\u001b[39m\u001b[38;5;124m\"\u001b[39m)\n\u001b[1;32m----> 2\u001b[0m temp\u001b[38;5;241m.\u001b[39mclear()\n\u001b[0;32m      3\u001b[0m \u001b[38;5;28mprint\u001b[39m(temp)\n",
      "\u001b[1;31mAttributeError\u001b[0m: 'tuple' object has no attribute 'clear'"
     ]
    }
   ],
   "source": [
    "tuples=(\"apple\",\"mango\",\"cherry\",\"kiwi\",\"melon\")\n",
    "del tuples\n",
    "print(tuples)"
   ]
  },
  {
   "cell_type": "markdown",
   "id": "d02e2f03",
   "metadata": {},
   "source": [
    "### Unpacking the tuple "
   ]
  },
  {
   "cell_type": "code",
   "execution_count": 17,
   "id": "2e16df6b",
   "metadata": {},
   "outputs": [
    {
     "name": "stdout",
     "output_type": "stream",
     "text": [
      "apple\n",
      "kiwi\n",
      "banaba\n"
     ]
    }
   ],
   "source": [
    "fruits=(\"apple\",\"banaba\",\"kiwi\")\n",
    "(green,yellow,red)=fruits\n",
    "print(green)\n",
    "print(red)\n",
    "print(yellow)\n"
   ]
  },
  {
   "cell_type": "code",
   "execution_count": null,
   "id": "dd2e4298",
   "metadata": {},
   "outputs": [],
   "source": []
  }
 ],
 "metadata": {
  "kernelspec": {
   "display_name": "Python 3 (ipykernel)",
   "language": "python",
   "name": "python3"
  },
  "language_info": {
   "codemirror_mode": {
    "name": "ipython",
    "version": 3
   },
   "file_extension": ".py",
   "mimetype": "text/x-python",
   "name": "python",
   "nbconvert_exporter": "python",
   "pygments_lexer": "ipython3",
   "version": "3.11.5"
  }
 },
 "nbformat": 4,
 "nbformat_minor": 5
}
