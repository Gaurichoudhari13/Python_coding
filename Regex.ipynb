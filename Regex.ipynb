{
 "cells": [
  {
   "cell_type": "markdown",
   "id": "600c5175",
   "metadata": {},
   "source": [
    "###### Regular Expresion(Regex):-Regular Exprestion or Regex is a sequence of characters that defines a search pattens"
   ]
  },
  {
   "cell_type": "markdown",
   "id": "519a700a",
   "metadata": {},
   "source": [
    "###### Regex can be used to check string contains specific search pattern i.e text processing"
   ]
  },
  {
   "cell_type": "markdown",
   "id": "732763bc",
   "metadata": {},
   "source": [
    "Functions in Regex"
   ]
  },
  {
   "cell_type": "markdown",
   "id": "c5c6fff8",
   "metadata": {},
   "source": [
    "    1)Findall()=list\n",
    "    2)sub()\n",
    "    3)search()\n",
    "    4)Match()\n",
    "    5)Compile()\n",
    "    6)split()"
   ]
  },
  {
   "cell_type": "markdown",
   "id": "4cab3992",
   "metadata": {},
   "source": [
    "find():-findall returns a list containing all matches.\n",
    "    system- re.findall(\"pattern,text\")"
   ]
  },
  {
   "cell_type": "code",
   "execution_count": 9,
   "id": "8da4d8e1",
   "metadata": {},
   "outputs": [
    {
     "name": "stdout",
     "output_type": "stream",
     "text": [
      "['7894532345', '5648931234', '7788776648']\n",
      "['7894532345', '5648931234', '7788776648']\n",
      "[]\n",
      "['8888 4444 2222']\n",
      "['viratkholi@gmail']\n"
     ]
    }
   ],
   "source": [
    "import re\n",
    "text=\"\"\"My Mobile no is :7894532345,5648931234 \n",
    "     email id is : viratkholi@gmail.com \n",
    "     todays date is : 3-10-2023,17/05/2021\n",
    "     8888 4444 2222\n",
    "     \n",
    "     Mobile Number is : 7788776648\"\"\"\n",
    "mob=re.findall(\"\\d{10}\",text)\n",
    "print(mob)\n",
    "mob=re.findall(\"[0-9]{10}\",text)\n",
    "print(mob)\n",
    "date=re.findall(\"[0-9]{2}[-][0-9]{2}[-][0-9]{4}\",text)\n",
    "print(date)\n",
    "aadhar=re.findall(\"[0-9]{4}[ ][0-9]{4}[ ][0-9]{4}\",text)\n",
    "print(aadhar)\n",
    "email=re.findall(\"[a-z]{2,20}[@][a-z]{2,20}\",text)\n",
    "print(email)"
   ]
  },
  {
   "cell_type": "code",
   "execution_count": 13,
   "id": "89ffb5d3",
   "metadata": {},
   "outputs": [
    {
     "name": "stdout",
     "output_type": "stream",
     "text": [
      "['30-05-2022', '29-05-2012', '31-05-2022', '14-02-2016']\n"
     ]
    }
   ],
   "source": [
    "import re\n",
    "text= \"\"\"My Mobile Number is : 9888776655,\n",
    "      email id is : viratkholi@gmail.com\n",
    "      todays date is : 30-05-2022\n",
    "      \n",
    "      Mobile Number is : 7788776648\n",
    "      29-05-20121\n",
    "      31-05-2022\n",
    "      14-02-2016\"\"\"\n",
    "date=re.findall(\"[0-9]{2}[-][0-9]{2}[-][0-9]{4}\",text)\n",
    "print(date)"
   ]
  },
  {
   "cell_type": "code",
   "execution_count": 14,
   "id": "c3f2e6a3",
   "metadata": {},
   "outputs": [
    {
     "data": {
      "text/plain": [
       "['30-02-2022', '29-03-2017', '26-04-2016', '30/06/2017', '24.05.2017']"
      ]
     },
     "execution_count": 14,
     "metadata": {},
     "output_type": "execute_result"
    }
   ],
   "source": [
    "import re \n",
    "text=\"\"\"My Mobile Number is : 9945871263,\n",
    "      email id is : viratkholi@gmail.com\n",
    "      todays date is : 30-02-2022\n",
    "      Mobile Number is : 7712456389\n",
    "      29-03-2017\n",
    "      31-005-2019\n",
    "      26-04-2016\n",
    "      30/06/20176\n",
    "      24.05.2017\"\"\"\n",
    "date=re.findall(\"[0-9]{2}[-/.][0-9]{2}[-/.][0-9]{4}\",text)\n",
    "date"
   ]
  },
  {
   "cell_type": "code",
   "execution_count": 20,
   "id": "fe4f88ac",
   "metadata": {},
   "outputs": [
    {
     "data": {
      "text/plain": [
       "['ASDFH1254P', 'ADFSG5236F', 'ADFSG5236F']"
      ]
     },
     "execution_count": 20,
     "metadata": {},
     "output_type": "execute_result"
    }
   ],
   "source": [
    "text=\"\"\" PAN CARD NUMBER : ASDFH1254P\n",
    "         PAN CARD NUMBER : ADFSG5236F\n",
    "         PAN CARD NUMBER : ADFSG5236F\n",
    "         \"\"\"\n",
    "pan=re.findall(\"[A-Z]{5}[0-9]{4}[A-Z]\",text)\n",
    "pan"
   ]
  },
  {
   "cell_type": "code",
   "execution_count": 21,
   "id": "c6fb5f57",
   "metadata": {},
   "outputs": [
    {
     "data": {
      "text/plain": [
       "['viratkholi@gmail.com', 'vikat123@gmail.com']"
      ]
     },
     "execution_count": 21,
     "metadata": {},
     "output_type": "execute_result"
    }
   ],
   "source": [
    "import re\n",
    "text=\"\"\" My Mobile Number is : 9820416052,\n",
    "      email id is : viratkholi@gmail.com\n",
    "      email id is : vikat123@gmail.com\"\"\"\n",
    "email=re.findall(\"[a-z0-9]{2,20}[@][a-z.]{2,20}\",text)\n",
    "email"
   ]
  },
  {
   "cell_type": "code",
   "execution_count": 22,
   "id": "889428d3",
   "metadata": {},
   "outputs": [
    {
     "data": {
      "text/plain": [
       "['viratkohli@gmail.com',\n",
       " 'viratkohli123@gmail.com',\n",
       " 'virat_kohali123@gmail.com',\n",
       " 'virat-kohali@gmail.com',\n",
       " 'virat-kohali@vcypune.co.in']"
      ]
     },
     "execution_count": 22,
     "metadata": {},
     "output_type": "execute_result"
    }
   ],
   "source": [
    "text=\"\"\" email id is : viratkohli@gmail.com\n",
    "         email id is : viratkohli123@gmail.com\n",
    "         email id is : virat_kohali123@gmail.com\n",
    "         email id is : virat-kohali@gmail.com\n",
    "         email id is : virat-kohali@vcypune.co.in\"\"\"\n",
    "email=re.findall(\"[a-z0-9-_]{2,20}[@][a-z.]{2,20}\",text)\n",
    "email"
   ]
  },
  {
   "cell_type": "code",
   "execution_count": 25,
   "id": "ec8abf0a",
   "metadata": {},
   "outputs": [
    {
     "name": "stdout",
     "output_type": "stream",
     "text": [
      " Name Vishal Vijay Tandel.\n",
      "      PAN Number: AXCPT8626T\n",
      "      Mobiile Number : 8412835885\n",
      "      DOB : 17/11/1196\n",
      "      Email id : pdhakate564@gmail.com\n",
      "      aadhar number = 2536 4178 2014\n"
     ]
    }
   ],
   "source": [
    "text=\"\"\" Name Vishal Vijay Tandel.\n",
    "      PAN Number: AXCPT8626T\n",
    "      Mobiile Number : 8412835885\n",
    "      DOB : 17/11/1196\n",
    "      Email id : pdhakate564@gmail.com\n",
    "      aadhar number = 2536 4178 2014\"\"\"\n",
    "print(text)"
   ]
  },
  {
   "cell_type": "markdown",
   "id": "1f811783",
   "metadata": {},
   "source": [
    "### Special Characters:- "
   ]
  },
  {
   "cell_type": "code",
   "execution_count": 9,
   "id": "90eea25e",
   "metadata": {},
   "outputs": [
    {
     "name": "stdout",
     "output_type": "stream",
     "text": [
      "['9988774455', '7789654321']\n",
      "['9988774455', '7789654321']\n",
      "['4421 5201 4561']\n",
      "['4421 5201 4561']\n",
      "['AAAAA4563P']\n",
      "['kohli4322g', '     4421 ', 'AAAAA4563P']\n",
      "['30-05-2022', '30/05/2021']\n",
      "['chetna_123@gmail.com', 'ch@gmail.com']\n"
     ]
    }
   ],
   "source": [
    "import re \n",
    "text=\"\"\"My Mobile Number is : 9988774455\n",
    "      email id is : viratkohli4322gmail.com,chetna_123@gmail.com,ch@gmail.com\n",
    "      todays date is : 30-05-2022,30/05/2021\n",
    "      4421 5201 4561\n",
    "      PAN : AAAAA4563P\n",
    "      Mobile Number is : 7789654321\"\"\"\n",
    "\n",
    "#To find Mobile no.\n",
    "mob_no=re.findall(\"[0-9]{10}\",text)\n",
    "print(mob_no)\n",
    "mob=re.findall(\"\\d{10}\",text)\n",
    "print(mob)\n",
    "\n",
    "#To find Adhar card no\n",
    "adhar=re.findall(\"[0-9]{4}[ ][0-9]{4}[ ][0-9]{4}\",text)\n",
    "print(adhar)\n",
    "adhar_no=re.findall(\"\\d{4}\\s\\d{4}\\s\\d{4}\",text)   #using \\d\n",
    "print(adhar_no)\n",
    "\n",
    "#To find pan card no \n",
    "pan=re.findall(\"[A-Z]{5}[0-9]{4}[A-Z]\",text)\n",
    "print(pan)\n",
    "pan1=re.findall(\"\\D{5}\\d{4}\\D\",text)    #using special charateers\n",
    "print(pan1)\n",
    "\n",
    "#to find date \n",
    "date=re.findall(\"[0-9]{2}[/-][0-9]{2}[/-][0-9]{4}\",text)\n",
    "print(date)\n",
    "\n",
    "\n",
    "#To find email id \n",
    "email=re.findall(\"[a-z0-9_]{2,20}[@][a-z]{2,5}[.a-z]{4}\",text)\n",
    "print(email)"
   ]
  },
  {
   "cell_type": "code",
   "execution_count": 12,
   "id": "871da201",
   "metadata": {},
   "outputs": [
    {
     "name": "stdout",
     "output_type": "stream",
     "text": [
      "['chetana', '123', 'chetanavasave']\n"
     ]
    }
   ],
   "source": [
    "text=\"\"\"chetana@123 chetanavasave\"\"\"\n",
    "s=re.findall(\"\\w{2,13}\",text)\n",
    "print(s)\n"
   ]
  },
  {
   "cell_type": "code",
   "execution_count": 13,
   "id": "d87e1104",
   "metadata": {},
   "outputs": [
    {
     "name": "stdout",
     "output_type": "stream",
     "text": [
      "[' ', 'D', 'O', 'B', ' ', '/', '/', '\\n', ' ', ' ', ' ', ' ', ' ', 'E', 'm', 'a', 'i', 'l', ' ', 'i', 'i', 'd', ':', ' ', 'v', 'i', 's', 'h', 'a', 'l', 't', 'a', 'n', 'd', 'e', 'l', '@', 'g', 'm', 'a', 'i', 'l', '.', 'c', 'o', 'm', '\\n', ' ', ' ', ' ', ' ', ' ', 'a', 'd', 'h', 'a', 'r', ' ', 'n', 'u', 'm', 'b', 'e', 'r', ' ', '=', ' ', ' ', ' ']\n"
     ]
    }
   ],
   "source": [
    "text=\"\"\" DOB 17/11/1996\n",
    "     Email iid: vishaltandel19@gmail.com\n",
    "     adhar number = 3456 1232 9876\"\"\"\n",
    "x=re.findall('\\D',text)\n",
    "print(x)"
   ]
  },
  {
   "cell_type": "code",
   "execution_count": 16,
   "id": "1c0b904b",
   "metadata": {},
   "outputs": [
    {
     "name": "stdout",
     "output_type": "stream",
     "text": [
      "['Machi', 'ne le', 'aring', ' is a', ' file', 'd of ', 'inqui', 'ry de', 'voted', ' to u', 'nders', 'tandi', 'ng an', 'd bui', 'lding', ' meth', 'ods \\n', '     ', ' that', \" 'lea\", \"rn', \", 'that ', 'is me', 'thods', ' that', ' leve', 'rage ', 'data ', 'to im', 'prove', ' perf', 'orman', 'ce on', ' same', ' set ', 'of ta', 'sks. ', '\\n    ', '  It ', 'is se', 'en as', ' a pa', 'rt of', ' arti', 'ficia', 'l int', 'ellig', 'ence ']\n"
     ]
    }
   ],
   "source": [
    "text= \"\"\"Machine learing is a filed of inquiry devoted to understanding and building methods \n",
    "      that 'learn', that is methods that leverage data to improve performance on same set of tasks. \n",
    "      It is seen as a part of artificial intelligence \"\"\"\n",
    "x=re.findall(\"\\D{5}\",text)\n",
    "print(x)"
   ]
  },
  {
   "cell_type": "code",
   "execution_count": null,
   "id": "497d78a9",
   "metadata": {},
   "outputs": [],
   "source": [
    "search():-"
   ]
  },
  {
   "cell_type": "code",
   "execution_count": 19,
   "id": "39029d50",
   "metadata": {},
   "outputs": [
    {
     "name": "stdout",
     "output_type": "stream",
     "text": [
      "<re.Match object; span=(0, 1), match='p'>\n"
     ]
    }
   ],
   "source": [
    "string=\"python and data science\"\n",
    "s=re.search(\"\\D\",string)\n",
    "print(s)"
   ]
  },
  {
   "cell_type": "code",
   "execution_count": null,
   "id": "d55e2b5c",
   "metadata": {},
   "outputs": [],
   "source": [
    "Match():-"
   ]
  },
  {
   "cell_type": "code",
   "execution_count": 20,
   "id": "44b595ad",
   "metadata": {},
   "outputs": [
    {
     "data": {
      "text/plain": [
       "<re.Match object; span=(0, 1), match='1'>"
      ]
     },
     "execution_count": 20,
     "metadata": {},
     "output_type": "execute_result"
    }
   ],
   "source": [
    "string='1python and data science'\n",
    "re.match(\"\\d\",string)"
   ]
  },
  {
   "cell_type": "code",
   "execution_count": 22,
   "id": "28d55f64",
   "metadata": {},
   "outputs": [
    {
     "name": "stdout",
     "output_type": "stream",
     "text": [
      "compiled reg expr <re.Match object; span=(0, 10), match='26-04-2012'>\n"
     ]
    }
   ],
   "source": [
    "regex=re.compile(r'([\\d]{2})-([\\d]{2})-([\\d]{4})')\n",
    "\n",
    "#search method\n",
    "print('compiled reg expr',regex.search('26-04-2012'))"
   ]
  },
  {
   "cell_type": "code",
   "execution_count": null,
   "id": "1c679bb3",
   "metadata": {},
   "outputs": [],
   "source": [
    "#sub method \n",
    "print(regex.sub(r'\\1.\\2.\\3'))"
   ]
  }
 ],
 "metadata": {
  "kernelspec": {
   "display_name": "Python 3 (ipykernel)",
   "language": "python",
   "name": "python3"
  },
  "language_info": {
   "codemirror_mode": {
    "name": "ipython",
    "version": 3
   },
   "file_extension": ".py",
   "mimetype": "text/x-python",
   "name": "python",
   "nbconvert_exporter": "python",
   "pygments_lexer": "ipython3",
   "version": "3.11.3"
  }
 },
 "nbformat": 4,
 "nbformat_minor": 5
}
