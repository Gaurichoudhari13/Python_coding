{
 "cells": [
  {
   "cell_type": "markdown",
   "id": "9ea5408b",
   "metadata": {},
   "source": [
    "### Type casting(Conversion from one data type to another)"
   ]
  },
  {
   "cell_type": "code",
   "execution_count": 2,
   "id": "5c36cca8",
   "metadata": {},
   "outputs": [
    {
     "name": "stdout",
     "output_type": "stream",
     "text": [
      "123.0\n"
     ]
    }
   ],
   "source": [
    "x=123  #integer\n",
    "y=float(x)\n",
    "print(y)"
   ]
  },
  {
   "cell_type": "code",
   "execution_count": 3,
   "id": "9eab2ba7",
   "metadata": {},
   "outputs": [
    {
     "data": {
      "text/plain": [
       "int"
      ]
     },
     "execution_count": 3,
     "metadata": {},
     "output_type": "execute_result"
    }
   ],
   "source": [
    "type(x)"
   ]
  },
  {
   "cell_type": "code",
   "execution_count": 4,
   "id": "4c25eec4",
   "metadata": {},
   "outputs": [
    {
     "data": {
      "text/plain": [
       "float"
      ]
     },
     "execution_count": 4,
     "metadata": {},
     "output_type": "execute_result"
    }
   ],
   "source": [
    "type(y)"
   ]
  },
  {
   "cell_type": "code",
   "execution_count": 5,
   "id": "c9b75da5",
   "metadata": {},
   "outputs": [],
   "source": [
    "z=str(x)"
   ]
  },
  {
   "cell_type": "code",
   "execution_count": 6,
   "id": "fa92e94d",
   "metadata": {},
   "outputs": [
    {
     "name": "stdout",
     "output_type": "stream",
     "text": [
      "123\n"
     ]
    }
   ],
   "source": [
    "print(z)"
   ]
  },
  {
   "cell_type": "code",
   "execution_count": 7,
   "id": "0fd2a517",
   "metadata": {},
   "outputs": [
    {
     "data": {
      "text/plain": [
       "'123'"
      ]
     },
     "execution_count": 7,
     "metadata": {},
     "output_type": "execute_result"
    }
   ],
   "source": [
    "z"
   ]
  },
  {
   "cell_type": "code",
   "execution_count": 8,
   "id": "0906462f",
   "metadata": {},
   "outputs": [
    {
     "data": {
      "text/plain": [
       "str"
      ]
     },
     "execution_count": 8,
     "metadata": {},
     "output_type": "execute_result"
    }
   ],
   "source": [
    "type(z)"
   ]
  },
  {
   "cell_type": "code",
   "execution_count": 11,
   "id": "cedc5e86",
   "metadata": {},
   "outputs": [],
   "source": [
    "a=112.3\n",
    "b=str(a)"
   ]
  },
  {
   "cell_type": "code",
   "execution_count": 12,
   "id": "d17ebf81",
   "metadata": {},
   "outputs": [
    {
     "name": "stdout",
     "output_type": "stream",
     "text": [
      "<class 'float'>\n"
     ]
    }
   ],
   "source": [
    "print(type(a))"
   ]
  },
  {
   "cell_type": "code",
   "execution_count": 13,
   "id": "6bce5105",
   "metadata": {},
   "outputs": [
    {
     "name": "stdout",
     "output_type": "stream",
     "text": [
      "<class 'str'>\n"
     ]
    }
   ],
   "source": [
    "print(type(b))"
   ]
  },
  {
   "cell_type": "code",
   "execution_count": 14,
   "id": "f36fa9ff",
   "metadata": {},
   "outputs": [
    {
     "name": "stdout",
     "output_type": "stream",
     "text": [
      "1662.5714285714284\n"
     ]
    }
   ],
   "source": [
    "#Area of circlr\n",
    "#pi*r*r\n",
    "radius=23\n",
    "are_of_circle=(22/7)*radius*radius\n",
    "print(are_of_circle)"
   ]
  },
  {
   "cell_type": "code",
   "execution_count": 15,
   "id": "ce5d05ce",
   "metadata": {},
   "outputs": [],
   "source": [
    "import math"
   ]
  },
  {
   "cell_type": "code",
   "execution_count": 16,
   "id": "734b9fb6",
   "metadata": {},
   "outputs": [
    {
     "name": "stdout",
     "output_type": "stream",
     "text": [
      "1661.9025137490005\n"
     ]
    }
   ],
   "source": [
    "radius=23\n",
    "are_of_circle=math.pi*radius*radius\n",
    "print(are_of_circle)"
   ]
  },
  {
   "cell_type": "code",
   "execution_count": 17,
   "id": "472cae6b",
   "metadata": {},
   "outputs": [
    {
     "name": "stdout",
     "output_type": "stream",
     "text": [
      "Enter radius2\n",
      "12.571428571428571\n"
     ]
    }
   ],
   "source": [
    "radius=float(input(\"Enter radius\"))\n",
    "are_of_circle=(22/7)*radius*radius\n",
    "print(are_of_circle)"
   ]
  },
  {
   "cell_type": "code",
   "execution_count": 29,
   "id": "91fb2faa",
   "metadata": {},
   "outputs": [
    {
     "name": "stdout",
     "output_type": "stream",
     "text": [
      "Perimeter of a rectangle 50\n"
     ]
    }
   ],
   "source": [
    "#Perimeter of a rectangle\n",
    "#p=(l+w)*2\n",
    "l=21\n",
    "w=4\n",
    "P=(l+w)*2\n",
    "print(\"Perimeter of a rectangle\",P)"
   ]
  },
  {
   "cell_type": "code",
   "execution_count": null,
   "id": "c8d33b10",
   "metadata": {},
   "outputs": [],
   "source": []
  }
 ],
 "metadata": {
  "kernelspec": {
   "display_name": "Python 3 (ipykernel)",
   "language": "python",
   "name": "python3"
  },
  "language_info": {
   "codemirror_mode": {
    "name": "ipython",
    "version": 3
   },
   "file_extension": ".py",
   "mimetype": "text/x-python",
   "name": "python",
   "nbconvert_exporter": "python",
   "pygments_lexer": "ipython3",
   "version": "3.11.5"
  }
 },
 "nbformat": 4,
 "nbformat_minor": 5
}
