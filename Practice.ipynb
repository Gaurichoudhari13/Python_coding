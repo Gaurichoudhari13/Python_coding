{
 "cells": [
  {
   "cell_type": "code",
   "execution_count": 2,
   "id": "49c40026",
   "metadata": {},
   "outputs": [
    {
     "data": {
      "text/plain": [
       "'Hi\\nwlecome \\nin jupyter notebook'"
      ]
     },
     "execution_count": 2,
     "metadata": {},
     "output_type": "execute_result"
    }
   ],
   "source": [
    "# single Line and Multline code \n",
    "# single Line \n",
    "'''Hi\n",
    "wlecome \n",
    "in jupyter notebook'''\n"
   ]
  },
  {
   "cell_type": "code",
   "execution_count": 3,
   "id": "c5db94be",
   "metadata": {},
   "outputs": [
    {
     "name": "stdout",
     "output_type": "stream",
     "text": [
      "Hello\n",
      "5\n"
     ]
    }
   ],
   "source": [
    "print(\"Hello\")\n",
    "print(len(\"Hello\"))"
   ]
  },
  {
   "cell_type": "code",
   "execution_count": 2,
   "id": "820ff5bc",
   "metadata": {},
   "outputs": [
    {
     "data": {
      "text/plain": [
       "int"
      ]
     },
     "execution_count": 2,
     "metadata": {},
     "output_type": "execute_result"
    }
   ],
   "source": [
    "# variable declaration \n",
    "a=10 #(a is variable)\n",
    "type(a)"
   ]
  },
  {
   "cell_type": "code",
   "execution_count": 3,
   "id": "9f8463e3",
   "metadata": {},
   "outputs": [
    {
     "name": "stdout",
     "output_type": "stream",
     "text": [
      "Gauri\n"
     ]
    }
   ],
   "source": [
    "first_name=\"Gauri\"\n",
    "print(first_name)"
   ]
  },
  {
   "cell_type": "code",
   "execution_count": 5,
   "id": "83cb2024",
   "metadata": {},
   "outputs": [
    {
     "name": "stdout",
     "output_type": "stream",
     "text": [
      "<class 'int'>\n"
     ]
    }
   ],
   "source": [
    "#integer\n",
    "a=10\n",
    "print(type(a))"
   ]
  },
  {
   "cell_type": "code",
   "execution_count": 6,
   "id": "904278db",
   "metadata": {},
   "outputs": [
    {
     "name": "stdout",
     "output_type": "stream",
     "text": [
      "<class 'float'>\n"
     ]
    }
   ],
   "source": [
    "#floting\n",
    "a=12.5\n",
    "print(type(a))"
   ]
  },
  {
   "cell_type": "code",
   "execution_count": 11,
   "id": "7bfe265f",
   "metadata": {},
   "outputs": [
    {
     "name": "stdout",
     "output_type": "stream",
     "text": [
      "12.0\n",
      "34\n"
     ]
    }
   ],
   "source": [
    "# Type Casting\n",
    "i=12\n",
    "f=34.90\n",
    "\n",
    "print(float(i))\n",
    "print(int(f))"
   ]
  },
  {
   "cell_type": "code",
   "execution_count": 12,
   "id": "c67def36",
   "metadata": {},
   "outputs": [
    {
     "name": "stdout",
     "output_type": "stream",
     "text": [
      "<class 'bool'>\n"
     ]
    }
   ],
   "source": [
    "#Boolean\n",
    "a1=True\n",
    "b1=False\n",
    "print(type(a1))"
   ]
  },
  {
   "cell_type": "code",
   "execution_count": 13,
   "id": "44e597d8",
   "metadata": {},
   "outputs": [
    {
     "name": "stdout",
     "output_type": "stream",
     "text": [
      "gauri\n",
      "<class 'str'>\n"
     ]
    }
   ],
   "source": [
    "#string\n",
    "name=\"gauri\"\n",
    "print(name)\n",
    "print(type(name))"
   ]
  },
  {
   "cell_type": "code",
   "execution_count": 15,
   "id": "4f16bfad",
   "metadata": {},
   "outputs": [
    {
     "data": {
      "text/plain": [
       "'gaurichoudhari'"
      ]
     },
     "execution_count": 15,
     "metadata": {},
     "output_type": "execute_result"
    }
   ],
   "source": [
    "#concat\n",
    "name+\"choudhari\""
   ]
  },
  {
   "cell_type": "code",
   "execution_count": 19,
   "id": "655766cb",
   "metadata": {},
   "outputs": [
    {
     "name": "stdout",
     "output_type": "stream",
     "text": [
      "1.0 -2.3\n"
     ]
    }
   ],
   "source": [
    "#complex numbers \n",
    "j=1.0-2.3j\n",
    "j\n",
    "print(j.real,j.imag)"
   ]
  },
  {
   "cell_type": "code",
   "execution_count": 10,
   "id": "ea6297ae",
   "metadata": {},
   "outputs": [
    {
     "name": "stdout",
     "output_type": "stream",
     "text": [
      "True\n",
      "True\n",
      "False\n",
      "True\n",
      "False\n",
      "False\n",
      "False\n",
      "False\n",
      "True\n"
     ]
    }
   ],
   "source": [
    "# all bool functions \n",
    "\n",
    "my_string=\"Gaurichoudhari\"\n",
    "print(my_string.isalnum()) #check if all char are number\n",
    "print(my_string.isalpha()) #check if all char in string are alphabetic\n",
    "print(my_string.isdigit()) #test if string contains digiit \n",
    "print(my_string.istitle()) #test if string contain title words \n",
    "print(my_string.isupper()) #test if string contains upper case\n",
    "print(my_string.islower()) # test if string contain lower case\n",
    "print(my_string.isspace()) #test if string contain spaces\n",
    "print(my_string.endswith('u')) # test if string endswith \n",
    "print(my_string.startswith('G')) # test if string startswith "
   ]
  },
  {
   "cell_type": "markdown",
   "id": "96477579",
   "metadata": {},
   "source": [
    "### Boolean and Logical Opertors "
   ]
  },
  {
   "cell_type": "code",
   "execution_count": 11,
   "id": "8ada0650",
   "metadata": {},
   "outputs": [
    {
     "data": {
      "text/plain": [
       "True"
      ]
     },
     "execution_count": 11,
     "metadata": {},
     "output_type": "execute_result"
    }
   ],
   "source": [
    "True and True"
   ]
  },
  {
   "cell_type": "code",
   "execution_count": 12,
   "id": "23abf2f7",
   "metadata": {},
   "outputs": [
    {
     "data": {
      "text/plain": [
       "False"
      ]
     },
     "execution_count": 12,
     "metadata": {},
     "output_type": "execute_result"
    }
   ],
   "source": [
    "True and False"
   ]
  },
  {
   "cell_type": "code",
   "execution_count": 13,
   "id": "3b755d61",
   "metadata": {},
   "outputs": [
    {
     "data": {
      "text/plain": [
       "True"
      ]
     },
     "execution_count": 13,
     "metadata": {},
     "output_type": "execute_result"
    }
   ],
   "source": [
    " True or False"
   ]
  },
  {
   "cell_type": "code",
   "execution_count": 15,
   "id": "90f73680",
   "metadata": {},
   "outputs": [
    {
     "data": {
      "text/plain": [
       "True"
      ]
     },
     "execution_count": 15,
     "metadata": {},
     "output_type": "execute_result"
    }
   ],
   "source": [
    "True or True"
   ]
  },
  {
   "cell_type": "code",
   "execution_count": 16,
   "id": "ad97f656",
   "metadata": {},
   "outputs": [
    {
     "data": {
      "text/plain": [
       "True"
      ]
     },
     "execution_count": 16,
     "metadata": {},
     "output_type": "execute_result"
    }
   ],
   "source": [
    "#ex\n",
    "my_name=\"gauri\"\n",
    "city_name=\"nagpur\"\n",
    "my_name.isalpha() or city_name.isnum()"
   ]
  },
  {
   "cell_type": "markdown",
   "id": "07fcdf36",
   "metadata": {},
   "source": [
    "# List "
   ]
  },
  {
   "cell_type": "code",
   "execution_count": 18,
   "id": "0ade10e0",
   "metadata": {},
   "outputs": [],
   "source": [
    "#creating a list \n",
    "list_=['marathi','english',2344,677,900]"
   ]
  },
  {
   "cell_type": "code",
   "execution_count": 19,
   "id": "1328f6a9",
   "metadata": {},
   "outputs": [
    {
     "data": {
      "text/plain": [
       "list"
      ]
     },
     "execution_count": 19,
     "metadata": {},
     "output_type": "execute_result"
    }
   ],
   "source": [
    "#check type of list\n",
    "type(list_)"
   ]
  },
  {
   "cell_type": "code",
   "execution_count": 20,
   "id": "c477f698",
   "metadata": {},
   "outputs": [
    {
     "data": {
      "text/plain": [
       "5"
      ]
     },
     "execution_count": 20,
     "metadata": {},
     "output_type": "execute_result"
    }
   ],
   "source": [
    "#check lenth of list\n",
    "len(list_)"
   ]
  },
  {
   "cell_type": "markdown",
   "id": "ba8b1956",
   "metadata": {},
   "source": [
    "### List Functions "
   ]
  },
  {
   "cell_type": "markdown",
   "id": "1d5999f5",
   "metadata": {},
   "source": [
    "### 1.Append"
   ]
  },
  {
   "cell_type": "code",
   "execution_count": 27,
   "id": "d886c908",
   "metadata": {},
   "outputs": [
    {
     "data": {
      "text/plain": [
       "['matahi', 'history']"
      ]
     },
     "execution_count": 27,
     "metadata": {},
     "output_type": "execute_result"
    }
   ],
   "source": [
    "new_list=[\"matahi\",\"history\"]\n",
    "new_list"
   ]
  },
  {
   "cell_type": "code",
   "execution_count": 29,
   "id": "e22bed31",
   "metadata": {},
   "outputs": [
    {
     "data": {
      "text/plain": [
       "['matahi', 'history', 'english', 'english']"
      ]
     },
     "execution_count": 29,
     "metadata": {},
     "output_type": "execute_result"
    }
   ],
   "source": [
    "# append is used to add elements in the list \n",
    "new_list.append(\"english\")\n",
    "new_list"
   ]
  },
  {
   "cell_type": "code",
   "execution_count": null,
   "id": "e2513a1c",
   "metadata": {},
   "outputs": [],
   "source": []
  }
 ],
 "metadata": {
  "kernelspec": {
   "display_name": "Python 3 (ipykernel)",
   "language": "python",
   "name": "python3"
  },
  "language_info": {
   "codemirror_mode": {
    "name": "ipython",
    "version": 3
   },
   "file_extension": ".py",
   "mimetype": "text/x-python",
   "name": "python",
   "nbconvert_exporter": "python",
   "pygments_lexer": "ipython3",
   "version": "3.11.5"
  }
 },
 "nbformat": 4,
 "nbformat_minor": 5
}
