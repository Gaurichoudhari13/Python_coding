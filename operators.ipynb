{
 "cells": [
  {
   "cell_type": "code",
   "execution_count": 8,
   "id": "93abfa78",
   "metadata": {},
   "outputs": [
    {
     "name": "stdout",
     "output_type": "stream",
     "text": [
      "sum is 68\n"
     ]
    }
   ],
   "source": [
    "a=23\n",
    "b=45\n",
    "#Addition\n",
    "c=a+b\n",
    "print(\"sum is\",c)\n",
    "\n"
   ]
  },
  {
   "cell_type": "code",
   "execution_count": 9,
   "id": "b5400c6b",
   "metadata": {},
   "outputs": [
    {
     "name": "stdout",
     "output_type": "stream",
     "text": [
      "sub is -22\n"
     ]
    }
   ],
   "source": [
    "#substraction\n",
    "c=a-b\n",
    "print(\"sub is\",c)"
   ]
  },
  {
   "cell_type": "code",
   "execution_count": 10,
   "id": "04ac81e9",
   "metadata": {},
   "outputs": [
    {
     "name": "stdout",
     "output_type": "stream",
     "text": [
      "mul is 1035\n"
     ]
    }
   ],
   "source": [
    "#multiplication\n",
    "c=a*b\n",
    "print(\"mul is\",c)"
   ]
  },
  {
   "cell_type": "code",
   "execution_count": 11,
   "id": "20d9eec5",
   "metadata": {},
   "outputs": [
    {
     "name": "stdout",
     "output_type": "stream",
     "text": [
      "div is 0.5111111111111111\n"
     ]
    }
   ],
   "source": [
    "#division\n",
    "c=a/b\n",
    "print(\"div is\",c)\n"
   ]
  },
  {
   "cell_type": "code",
   "execution_count": 12,
   "id": "7eb656f9",
   "metadata": {},
   "outputs": [
    {
     "name": "stdout",
     "output_type": "stream",
     "text": [
      "remainder is 0.5111111111111111\n"
     ]
    }
   ],
   "source": [
    "#remainder\n",
    "c=a/b\n",
    "print(\"remainder is\",c)\n"
   ]
  },
  {
   "cell_type": "code",
   "execution_count": 13,
   "id": "1347e967",
   "metadata": {},
   "outputs": [
    {
     "name": "stdout",
     "output_type": "stream",
     "text": [
      "power is 18956258430116202791319715713277227626159289499745290235663543\n"
     ]
    }
   ],
   "source": [
    "#power\n",
    "c=a**b\n",
    "print(\"power is\",c)"
   ]
  },
  {
   "cell_type": "code",
   "execution_count": 14,
   "id": "5cf0ac7d",
   "metadata": {},
   "outputs": [
    {
     "name": "stdout",
     "output_type": "stream",
     "text": [
      "Floor Division 0\n"
     ]
    }
   ],
   "source": [
    "#Floor Division\n",
    "c=a//b\n",
    "print(\"Floor Division\",c)"
   ]
  },
  {
   "cell_type": "code",
   "execution_count": null,
   "id": "379ce3ae",
   "metadata": {},
   "outputs": [],
   "source": []
  }
 ],
 "metadata": {
  "kernelspec": {
   "display_name": "Python 3 (ipykernel)",
   "language": "python",
   "name": "python3"
  },
  "language_info": {
   "codemirror_mode": {
    "name": "ipython",
    "version": 3
   },
   "file_extension": ".py",
   "mimetype": "text/x-python",
   "name": "python",
   "nbconvert_exporter": "python",
   "pygments_lexer": "ipython3",
   "version": "3.11.3"
  }
 },
 "nbformat": 4,
 "nbformat_minor": 5
}
