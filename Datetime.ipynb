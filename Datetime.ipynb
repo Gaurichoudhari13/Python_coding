{
 "cells": [
  {
   "cell_type": "code",
   "execution_count": 1,
   "id": "f82ed019",
   "metadata": {},
   "outputs": [],
   "source": [
    "import datetime as dt"
   ]
  },
  {
   "cell_type": "code",
   "execution_count": 2,
   "id": "4e01d12b",
   "metadata": {},
   "outputs": [],
   "source": [
    "current_date_time=dt.datetime.now()"
   ]
  },
  {
   "cell_type": "code",
   "execution_count": 3,
   "id": "f54a1f7b",
   "metadata": {},
   "outputs": [
    {
     "name": "stdout",
     "output_type": "stream",
     "text": [
      "2023-08-30 23:07:37.044220\n"
     ]
    }
   ],
   "source": [
    "print(current_date_time)"
   ]
  },
  {
   "cell_type": "code",
   "execution_count": 4,
   "id": "8428ecff",
   "metadata": {},
   "outputs": [
    {
     "name": "stdout",
     "output_type": "stream",
     "text": [
      "30-08-2023 23:07:37\n"
     ]
    }
   ],
   "source": [
    "print(current_date_time.strftime(\"%d-%m-%Y %H:%M:%S\"))"
   ]
  },
  {
   "cell_type": "code",
   "execution_count": 5,
   "id": "919434c8",
   "metadata": {},
   "outputs": [
    {
     "name": "stdout",
     "output_type": "stream",
     "text": [
      "2023-08-30 23:07:39.339795\n"
     ]
    }
   ],
   "source": [
    "import datetime as dt\n",
    "now_date_time=dt.datetime.now()\n",
    "print(now_date_time)\n"
   ]
  },
  {
   "cell_type": "code",
   "execution_count": 6,
   "id": "35eebdc8",
   "metadata": {},
   "outputs": [
    {
     "name": "stdout",
     "output_type": "stream",
     "text": [
      "2023-08-30 23:07:40.004792\n"
     ]
    }
   ],
   "source": [
    "import datetime as dt\n",
    "current_date_time=dt.datetime.now()\n",
    "print(current_date_time)"
   ]
  }
 ],
 "metadata": {
  "kernelspec": {
   "display_name": "Python 3 (ipykernel)",
   "language": "python",
   "name": "python3"
  },
  "language_info": {
   "codemirror_mode": {
    "name": "ipython",
    "version": 3
   },
   "file_extension": ".py",
   "mimetype": "text/x-python",
   "name": "python",
   "nbconvert_exporter": "python",
   "pygments_lexer": "ipython3",
   "version": "3.11.5"
  }
 },
 "nbformat": 4,
 "nbformat_minor": 5
}
