{
 "cells": [
  {
   "cell_type": "markdown",
   "id": "05c30cbd",
   "metadata": {},
   "source": [
    "## String opreators "
   ]
  },
  {
   "cell_type": "code",
   "execution_count": 5,
   "id": "4c9ed3ce",
   "metadata": {},
   "outputs": [
    {
     "name": "stdout",
     "output_type": "stream",
     "text": [
      "foo bar\n"
     ]
    }
   ],
   "source": [
    "#the operator \n",
    "#oncatenates String \n",
    "\n",
    "s='foo'\n",
    "t='bar'\n",
    "u='baz'\n",
    "print(s+\" \"+t)\n"
   ]
  },
  {
   "cell_type": "code",
   "execution_count": null,
   "id": "852dacc3",
   "metadata": {},
   "outputs": [],
   "source": []
  }
 ],
 "metadata": {
  "kernelspec": {
   "display_name": "Python 3 (ipykernel)",
   "language": "python",
   "name": "python3"
  },
  "language_info": {
   "codemirror_mode": {
    "name": "ipython",
    "version": 3
   },
   "file_extension": ".py",
   "mimetype": "text/x-python",
   "name": "python",
   "nbconvert_exporter": "python",
   "pygments_lexer": "ipython3",
   "version": "3.11.3"
  }
 },
 "nbformat": 4,
 "nbformat_minor": 5
}
