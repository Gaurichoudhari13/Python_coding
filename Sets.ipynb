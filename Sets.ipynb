{
 "cells": [
  {
   "cell_type": "markdown",
   "id": "60c19679",
   "metadata": {},
   "source": [
    "### Creating The Set"
   ]
  },
  {
   "cell_type": "code",
   "execution_count": 1,
   "id": "93325d31",
   "metadata": {},
   "outputs": [
    {
     "name": "stdout",
     "output_type": "stream",
     "text": [
      "{'Saturday', 'Sunday', 'Tuesday', 'Monday', 'Thursday', 'Wednesday', 'Friday'}\n"
     ]
    }
   ],
   "source": [
    "Days={\"Monday\",\"Tuesday\",\"Wednesday\",\"Thursday\",\"Friday\",\"Saturday\",\"Sunday\"}\n",
    "print(Days)"
   ]
  },
  {
   "cell_type": "markdown",
   "id": "faf1cf72",
   "metadata": {},
   "source": [
    "### Adding() The Element"
   ]
  },
  {
   "cell_type": "code",
   "execution_count": 2,
   "id": "c1929a16",
   "metadata": {},
   "outputs": [
    {
     "name": "stdout",
     "output_type": "stream",
     "text": [
      "{'Monday', 'Thursday', 'Wednesday', 'Tuesday'}\n"
     ]
    }
   ],
   "source": [
    "Days={\"Monday\",\"Tuesday\",\"Wednesday\",\"Thursday\"}\n",
    "print(Days)"
   ]
  },
  {
   "cell_type": "code",
   "execution_count": 5,
   "id": "bc8b8d18",
   "metadata": {},
   "outputs": [
    {
     "name": "stdout",
     "output_type": "stream",
     "text": [
      "{'Tuesday', 'Thursday', 'Wednesday', 'Friday', 'Monday'}\n"
     ]
    }
   ],
   "source": [
    "Days.add(\"Friday\")\n",
    "print(Days)"
   ]
  },
  {
   "cell_type": "code",
   "execution_count": 8,
   "id": "9d7abd45",
   "metadata": {},
   "outputs": [
    {
     "name": "stdout",
     "output_type": "stream",
     "text": [
      "{'Tuesday', 'Thursday', 'Wednesday', 'Friday', 'sunday', 'Monday'}\n"
     ]
    }
   ],
   "source": [
    "Days.add(\"sunday\")\n",
    "print(Days)"
   ]
  },
  {
   "cell_type": "markdown",
   "id": "cb879e70",
   "metadata": {},
   "source": [
    "### Update()"
   ]
  },
  {
   "cell_type": "code",
   "execution_count": 9,
   "id": "0e265a6c",
   "metadata": {},
   "outputs": [
    {
     "name": "stdout",
     "output_type": "stream",
     "text": [
      "{'d', 'Tuesday', 'r', 'Thursday', 'Wednesday', 'a', 'u', 'Friday', 'sunday', 'Monday', 'y', 's', 't'}\n"
     ]
    }
   ],
   "source": [
    "Days.update('saturday')\n",
    "print(Days)"
   ]
  },
  {
   "cell_type": "markdown",
   "id": "2c453225",
   "metadata": {},
   "source": [
    "### Remove()"
   ]
  },
  {
   "cell_type": "code",
   "execution_count": 11,
   "id": "332a3f0b",
   "metadata": {},
   "outputs": [
    {
     "name": "stdout",
     "output_type": "stream",
     "text": [
      "{'Saturday', 'Sunday', 'Tuesday', 'Thursday', 'Wednesday', 'Friday'}\n"
     ]
    }
   ],
   "source": [
    "Days={\"Monday\",\"Tuesday\",\"Wednesday\",\"Thursday\",\"Friday\",\"Saturday\",\"Sunday\"}\n",
    "Days.remove(\"Monday\")\n",
    "print(Days)"
   ]
  },
  {
   "cell_type": "code",
   "execution_count": 14,
   "id": "c643bbf8",
   "metadata": {},
   "outputs": [
    {
     "name": "stdout",
     "output_type": "stream",
     "text": [
      "{'Saturday', 'Sunday', 'Tuesday', 'Monday', 'Thursday', 'Friday'}\n"
     ]
    }
   ],
   "source": [
    "Days={\"Monday\",\"Tuesday\",\"Wednesday\",\"Thursday\",\"Friday\",\"Saturday\",\"Sunday\"}\n",
    "Days.remove(\"Wednesday\")\n",
    "print(Days)"
   ]
  },
  {
   "cell_type": "markdown",
   "id": "24ea4684",
   "metadata": {},
   "source": [
    "### Discard()"
   ]
  },
  {
   "cell_type": "code",
   "execution_count": 15,
   "id": "592afb18",
   "metadata": {},
   "outputs": [
    {
     "name": "stdout",
     "output_type": "stream",
     "text": [
      "{'Saturday', 'Sunday', 'Tuesday', 'Thursday', 'Wednesday', 'Friday'}\n"
     ]
    }
   ],
   "source": [
    "Days={\"Monday\",\"Tuesday\",\"Wednesday\",\"Thursday\",\"Friday\",\"Saturday\",\"Sunday\"}\n",
    "Days.discard(\"Monday\")\n",
    "print(Days)"
   ]
  },
  {
   "cell_type": "markdown",
   "id": "20aecc43",
   "metadata": {},
   "source": [
    "### Pop()"
   ]
  },
  {
   "cell_type": "code",
   "execution_count": 16,
   "id": "d94599c6",
   "metadata": {},
   "outputs": [
    {
     "name": "stdout",
     "output_type": "stream",
     "text": [
      "{'Sunday', 'Tuesday', 'Monday', 'Thursday', 'Wednesday', 'Friday'}\n"
     ]
    }
   ],
   "source": [
    "Days={\"Monday\",\"Tuesday\",\"Wednesday\",\"Thursday\",\"Friday\",\"Saturday\",\"Sunday\"}\n",
    "Days.pop()\n",
    "print(Days)"
   ]
  },
  {
   "cell_type": "markdown",
   "id": "f04af3c9",
   "metadata": {},
   "source": [
    "# Operators"
   ]
  },
  {
   "cell_type": "code",
   "execution_count": 17,
   "id": "53ab60c8",
   "metadata": {},
   "outputs": [
    {
     "name": "stdout",
     "output_type": "stream",
     "text": [
      "{1, 2, 3, 4, 5, 6, 7, 8}\n"
     ]
    }
   ],
   "source": [
    "#Union\n",
    "set1={1,2,3,4,5}\n",
    "set2={2,4,5,6,7,8}\n",
    "print(set1.union(set2))"
   ]
  },
  {
   "cell_type": "code",
   "execution_count": 18,
   "id": "5d86c413",
   "metadata": {},
   "outputs": [
    {
     "name": "stdout",
     "output_type": "stream",
     "text": [
      "{2, 4, 5}\n"
     ]
    }
   ],
   "source": [
    "#intersection\n",
    "set1={1,2,3,4,5}\n",
    "set2={2,4,5,6,7,8}\n",
    "print(set1.intersection(set2))"
   ]
  },
  {
   "cell_type": "code",
   "execution_count": 20,
   "id": "2969c86a",
   "metadata": {},
   "outputs": [
    {
     "name": "stdout",
     "output_type": "stream",
     "text": [
      "{1, 3}\n"
     ]
    }
   ],
   "source": [
    "#difference\n",
    "set1={1,2,3,4,5}\n",
    "set2={2,4,5,6,7,8}\n",
    "print(set1.difference(set2))"
   ]
  },
  {
   "cell_type": "code",
   "execution_count": 21,
   "id": "2ca76c00",
   "metadata": {},
   "outputs": [
    {
     "name": "stdout",
     "output_type": "stream",
     "text": [
      "{1, 3, 6, 7, 8}\n"
     ]
    }
   ],
   "source": [
    "#symmetric difference\n",
    "set1={1,2,3,4,5}\n",
    "set2={2,4,5,6,7,8}\n",
    "print(set1.symmetric_difference(set2))"
   ]
  },
  {
   "cell_type": "code",
   "execution_count": 25,
   "id": "dc38853c",
   "metadata": {},
   "outputs": [
    {
     "name": "stdout",
     "output_type": "stream",
     "text": [
      "set()\n",
      "set()\n"
     ]
    }
   ],
   "source": [
    "#clear\n",
    "set1={1,2,3,4,5}\n",
    "set2={2,4,5,6,7,8}\n",
    "set1.clear()\n",
    "set2.clear()\n",
    "print(set1)\n",
    "print(set2)"
   ]
  },
  {
   "cell_type": "markdown",
   "id": "c3f1ef6d",
   "metadata": {},
   "source": [
    "### Subset Operators "
   ]
  },
  {
   "cell_type": "code",
   "execution_count": 36,
   "id": "f7bf7a33",
   "metadata": {},
   "outputs": [
    {
     "data": {
      "text/plain": [
       "True"
      ]
     },
     "execution_count": 36,
     "metadata": {},
     "output_type": "execute_result"
    }
   ],
   "source": [
    "a={'a','b','c','d'}\n",
    "b={'e','f','g','h','a','b','c','d'}\n",
    "a <=b"
   ]
  },
  {
   "cell_type": "code",
   "execution_count": 34,
   "id": "7c1c0ff6",
   "metadata": {},
   "outputs": [
    {
     "data": {
      "text/plain": [
       "False"
      ]
     },
     "execution_count": 34,
     "metadata": {},
     "output_type": "execute_result"
    }
   ],
   "source": [
    "a={'a','b','c','d','u','o'}\n",
    "b={'e','a','f','g','h'}\n",
    "b >=a"
   ]
  },
  {
   "cell_type": "markdown",
   "id": "035d7249",
   "metadata": {},
   "source": [
    "### In and not in "
   ]
  },
  {
   "cell_type": "code",
   "execution_count": 28,
   "id": "4c2c51c8",
   "metadata": {},
   "outputs": [
    {
     "data": {
      "text/plain": [
       "True"
      ]
     },
     "execution_count": 28,
     "metadata": {},
     "output_type": "execute_result"
    }
   ],
   "source": [
    "s= {5,3,2,6}\n",
    "5 in s"
   ]
  },
  {
   "cell_type": "code",
   "execution_count": 29,
   "id": "dcce86b0",
   "metadata": {},
   "outputs": [
    {
     "data": {
      "text/plain": [
       "False"
      ]
     },
     "execution_count": 29,
     "metadata": {},
     "output_type": "execute_result"
    }
   ],
   "source": [
    "7 in s"
   ]
  },
  {
   "cell_type": "code",
   "execution_count": null,
   "id": "7e0c8b7e",
   "metadata": {},
   "outputs": [],
   "source": []
  }
 ],
 "metadata": {
  "kernelspec": {
   "display_name": "Python 3 (ipykernel)",
   "language": "python",
   "name": "python3"
  },
  "language_info": {
   "codemirror_mode": {
    "name": "ipython",
    "version": 3
   },
   "file_extension": ".py",
   "mimetype": "text/x-python",
   "name": "python",
   "nbconvert_exporter": "python",
   "pygments_lexer": "ipython3",
   "version": "3.11.5"
  }
 },
 "nbformat": 4,
 "nbformat_minor": 5
}
