{
 "cells": [
  {
   "cell_type": "markdown",
   "id": "dce324de",
   "metadata": {},
   "source": [
    "## Simple if"
   ]
  },
  {
   "cell_type": "code",
   "execution_count": 3,
   "id": "fce2d832",
   "metadata": {},
   "outputs": [
    {
     "name": "stdout",
     "output_type": "stream",
     "text": [
      "enter age :24\n",
      "can vote\n"
     ]
    }
   ],
   "source": [
    "a=int(input(\"enter age :\"))\n",
    "if a>=18:\n",
    "    print(\"can vote\")\n",
    "else:\n",
    "    print(\"Not elgible for vote\")"
   ]
  },
  {
   "cell_type": "markdown",
   "id": "64ba02b5",
   "metadata": {},
   "source": [
    "## If-else statement"
   ]
  },
  {
   "cell_type": "markdown",
   "id": "fd0afedb",
   "metadata": {},
   "source": [
    "#### 1. Even and odd no. checker"
   ]
  },
  {
   "cell_type": "code",
   "execution_count": 5,
   "id": "e0e2536c",
   "metadata": {},
   "outputs": [
    {
     "name": "stdout",
     "output_type": "stream",
     "text": [
      "Enter a number: 7\n",
      "7  is an odd number.\n"
     ]
    }
   ],
   "source": [
    "num = int(input(\"Enter a number: \"))\n",
    "\n",
    "if num % 2 == 0:\n",
    "    print(num,\"is an even number.\")\n",
    "else:\n",
    "    print(num,\" is an odd number.\")\n"
   ]
  },
  {
   "cell_type": "markdown",
   "id": "a0e5eea1",
   "metadata": {},
   "source": [
    "#### 2.check Age for voting"
   ]
  },
  {
   "cell_type": "code",
   "execution_count": 6,
   "id": "45cf111f",
   "metadata": {},
   "outputs": [
    {
     "name": "stdout",
     "output_type": "stream",
     "text": [
      "Enter age: 19\n",
      "you can vote\n"
     ]
    }
   ],
   "source": [
    "a=int(input(\"Enter age: \"))\n",
    "if a>=18:\n",
    "    print(\"you can vote\")\n",
    "else:\n",
    "    print(\"You are not eligible\")\n"
   ]
  },
  {
   "cell_type": "markdown",
   "id": "c8907118",
   "metadata": {},
   "source": [
    "#### 3. larger of two numbers"
   ]
  },
  {
   "cell_type": "code",
   "execution_count": 7,
   "id": "32c03e73",
   "metadata": {},
   "outputs": [
    {
     "name": "stdout",
     "output_type": "stream",
     "text": [
      "Enter the first number: 18\n",
      "Enter the second number: 25\n",
      "The larger number is: 25.0\n"
     ]
    }
   ],
   "source": [
    "num1 = float(input(\"Enter the first number: \"))\n",
    "num2 = float(input(\"Enter the second number: \"))\n",
    "\n",
    "if num1 > num2:\n",
    "    print(\"The larger number is:\", num1)\n",
    "else:\n",
    "    print(\"The larger number is:\", num2)\n"
   ]
  },
  {
   "cell_type": "markdown",
   "id": "7a214576",
   "metadata": {},
   "source": [
    "#### 4. smaller of two numbers"
   ]
  },
  {
   "cell_type": "code",
   "execution_count": 8,
   "id": "fff773c8",
   "metadata": {},
   "outputs": [
    {
     "name": "stdout",
     "output_type": "stream",
     "text": [
      "Enter the first number: 2\n",
      "Enter the second number: 5\n",
      "The smaller number is: 2.0\n"
     ]
    }
   ],
   "source": [
    "num1 = float(input(\"Enter the first number: \"))\n",
    "num2 = float(input(\"Enter the second number: \"))\n",
    "\n",
    "if num1 < num2:\n",
    "    print(\"The smaller number is:\", num1)\n",
    "else:\n",
    "    print(\"The smaller number is:\", num2)\n"
   ]
  },
  {
   "cell_type": "markdown",
   "id": "8d859ef6",
   "metadata": {},
   "source": [
    "#### 5.write program to find minimum of three numberes"
   ]
  },
  {
   "cell_type": "markdown",
   "id": "c1c7d746",
   "metadata": {},
   "source": [
    "#### 6. Pass or Fail"
   ]
  },
  {
   "cell_type": "code",
   "execution_count": 9,
   "id": "72c93051",
   "metadata": {},
   "outputs": [
    {
     "name": "stdout",
     "output_type": "stream",
     "text": [
      "Enter the student's score: 40\n",
      "Fail\n"
     ]
    }
   ],
   "source": [
    "score = float(input(\"Enter the student's score: \"))\n",
    "\n",
    "if score >= 50:\n",
    "    print(\"Pass\")\n",
    "else:\n",
    "    print(\"Fail\")\n"
   ]
  },
  {
   "cell_type": "markdown",
   "id": "df4dbfdd",
   "metadata": {},
   "source": [
    "#### 7.Leap year checker"
   ]
  },
  {
   "cell_type": "markdown",
   "id": "b44d3298",
   "metadata": {},
   "source": [
    "A leap year is a year that contains an extra day, February 29\n",
    "\n",
    "The rules for determining whether a year is a leap year are as follows:\n",
    "\n",
    "-If a year is evenly divisible by 4, it is a leap year, except for:\n",
    "-Years that are evenly divisible by 100 are not leap years, unless:\n",
    "-Years that are evenly divisible by 400 are leap years."
   ]
  },
  {
   "cell_type": "code",
   "execution_count": 10,
   "id": "830ea36d",
   "metadata": {},
   "outputs": [
    {
     "name": "stdout",
     "output_type": "stream",
     "text": [
      "Enter a year: 2024\n",
      "Leap Year\n"
     ]
    }
   ],
   "source": [
    "year = int(input(\"Enter a year: \"))\n",
    "\n",
    "if (year % 4 == 0 and year % 100 != 0) or (year % 400 == 0):\n",
    "    print(\"Leap Year\")\n",
    "else:\n",
    "    print(\"Not a Leap Year\")\n"
   ]
  },
  {
   "cell_type": "markdown",
   "id": "068437f9",
   "metadata": {},
   "source": [
    "## Nested If"
   ]
  },
  {
   "cell_type": "code",
   "execution_count": 1,
   "id": "089e935b",
   "metadata": {},
   "outputs": [
    {
     "name": "stdout",
     "output_type": "stream",
     "text": [
      "Enter your age: 12\n",
      "Do you have a valid ID? (yes/no): no\n",
      "You are not eligible to vote.\n"
     ]
    }
   ],
   "source": [
    "age = int(input(\"Enter your age: \"))\n",
    "has_id = input(\"Do you have a valid ID? (yes/no): \").lower()\n",
    "\n",
    "if age >= 18:\n",
    "    if has_id == \"yes\":\n",
    "        print(\"You are eligible to vote.\")\n",
    "    else:\n",
    "        print(\"Please bring a valid ID to vote.\")\n",
    "else:\n",
    "    print(\"You are not eligible to vote.\")"
   ]
  },
  {
   "cell_type": "code",
   "execution_count": 2,
   "id": "cee7b03c",
   "metadata": {},
   "outputs": [
    {
     "name": "stdout",
     "output_type": "stream",
     "text": [
      "Enter Your age:23\n",
      "Enter ticket type(adult/child):adult\n",
      "Ticket price: 5\n"
     ]
    }
   ],
   "source": [
    "age=int(input(\"Enter Your age:\"))\n",
    "ticket_type=input(\"Enter ticket type(adult/child):\").upper()\n",
    "if ticket_type == \"Adult\":\n",
    "    if age >=18:\n",
    "        price=10\n",
    "    else:\n",
    "        price=5\n",
    "else:  \n",
    "    if age <=12:\n",
    "        price=2\n",
    "    else:\n",
    "        price=5\n",
    "print(\"Ticket price:\",price)      \n"
   ]
  },
  {
   "cell_type": "code",
   "execution_count": 3,
   "id": "285afa0f",
   "metadata": {},
   "outputs": [
    {
     "name": "stdout",
     "output_type": "stream",
     "text": [
      "Enter Your age:20\n",
      "Enter ticket type(male/female):female\n"
     ]
    },
    {
     "ename": "AttributeError",
     "evalue": "'str' object has no attribute 'Upper'",
     "output_type": "error",
     "traceback": [
      "\u001b[1;31m---------------------------------------------------------------------------\u001b[0m",
      "\u001b[1;31mAttributeError\u001b[0m                            Traceback (most recent call last)",
      "Cell \u001b[1;32mIn[3], line 2\u001b[0m\n\u001b[0;32m      1\u001b[0m age\u001b[38;5;241m=\u001b[39m\u001b[38;5;28mint\u001b[39m(\u001b[38;5;28minput\u001b[39m(\u001b[38;5;124m\"\u001b[39m\u001b[38;5;124mEnter Your age:\u001b[39m\u001b[38;5;124m\"\u001b[39m))\n\u001b[1;32m----> 2\u001b[0m ticket_type\u001b[38;5;241m=\u001b[39m\u001b[38;5;28minput\u001b[39m(\u001b[38;5;124m\"\u001b[39m\u001b[38;5;124mEnter ticket type(male/female):\u001b[39m\u001b[38;5;124m\"\u001b[39m)\u001b[38;5;241m.\u001b[39mUpper()\n\u001b[0;32m      3\u001b[0m \u001b[38;5;28;01mif\u001b[39;00m ticket_type \u001b[38;5;241m==\u001b[39m \u001b[38;5;124m\"\u001b[39m\u001b[38;5;124mMale\u001b[39m\u001b[38;5;124m\"\u001b[39m:\n\u001b[0;32m      4\u001b[0m     \u001b[38;5;28;01mif\u001b[39;00m age \u001b[38;5;241m>\u001b[39m\u001b[38;5;241m=\u001b[39m\u001b[38;5;241m10\u001b[39m:\n",
      "\u001b[1;31mAttributeError\u001b[0m: 'str' object has no attribute 'Upper'"
     ]
    }
   ],
   "source": [
    "age=int(input(\"Enter Your age:\"))\n",
    "ticket_type=input(\"Enter ticket type(male/female):\").Upper()\n",
    "if ticket_type == \"Male\":\n",
    "    if age >=10:\n",
    "        price=30\n",
    "    else:\n",
    "        price=15\n",
    "else:\n",
    "    if age <20:\n",
    "        price=40\n",
    "    else:\n",
    "        price=35\n",
    "print(\"Ticket price:\",price)        "
   ]
  },
  {
   "cell_type": "markdown",
   "id": "a66f4b57",
   "metadata": {},
   "source": [
    "# For Loop "
   ]
  },
  {
   "cell_type": "code",
   "execution_count": 12,
   "id": "4179669f",
   "metadata": {},
   "outputs": [
    {
     "name": "stdout",
     "output_type": "stream",
     "text": [
      "0\n",
      "1\n",
      "2\n",
      "3\n",
      "4\n",
      "5\n",
      "6\n",
      "7\n",
      "8\n",
      "9\n",
      "10\n"
     ]
    }
   ],
   "source": [
    "for i in range(0,11):\n",
    "    print(i)"
   ]
  },
  {
   "cell_type": "code",
   "execution_count": 13,
   "id": "c12a5f93",
   "metadata": {},
   "outputs": [
    {
     "name": "stdout",
     "output_type": "stream",
     "text": [
      "1\n",
      "2\n",
      "3\n",
      "4\n",
      "5\n",
      "6\n",
      "7\n",
      "8\n",
      "9\n",
      "10\n",
      "11\n"
     ]
    }
   ],
   "source": [
    "for i in range(0,11):  #0,1,2,3,4,5,6,7,8,9,10\n",
    "    print(i+1)"
   ]
  },
  {
   "cell_type": "code",
   "execution_count": 14,
   "id": "ffbabe11",
   "metadata": {},
   "outputs": [
    {
     "name": "stdout",
     "output_type": "stream",
     "text": [
      "IPCS\n",
      "IPCS\n",
      "IPCS\n",
      "IPCS\n",
      "IPCS\n",
      "IPCS\n",
      "IPCS\n",
      "IPCS\n",
      "IPCS\n",
      "IPCS\n",
      "IPCS\n"
     ]
    }
   ],
   "source": [
    "for i in range(0,11):\n",
    "    print(\"IPCS\")"
   ]
  },
  {
   "cell_type": "code",
   "execution_count": 15,
   "id": "df68c2c9",
   "metadata": {},
   "outputs": [
    {
     "name": "stdout",
     "output_type": "stream",
     "text": [
      "10\n",
      "9\n",
      "8\n",
      "7\n",
      "6\n",
      "5\n",
      "4\n",
      "3\n",
      "2\n",
      "1\n"
     ]
    }
   ],
   "source": [
    "for i in range(10,0,-1):\n",
    "    print(i)"
   ]
  },
  {
   "cell_type": "markdown",
   "id": "c0d83e10",
   "metadata": {},
   "source": [
    "#### Printing numbers from 50 to 10[50,45,40....]"
   ]
  },
  {
   "cell_type": "code",
   "execution_count": 16,
   "id": "da1090f4",
   "metadata": {},
   "outputs": [
    {
     "name": "stdout",
     "output_type": "stream",
     "text": [
      "50\n",
      "45\n",
      "40\n",
      "35\n",
      "30\n",
      "25\n",
      "20\n",
      "15\n",
      "10\n",
      "5\n"
     ]
    }
   ],
   "source": [
    "for i in range(50,1,-5):\n",
    "    print(i)\n"
   ]
  },
  {
   "cell_type": "code",
   "execution_count": 17,
   "id": "3ede753f",
   "metadata": {},
   "outputs": [
    {
     "name": "stdout",
     "output_type": "stream",
     "text": [
      "1\n",
      "9\n",
      "25\n",
      "49\n"
     ]
    }
   ],
   "source": [
    "l=[1,3,5,7]\n",
    "for i in l:\n",
    "    print(i**2)"
   ]
  },
  {
   "cell_type": "markdown",
   "id": "b13dd494",
   "metadata": {},
   "source": [
    "#### 1.sum of numbers"
   ]
  },
  {
   "cell_type": "code",
   "execution_count": null,
   "id": "46ea26f6",
   "metadata": {},
   "outputs": [],
   "source": [
    "#1,2,3,4,5"
   ]
  },
  {
   "cell_type": "code",
   "execution_count": 18,
   "id": "d8949316",
   "metadata": {},
   "outputs": [
    {
     "name": "stdout",
     "output_type": "stream",
     "text": [
      "Enter a number:11\n",
      "sum: 66\n"
     ]
    }
   ],
   "source": [
    "sum1=0\n",
    "n = int(input(\"Enter a number:\"))\n",
    "for i in range (1,n+1):\n",
    "    sum1 += i #sum1=sum1+i\n",
    "print(\"sum:\", sum1)"
   ]
  },
  {
   "cell_type": "code",
   "execution_count": 19,
   "id": "f34bb968",
   "metadata": {},
   "outputs": [
    {
     "name": "stdout",
     "output_type": "stream",
     "text": [
      "Enter a number: 5\n",
      "Sum: 15\n"
     ]
    }
   ],
   "source": [
    "total = 0\n",
    "n = int(input(\"Enter a number: \"))\n",
    "for i in range(1, n+ 1 ):\n",
    "    total += i\n",
    "print(\"Sum:\", total)\n"
   ]
  },
  {
   "cell_type": "markdown",
   "id": "4961d932",
   "metadata": {},
   "source": [
    "### 2.Factorial"
   ]
  },
  {
   "cell_type": "code",
   "execution_count": null,
   "id": "7bb911d4",
   "metadata": {},
   "outputs": [],
   "source": [
    "#4!=4*3*2*1"
   ]
  },
  {
   "cell_type": "code",
   "execution_count": 20,
   "id": "94e77a7f",
   "metadata": {},
   "outputs": [
    {
     "name": "stdout",
     "output_type": "stream",
     "text": [
      "Enter a number:10\n",
      "factorial: 3628800\n"
     ]
    }
   ],
   "source": [
    "factorial = 1\n",
    "n = int(input(\"Enter a number:\"))\n",
    "for i in range(1,n+1):\n",
    "    factorial=factorial*i\n",
    "print(\"factorial:\",factorial)"
   ]
  },
  {
   "cell_type": "code",
   "execution_count": 21,
   "id": "5afeb7a9",
   "metadata": {},
   "outputs": [
    {
     "name": "stdout",
     "output_type": "stream",
     "text": [
      "Enter a number: 5\n",
      "Factorial: 120\n"
     ]
    }
   ],
   "source": [
    "result = 1\n",
    "n = int(input(\"Enter a number: \"))\n",
    "for i in range(1, n + 1):\n",
    "    result =result*i\n",
    "print(\"Factorial:\", result)\n"
   ]
  },
  {
   "cell_type": "markdown",
   "id": "04364244",
   "metadata": {},
   "source": [
    "### 3.Table of a number:"
   ]
  },
  {
   "cell_type": "code",
   "execution_count": 22,
   "id": "079a61e9",
   "metadata": {},
   "outputs": [
    {
     "name": "stdout",
     "output_type": "stream",
     "text": [
      "Enter a Number:4\n",
      "4 x 1 = 4\n",
      "4 x 2 = 8\n",
      "4 x 3 = 12\n",
      "4 x 4 = 16\n",
      "4 x 5 = 20\n",
      "4 x 6 = 24\n",
      "4 x 7 = 28\n",
      "4 x 8 = 32\n",
      "4 x 9 = 36\n",
      "4 x 10 = 40\n"
     ]
    }
   ],
   "source": [
    "n=int(input(\"Enter a Number:\"))\n",
    "for i in range(1, 11):\n",
    "    print(f\"{n} x {i} = {n * i}\")\n",
    "    #print(n,\"x\",i, \"=\",n*i)"
   ]
  },
  {
   "cell_type": "markdown",
   "id": "9a50f736",
   "metadata": {},
   "source": [
    "#### 4.counting characteras in a string:"
   ]
  },
  {
   "cell_type": "code",
   "execution_count": 23,
   "id": "6c96a313",
   "metadata": {},
   "outputs": [
    {
     "name": "stdout",
     "output_type": "stream",
     "text": [
      "Enter a string:Hellllo\n",
      "Enter a charater to count:l\n",
      "occurrences of 'l': 4\n"
     ]
    }
   ],
   "source": [
    "text = str(input(\"Enter a string:\"))  #sayliiii\n",
    "target_char = input(\"Enter a charater to count:\")\n",
    "count = 0 \n",
    "\n",
    "for c in text:                                                                                                                                                               \n",
    "    if c ==  target_char:\n",
    "        count += 1 #count=count+1\n",
    "print(f\"occurrences of '{target_char}': {count}\")\n",
    "        "
   ]
  },
  {
   "cell_type": "code",
   "execution_count": 24,
   "id": "13b701cf",
   "metadata": {},
   "outputs": [
    {
     "name": "stdout",
     "output_type": "stream",
     "text": [
      "Enter a string: hellloo\n",
      "Enter a character to count: a\n",
      "Occurrences of 'a': 0\n"
     ]
    }
   ],
   "source": [
    "text = str(input(\"Enter a string: \"))\n",
    "target_char = input(\"Enter a character to count: \")\n",
    "count = 0\n",
    "\n",
    "for c in text:\n",
    "    if c == target_char:\n",
    "        count += 1\n",
    "print(f\"Occurrences of '{target_char}': {count}\")\n"
   ]
  },
  {
   "cell_type": "markdown",
   "id": "54f6a13a",
   "metadata": {},
   "source": [
    "#### 5.calculating the average grade for a list of stuident grades."
   ]
  },
  {
   "cell_type": "code",
   "execution_count": null,
   "id": "552de749",
   "metadata": {
    "scrolled": true
   },
   "outputs": [
    {
     "name": "stdout",
     "output_type": "stream",
     "text": [
      "\n",
      "Welcome to Python 3.11's help utility!\n",
      "\n",
      "If this is your first time using Python, you should definitely check out\n",
      "the tutorial on the internet at https://docs.python.org/3.11/tutorial/.\n",
      "\n",
      "Enter the name of any module, keyword, or topic to get help on writing\n",
      "Python programs and using Python modules.  To quit this help utility and\n",
      "return to the interpreter, just type \"quit\".\n",
      "\n",
      "To get a list of available modules, keywords, symbols, or topics, type\n",
      "\"modules\", \"keywords\", \"symbols\", or \"topics\".  Each module also comes\n",
      "with a one-line summary of what it does; to list the modules whose name\n",
      "or summary contain a given string such as \"spam\", type \"modules spam\".\n",
      "\n"
     ]
    }
   ],
   "source": [
    "help()"
   ]
  },
  {
   "cell_type": "code",
   "execution_count": 1,
   "id": "083d560c",
   "metadata": {},
   "outputs": [
    {
     "name": "stdout",
     "output_type": "stream",
     "text": [
      "Average Grade: 86.6\n"
     ]
    }
   ],
   "source": [
    "grades = [85,90,78,92,88] #average\n",
    "total =0\n",
    "for i in grades:\n",
    "    total += i\n",
    "average = total / len(grades)\n",
    "print(\"Average Grade:\" , average)"
   ]
  },
  {
   "cell_type": "markdown",
   "id": "62ae9c57",
   "metadata": {},
   "source": [
    "#### 6.Prime Number"
   ]
  },
  {
   "cell_type": "code",
   "execution_count": 2,
   "id": "8b8d819a",
   "metadata": {},
   "outputs": [
    {
     "name": "stdout",
     "output_type": "stream",
     "text": [
      "not prime no\n"
     ]
    }
   ],
   "source": [
    "num=15  #1,2,3,4,5,6,7,8,9,10\n",
    "for i in range(2,num):\n",
    "    if num%i==0:\n",
    "        print(\"not prime no\")\n",
    "        break\n",
    "    \n",
    "else:\n",
    "    print(\"prime\")"
   ]
  },
  {
   "cell_type": "markdown",
   "id": "88ff0ed6",
   "metadata": {},
   "source": [
    "### Printing Patterns"
   ]
  },
  {
   "cell_type": "code",
   "execution_count": null,
   "id": "077db344",
   "metadata": {},
   "outputs": [],
   "source": [
    "#We require 5 things -Input: How Many Rows -for loop: 1 for rows and 1 for colums- -range(start, stop) -print() #new line -end=\" \""
   ]
  },
  {
   "cell_type": "markdown",
   "id": "a067886e",
   "metadata": {},
   "source": [
    "#### use of end=\" \""
   ]
  },
  {
   "cell_type": "code",
   "execution_count": 3,
   "id": "361d9601",
   "metadata": {},
   "outputs": [
    {
     "name": "stdout",
     "output_type": "stream",
     "text": [
      "hello\n",
      "hi\n"
     ]
    }
   ],
   "source": [
    "print(\"hello\")\n",
    "print(\"hi\")\n"
   ]
  },
  {
   "cell_type": "code",
   "execution_count": 4,
   "id": "4add2f25",
   "metadata": {},
   "outputs": [
    {
     "name": "stdout",
     "output_type": "stream",
     "text": [
      "hello hi\n"
     ]
    }
   ],
   "source": [
    "print(\"hello\",end=\" \")\n",
    "print(\"hi\")"
   ]
  },
  {
   "cell_type": "code",
   "execution_count": 5,
   "id": "c7ff376c",
   "metadata": {},
   "outputs": [
    {
     "name": "stdout",
     "output_type": "stream",
     "text": [
      "# # # # "
     ]
    }
   ],
   "source": [
    "print(\"#\",end=\" \")\n",
    "print(\"#\",end=\" \")\n",
    "print(\"#\",end=\" \")\n",
    "print(\"#\",end=\" \")\n"
   ]
  },
  {
   "cell_type": "code",
   "execution_count": 6,
   "id": "7f4e8ec8",
   "metadata": {},
   "outputs": [
    {
     "name": "stdout",
     "output_type": "stream",
     "text": [
      "# # # # "
     ]
    }
   ],
   "source": [
    "for i in range(0,4):\n",
    "    print(\"#\",end=\" \")"
   ]
  },
  {
   "cell_type": "code",
   "execution_count": 7,
   "id": "a9cc46d6",
   "metadata": {},
   "outputs": [
    {
     "name": "stdout",
     "output_type": "stream",
     "text": [
      "*****\n",
      "*****\n",
      "*****\n",
      "*****\n",
      "*****\n"
     ]
    }
   ],
   "source": [
    "size = 5\n",
    "for i in range(size):\n",
    "    print(\"*\" * size)\n"
   ]
  },
  {
   "cell_type": "code",
   "execution_count": 8,
   "id": "49d25de8",
   "metadata": {},
   "outputs": [
    {
     "name": "stdout",
     "output_type": "stream",
     "text": [
      "# # # # \n",
      "\n",
      "# # # # \n",
      "\n",
      "# # # # \n",
      "\n",
      "# # # # \n",
      "\n"
     ]
    }
   ],
   "source": [
    "for i in range(4):\n",
    "    print(\"#\",end=\" \")\n",
    "print(\"\\n\") #new line    \n",
    "for i in range(4):\n",
    "    print(\"#\",end=\" \")\n",
    "print(\"\\n\") #new line    \n",
    "for i in range(4):\n",
    "    print(\"#\",end=\" \")\n",
    "print(\"\\n\")\n",
    "for i in range(4):\n",
    "    print(\"#\",end=\" \")  \n",
    "print(\"\\n\")\n",
    "    "
   ]
  },
  {
   "cell_type": "code",
   "execution_count": 9,
   "id": "fa78e12f",
   "metadata": {},
   "outputs": [
    {
     "name": "stdout",
     "output_type": "stream",
     "text": [
      "# # # # \n",
      "# # # # \n",
      "# # # # \n",
      "# # # # \n"
     ]
    }
   ],
   "source": [
    "for i in range(4): #for loop for rows\n",
    "    for j in range(4): #nested for loop gor colum\n",
    "        print(\"#\",end=\" \")\n",
    "    print() #new Line"
   ]
  },
  {
   "cell_type": "code",
   "execution_count": 10,
   "id": "dba273f2",
   "metadata": {},
   "outputs": [
    {
     "name": "stdout",
     "output_type": "stream",
     "text": [
      "# \n",
      "# # \n",
      "# # # \n",
      "# # # # \n",
      "# # # # # \n"
     ]
    }
   ],
   "source": [
    "for row in range(1,6):\n",
    "    for colum in range(row):\n",
    "        print(\"#\", end=\" \")\n",
    "    print()"
   ]
  },
  {
   "cell_type": "code",
   "execution_count": 11,
   "id": "c68e9df9",
   "metadata": {},
   "outputs": [
    {
     "name": "stdout",
     "output_type": "stream",
     "text": [
      "Enter the number of rows:7\n",
      "* \n",
      "* * \n",
      "* * * \n",
      "* * * * \n",
      "* * * * * \n",
      "* * * * * * \n"
     ]
    }
   ],
   "source": [
    "num_line = int(input(\"Enter the number of rows:\"))\n",
    "for row in range(1,num_line):\n",
    "    for col in range(row):\n",
    "        print(\"*\",end=\" \")\n",
    "    print() #new line    "
   ]
  },
  {
   "cell_type": "code",
   "execution_count": 12,
   "id": "71e38e41",
   "metadata": {},
   "outputs": [
    {
     "name": "stdout",
     "output_type": "stream",
     "text": [
      "Enter the number of rows:8\n",
      "* * * * * * * * \n",
      "* * * * * * * \n",
      "* * * * * * \n",
      "* * * * * \n",
      "* * * * \n",
      "* * * \n",
      "* * \n",
      "* \n",
      "\n"
     ]
    }
   ],
   "source": [
    "num_row = int(input(\"Enter the number of rows:\"))\n",
    "for row in range(num_row+1):\n",
    "    for col in range(num_row-row):\n",
    "        print(\"*\",end=\" \")\n",
    "    print() #new line    "
   ]
  },
  {
   "cell_type": "code",
   "execution_count": 13,
   "id": "5ca6f6ad",
   "metadata": {},
   "outputs": [
    {
     "name": "stdout",
     "output_type": "stream",
     "text": [
      "Enter the number of rows:5\n",
      "+++++\n",
      "++++\n",
      "+++\n",
      "++\n",
      "+\n",
      "\n"
     ]
    }
   ],
   "source": [
    "row = int(input(\"Enter the number of rows:\"))\n",
    "for i in range (row+1):\n",
    "    for j in range(row-i):\n",
    "        print(\"+\",end=\"\")\n",
    "    print() #This is for new line"
   ]
  },
  {
   "cell_type": "code",
   "execution_count": 14,
   "id": "318ef06b",
   "metadata": {},
   "outputs": [
    {
     "name": "stdout",
     "output_type": "stream",
     "text": [
      "1 \n",
      "2 2 \n",
      "3 3 3 \n",
      "4 4 4 4 \n",
      "5 5 5 5 5 \n"
     ]
    }
   ],
   "source": [
    "for i in range(1,6):\n",
    "    for j in range(i):\n",
    "        print(i,end=\" \")\n",
    "    print()\n",
    "\n",
    "    \n",
    "    "
   ]
  },
  {
   "cell_type": "code",
   "execution_count": 15,
   "id": "6a63545f",
   "metadata": {},
   "outputs": [
    {
     "name": "stdout",
     "output_type": "stream",
     "text": [
      "0\n",
      "11\n",
      "222\n",
      "3333\n"
     ]
    }
   ],
   "source": [
    "for i in range(4):\n",
    "    for j in range(i+1):\n",
    "        print(i,end=\"\")\n",
    "    print()"
   ]
  },
  {
   "cell_type": "code",
   "execution_count": 16,
   "id": "6a270335",
   "metadata": {},
   "outputs": [
    {
     "name": "stdout",
     "output_type": "stream",
     "text": [
      "00\n",
      "111\n",
      "2222\n",
      "33333\n",
      "444444\n",
      "5555555\n"
     ]
    }
   ],
   "source": [
    "for i in range(6):\n",
    "    for j in range(i+2):\n",
    "        print(i,end=\"\")\n",
    "    print()"
   ]
  },
  {
   "cell_type": "markdown",
   "id": "d4aadb13",
   "metadata": {},
   "source": [
    "#### For loop with if"
   ]
  },
  {
   "cell_type": "markdown",
   "id": "6c235646",
   "metadata": {},
   "source": [
    "### 1.Even"
   ]
  },
  {
   "cell_type": "code",
   "execution_count": 17,
   "id": "b50af3e2",
   "metadata": {},
   "outputs": [
    {
     "name": "stdout",
     "output_type": "stream",
     "text": [
      "0\n",
      "2\n",
      "4\n",
      "6\n",
      "8\n",
      "10\n"
     ]
    }
   ],
   "source": [
    "for i in range(0,11):\n",
    "    if i%2==0:\n",
    "        print(i)"
   ]
  },
  {
   "cell_type": "markdown",
   "id": "c4353540",
   "metadata": {},
   "source": [
    "### 2.odd"
   ]
  },
  {
   "cell_type": "code",
   "execution_count": 18,
   "id": "a94136ad",
   "metadata": {},
   "outputs": [
    {
     "name": "stdout",
     "output_type": "stream",
     "text": [
      "1\n",
      "3\n",
      "5\n",
      "7\n",
      "9\n"
     ]
    }
   ],
   "source": [
    "for i in range(0,11):\n",
    "    if i%2!=0:\n",
    "        print(i)"
   ]
  },
  {
   "cell_type": "markdown",
   "id": "0e4a2040",
   "metadata": {},
   "source": [
    "#### Even and odd number using if else"
   ]
  },
  {
   "cell_type": "code",
   "execution_count": 19,
   "id": "512babeb",
   "metadata": {},
   "outputs": [
    {
     "name": "stdout",
     "output_type": "stream",
     "text": [
      "1 is odd\n",
      "2 is even\n",
      "3 is odd\n",
      "4 is even\n",
      "5 is odd\n",
      "6 is even\n",
      "7 is odd\n",
      "8 is even\n",
      "9 is odd\n",
      "10 is even\n"
     ]
    }
   ],
   "source": [
    "for num in range(1,11):\n",
    "    if num % 2==0:\n",
    "        print(num,\"is even\")\n",
    "    else:\n",
    "        print(num,\"is odd\")"
   ]
  },
  {
   "cell_type": "markdown",
   "id": "c9e6c09f",
   "metadata": {},
   "source": [
    "#### 3.check vowels"
   ]
  },
  {
   "cell_type": "code",
   "execution_count": 20,
   "id": "ce0e2834",
   "metadata": {},
   "outputs": [
    {
     "name": "stdout",
     "output_type": "stream",
     "text": [
      "e\n",
      "o\n",
      "o\n"
     ]
    }
   ],
   "source": [
    "text=\"hello word\"\n",
    "vowels=\"aeiouAEIOU\"\n",
    "for char in text:\n",
    "    if char in vowels:\n",
    "        print(char)"
   ]
  },
  {
   "cell_type": "code",
   "execution_count": 21,
   "id": "9923660c",
   "metadata": {},
   "outputs": [
    {
     "name": "stdout",
     "output_type": "stream",
     "text": [
      "a\n",
      "e\n",
      "I\n",
      "a\n",
      "u\n",
      "i\n"
     ]
    }
   ],
   "source": [
    "text=\"My Name Is gauri\"\n",
    "vowels=\"AEIOUaeiou\"\n",
    "for char in text:\n",
    "    if char in vowels:\n",
    "        print(char)"
   ]
  },
  {
   "cell_type": "markdown",
   "id": "68ba1253",
   "metadata": {},
   "source": [
    "### 4.Filtering Positive numbers"
   ]
  },
  {
   "cell_type": "code",
   "execution_count": 22,
   "id": "d88038a0",
   "metadata": {},
   "outputs": [
    {
     "name": "stdout",
     "output_type": "stream",
     "text": [
      "posittive Number are:\n",
      "2\n",
      "4\n",
      "1\n",
      "6\n",
      "8\n"
     ]
    }
   ],
   "source": [
    "number=[2,4,-5,1,-2,6,-7,8]\n",
    "print(\"posittive Number are:\")\n",
    "for num in number:\n",
    "        if num >0:\n",
    "            print(num)\n"
   ]
  },
  {
   "cell_type": "markdown",
   "id": "9cbe4dde",
   "metadata": {},
   "source": [
    "#### 4.Filtering Negative numbers"
   ]
  },
  {
   "cell_type": "code",
   "execution_count": 23,
   "id": "3269db30",
   "metadata": {},
   "outputs": [
    {
     "name": "stdout",
     "output_type": "stream",
     "text": [
      "Negative Numbers are:\n",
      "-2\n",
      "-3\n",
      "-5\n",
      "-10\n"
     ]
    }
   ],
   "source": [
    "number=[-0,-2,-3,-5,6,8,-10,3]\n",
    "print(\"Negative Numbers are:\")\n",
    "for num in number:\n",
    "        if num <0:\n",
    "            print(num)"
   ]
  },
  {
   "cell_type": "markdown",
   "id": "9527addc",
   "metadata": {},
   "source": [
    "#### 5.Identifying Palindromes:"
   ]
  },
  {
   "cell_type": "code",
   "execution_count": 24,
   "id": "958e40b7",
   "metadata": {},
   "outputs": [
    {
     "name": "stdout",
     "output_type": "stream",
     "text": [
      "level is a palindrome\n",
      "radar is a palindrome\n"
     ]
    }
   ],
   "source": [
    "words = [\"level\", \"hello\", \"radar\", \"python\"]\n",
    "for word in words:\n",
    "    if word == word[::-1]:\n",
    "        print(word, \"is a palindrome\")"
   ]
  },
  {
   "cell_type": "markdown",
   "id": "7d6e0c86",
   "metadata": {},
   "source": [
    "### Iterating over list"
   ]
  },
  {
   "cell_type": "code",
   "execution_count": 26,
   "id": "3c3be682",
   "metadata": {},
   "outputs": [
    {
     "name": "stdout",
     "output_type": "stream",
     "text": [
      "apple\n",
      "banana\n",
      "mango\n",
      "graps\n"
     ]
    }
   ],
   "source": [
    "fruits=[\"apple\",\"banana\",\"mango\",\"graps\"]\n",
    "for fruit in fruits:\n",
    "    print(fruit)"
   ]
  },
  {
   "cell_type": "markdown",
   "id": "8651691d",
   "metadata": {},
   "source": [
    "#### Claculating Total Expenses"
   ]
  },
  {
   "cell_type": "code",
   "execution_count": 27,
   "id": "bcec2b2f",
   "metadata": {},
   "outputs": [
    {
     "name": "stdout",
     "output_type": "stream",
     "text": [
      "Total expenses: 151.3\n"
     ]
    }
   ],
   "source": [
    "expenses = [6.0,33.0,56.0,12.3,44.0]\n",
    "total=0\n",
    "for expense in expenses:\n",
    "    total += expense\n",
    "print(\"Total expenses:\", total)\n",
    "    \n"
   ]
  },
  {
   "cell_type": "markdown",
   "id": "0df6fb1b",
   "metadata": {},
   "source": [
    "#### Finding Maximum and Minimum Values:"
   ]
  },
  {
   "cell_type": "code",
   "execution_count": 28,
   "id": "71020755",
   "metadata": {},
   "outputs": [
    {
     "name": "stdout",
     "output_type": "stream",
     "text": [
      "Maximum value: 100\n",
      "Minimum value: 9\n"
     ]
    }
   ],
   "source": [
    "numbers = [25, 18, 32, 47, 12, 9,100]\n",
    "max_value = numbers[0]\n",
    "min_value = numbers[0]\n",
    "for num in numbers:\n",
    "    if num > max_value:\n",
    "        max_value = num\n",
    "    if num < min_value:\n",
    "        min_value = num\n",
    "print(\"Maximum value:\", max_value)\n",
    "print(\"Minimum value:\", min_value)"
   ]
  },
  {
   "cell_type": "markdown",
   "id": "c23ed861",
   "metadata": {},
   "source": [
    "#### Searching for an Item"
   ]
  },
  {
   "cell_type": "code",
   "execution_count": 29,
   "id": "7f4858ff",
   "metadata": {},
   "outputs": [
    {
     "name": "stdout",
     "output_type": "stream",
     "text": [
      "Enter the item you want to find: mango\n",
      "mango is not in the list.\n"
     ]
    }
   ],
   "source": [
    "items = [\"apple\", \"banana\", \"orange\", \"grape\"]\n",
    "target_item = str(input(\"Enter the item you want to find: \"))\n",
    "found = False\n",
    "for item in items:\n",
    "    if item == target_item:\n",
    "        found = True\n",
    "        break\n",
    "if found:\n",
    "    print(target_item, \"is in the list.\")\n",
    "else:\n",
    "    print(target_item, \"is not in the list.\")\n"
   ]
  },
  {
   "cell_type": "markdown",
   "id": "aa6fe16e",
   "metadata": {},
   "source": [
    "#### Printing Elements with Specific Property:"
   ]
  },
  {
   "cell_type": "code",
   "execution_count": 30,
   "id": "31f4fdc5",
   "metadata": {},
   "outputs": [
    {
     "name": "stdout",
     "output_type": "stream",
     "text": [
      "Long word: banana\n",
      "Long word: orange\n",
      "Long word: watermelon\n"
     ]
    }
   ],
   "source": [
    "words = [\"apple\", \"banana\", \"orange\", \"grape\", \"watermelon\", \"kiwi\"]\n",
    "for word in words:\n",
    "    if len(word) > 5:\n",
    "        print(\"Long word:\", word)\n"
   ]
  },
  {
   "cell_type": "code",
   "execution_count": 31,
   "id": "7d74e23d",
   "metadata": {},
   "outputs": [
    {
     "name": "stdout",
     "output_type": "stream",
     "text": [
      "H\n"
     ]
    }
   ],
   "source": [
    "s=\"Hello python\"\n",
    "for char in s:\n",
    "    if char==\"H\":\n",
    "        print(char)"
   ]
  },
  {
   "cell_type": "code",
   "execution_count": 32,
   "id": "1719e564",
   "metadata": {},
   "outputs": [
    {
     "name": "stdout",
     "output_type": "stream",
     "text": [
      "[[0, 4, 8], [1, 5, 9], [2, 6, 10], [3, 7, 11]]\n"
     ]
    }
   ],
   "source": [
    "a=[]\n",
    "b=[[0,1,2,3],[4,5,6,7],[8,9,10,11]]\n",
    "for i in range(4):\n",
    "    a.append([row[i] for row in b])\n",
    "print(a)"
   ]
  },
  {
   "cell_type": "code",
   "execution_count": null,
   "id": "763074da",
   "metadata": {},
   "outputs": [],
   "source": []
  },
  {
   "cell_type": "markdown",
   "id": "6d6e7e45",
   "metadata": {},
   "source": [
    "# While Loop "
   ]
  },
  {
   "cell_type": "code",
   "execution_count": null,
   "id": "148cd024",
   "metadata": {},
   "outputs": [],
   "source": [
    "Python While Loop is used to execute a block of statements repeatedly until a given condition is \n",
    "satisfied. When the condition becomes false, the line immediately after the loop in the program is\n",
    "executed."
   ]
  },
  {
   "cell_type": "markdown",
   "id": "20034e73",
   "metadata": {},
   "source": [
    "### Print numbers from 1 to 10 using while loop"
   ]
  },
  {
   "cell_type": "code",
   "execution_count": 3,
   "id": "d5ca0db7",
   "metadata": {},
   "outputs": [
    {
     "name": "stdout",
     "output_type": "stream",
     "text": [
      "1\n",
      "2\n",
      "3\n",
      "4\n",
      "5\n",
      "6\n",
      "7\n",
      "8\n",
      "9\n",
      "10\n"
     ]
    }
   ],
   "source": [
    "i=1\n",
    "while i<11:\n",
    "    print(i)\n",
    "    i=i+1"
   ]
  },
  {
   "cell_type": "code",
   "execution_count": 7,
   "id": "80f8e554",
   "metadata": {},
   "outputs": [
    {
     "name": "stdout",
     "output_type": "stream",
     "text": [
      "Hello Gauri\n",
      "Hello Gauri\n",
      "Hello Gauri\n",
      "Hello Gauri\n"
     ]
    }
   ],
   "source": [
    "count = 0\n",
    "while (count < 4): \n",
    "    count = count + 1\n",
    "    print(\"Hello Gauri\")"
   ]
  },
  {
   "cell_type": "code",
   "execution_count": 4,
   "id": "aee17e20",
   "metadata": {},
   "outputs": [
    {
     "name": "stdout",
     "output_type": "stream",
     "text": [
      "1\n",
      "2\n",
      "3\n",
      "4\n",
      "5\n",
      "6\n",
      "7\n",
      "8\n",
      "9\n",
      "10\n"
     ]
    }
   ],
   "source": [
    "for i in range(1,11):\n",
    "    print(i)\n"
   ]
  },
  {
   "cell_type": "markdown",
   "id": "cc998ae6",
   "metadata": {},
   "source": [
    "### Print sum of all bils enterd by the user"
   ]
  },
  {
   "cell_type": "code",
   "execution_count": 3,
   "id": "644321f6",
   "metadata": {
    "scrolled": true
   },
   "outputs": [
    {
     "name": "stdout",
     "output_type": "stream",
     "text": [
      "Enter the bill\n",
      "1\n",
      "Enter next bill\n",
      "2\n",
      "Enter next bill\n",
      "3\n",
      "Enter next bill\n",
      "5\n",
      "Enter next bill\n",
      "0\n",
      "sum is 11\n"
     ]
    }
   ],
   "source": [
    "print(\"Enter the bill\")\n",
    "bill = int(input())\n",
    "sum = bill\n",
    "while bill!=0:\n",
    "    print(\"Enter next bill\")\n",
    "    bill =int(input())\n",
    "    sum = sum+bill\n",
    "print(\"sum is\",sum)\n",
    "    "
   ]
  },
  {
   "cell_type": "code",
   "execution_count": 28,
   "id": "32ae5821",
   "metadata": {},
   "outputs": [
    {
     "name": "stdout",
     "output_type": "stream",
     "text": [
      "Enter the voteA\n",
      "Enter the voteA\n",
      "Enter the voteA\n",
      "Enter the voteq\n",
      "Alex: 3\n",
      "Manu: 0\n"
     ]
    }
   ],
   "source": [
    "mcount=0\n",
    "acount=0\n",
    "vote=\"M\"\n",
    "while vote!=\"q\":\n",
    "   \n",
    "    vote=str(input(\"Enter the vote\"))\n",
    "    if vote==\"M\":\n",
    "        mcount=mcount+1\n",
    "    elif vote==\"A\":\n",
    "        \n",
    "        acount=acount+1\n",
    "print(\"Alex:\",acount)\n",
    "print(\"Manu:\",mcount)\n"
   ]
  },
  {
   "cell_type": "markdown",
   "id": "93a77fef",
   "metadata": {},
   "source": [
    "### Break and continue "
   ]
  },
  {
   "cell_type": "code",
   "execution_count": 35,
   "id": "ca9505b7",
   "metadata": {
    "scrolled": true
   },
   "outputs": [
    {
     "name": "stdout",
     "output_type": "stream",
     "text": [
      "Enter the distance\n",
      "-23\n",
      "Invalid distance\n"
     ]
    }
   ],
   "source": [
    "ch=\"y\"\n",
    "while ch!=\"n\":\n",
    "    print(\"Enter the distance\")\n",
    "    dis = int(input())\n",
    "    if dis<0:\n",
    "        print(\"Invalid distance\")\n",
    "        break\n",
    "    print(\"Enter time\")\n",
    "    t=int(input())\n",
    "    s=dis/t\n",
    "    print(\"speed is :\",s)\n",
    "       \n",
    "    ch=input(\"Do you want to continue?\")"
   ]
  },
  {
   "cell_type": "code",
   "execution_count": 36,
   "id": "b001d6a5",
   "metadata": {},
   "outputs": [
    {
     "name": "stdout",
     "output_type": "stream",
     "text": [
      "Enter the distance\n",
      "23\n",
      "Enter time\n",
      "2\n",
      "speed is : 11.5\n",
      "Do you want to continue?n\n"
     ]
    }
   ],
   "source": [
    "ch=\"y\"\n",
    "while ch!=\"n\":\n",
    "    print(\"Enter the distance\")\n",
    "    dis = int(input())\n",
    "    if dis<0:\n",
    "        print(\"Invalid distance\")\n",
    "        continue\n",
    "    print(\"Enter time\")\n",
    "    t=int(input())\n",
    "    s=dis/t\n",
    "    print(\"speed is :\",s)\n",
    "       \n",
    "    ch=input(\"Do you want to continue?\")"
   ]
  },
  {
   "cell_type": "code",
   "execution_count": 1,
   "id": "f360b382",
   "metadata": {},
   "outputs": [
    {
     "name": "stdout",
     "output_type": "stream",
     "text": [
      "[[0, 4, 8], [1, 5, 9], [2, 6, 10], [3, 7, 11]]\n"
     ]
    }
   ],
   "source": [
    "a=[]\n",
    "b=[[0,1,2,3],[4,5,6,7],[8,9,10,11]]\n",
    "for i in range(4):\n",
    "    a.append([row[i] for row in b])\n",
    "print(a)\n",
    "    "
   ]
  },
  {
   "cell_type": "code",
   "execution_count": null,
   "id": "8bef3c13",
   "metadata": {},
   "outputs": [],
   "source": []
  }
 ],
 "metadata": {
  "kernelspec": {
   "display_name": "Python 3 (ipykernel)",
   "language": "python",
   "name": "python3"
  },
  "language_info": {
   "codemirror_mode": {
    "name": "ipython",
    "version": 3
   },
   "file_extension": ".py",
   "mimetype": "text/x-python",
   "name": "python",
   "nbconvert_exporter": "python",
   "pygments_lexer": "ipython3",
   "version": "3.11.5"
  }
 },
 "nbformat": 4,
 "nbformat_minor": 5
}
