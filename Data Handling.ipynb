{
 "cells": [
  {
   "cell_type": "code",
   "execution_count": 1,
   "id": "f82efe16",
   "metadata": {},
   "outputs": [],
   "source": [
    "#There are 7 built in data types\n"
   ]
  },
  {
   "cell_type": "markdown",
   "id": "513f02cb",
   "metadata": {},
   "source": [
    "- int\n",
    "- float\n",
    "- string\n",
    "- list\n",
    "- set\n",
    "- dict\n",
    "- bool\n"
   ]
  },
  {
   "cell_type": "markdown",
   "id": "039a3395",
   "metadata": {},
   "source": [
    "## Solve Quadratic Equation"
   ]
  },
  {
   "cell_type": "code",
   "execution_count": 8,
   "id": "3449f91c",
   "metadata": {},
   "outputs": [
    {
     "name": "stdout",
     "output_type": "stream",
     "text": [
      "(-2+0j)\n",
      "(-2+0j)\n"
     ]
    }
   ],
   "source": [
    "#formula for quadratic eqaution: a(x*x)+b*x+c=0\n",
    "#we require module cmath(complex math)\n",
    "import cmath\n",
    "a=1\n",
    "b=5\n",
    "c=6\n",
    "\n",
    "#for x we need duscriminanat\n",
    "\n",
    "d=(b*b-4*a*c)\n",
    "\n",
    "root1=(-b+cmath.sqrt(d))/(2*a)\n",
    "root2=(-b-cmath.sqrt(d))/(2*a)\n",
    "\n",
    "print(root1)\n",
    "print(root1)\n",
    "\n"
   ]
  },
  {
   "cell_type": "code",
   "execution_count": null,
   "id": "669638ec",
   "metadata": {},
   "outputs": [],
   "source": []
  }
 ],
 "metadata": {
  "kernelspec": {
   "display_name": "Python 3 (ipykernel)",
   "language": "python",
   "name": "python3"
  },
  "language_info": {
   "codemirror_mode": {
    "name": "ipython",
    "version": 3
   },
   "file_extension": ".py",
   "mimetype": "text/x-python",
   "name": "python",
   "nbconvert_exporter": "python",
   "pygments_lexer": "ipython3",
   "version": "3.11.5"
  }
 },
 "nbformat": 4,
 "nbformat_minor": 5
}
