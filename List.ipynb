{
 "cells": [
  {
   "cell_type": "markdown",
   "id": "d1fb2181",
   "metadata": {},
   "source": [
    "### Creating List"
   ]
  },
  {
   "cell_type": "code",
   "execution_count": 4,
   "id": "28b35615",
   "metadata": {},
   "outputs": [
    {
     "name": "stdout",
     "output_type": "stream",
     "text": [
      "good\n"
     ]
    }
   ],
   "source": [
    "s=[\"hello\",\"good\"]\n",
    "\n",
    "#first item\n",
    "print(s[1])"
   ]
  },
  {
   "cell_type": "markdown",
   "id": "e99d1c2b",
   "metadata": {},
   "source": [
    "### indexing"
   ]
  },
  {
   "cell_type": "code",
   "execution_count": 5,
   "id": "3b9ab4d7",
   "metadata": {},
   "outputs": [
    {
     "name": "stdout",
     "output_type": "stream",
     "text": [
      "black\n"
     ]
    }
   ],
   "source": [
    "colour=[\"red\",\"green\",\"pink\",\"black\",\"blue\"]\n",
    "print(colour[3])"
   ]
  },
  {
   "cell_type": "code",
   "execution_count": 17,
   "id": "96bd4e50",
   "metadata": {},
   "outputs": [
    {
     "name": "stdout",
     "output_type": "stream",
     "text": [
      "blue\n"
     ]
    }
   ],
   "source": [
    "print(colour[-1])"
   ]
  },
  {
   "cell_type": "markdown",
   "id": "b85f2374",
   "metadata": {},
   "source": [
    "## List slicing"
   ]
  },
  {
   "cell_type": "code",
   "execution_count": 6,
   "id": "91849a7b",
   "metadata": {},
   "outputs": [
    {
     "name": "stdout",
     "output_type": "stream",
     "text": [
      "['pink', 'black', 'blue']\n"
     ]
    }
   ],
   "source": [
    "colour=[\"red\",\"green\",\"pink\",\"black\",\"blue\"]\n",
    "print(colour[2:])"
   ]
  },
  {
   "cell_type": "code",
   "execution_count": 7,
   "id": "9ce814a1",
   "metadata": {},
   "outputs": [
    {
     "name": "stdout",
     "output_type": "stream",
     "text": [
      "[]\n"
     ]
    }
   ],
   "source": [
    "colour=[\"red\",\"green\",\"pink\",\"black\",\"blue\"]\n",
    "print(colour[-1:-6])"
   ]
  },
  {
   "cell_type": "code",
   "execution_count": 10,
   "id": "2c4cbb6e",
   "metadata": {},
   "outputs": [
    {
     "data": {
      "text/plain": [
       "'iruag'"
      ]
     },
     "execution_count": 10,
     "metadata": {},
     "output_type": "execute_result"
    }
   ],
   "source": [
    "s=\"gauri\"\n",
    "s[-1:-6:-1]"
   ]
  },
  {
   "cell_type": "code",
   "execution_count": 16,
   "id": "cc5cda1c",
   "metadata": {
    "scrolled": true
   },
   "outputs": [
    {
     "data": {
      "text/plain": [
       "'gaur'"
      ]
     },
     "execution_count": 16,
     "metadata": {},
     "output_type": "execute_result"
    }
   ],
   "source": [
    "s=\"gauri\"\n",
    "s[-6:-1]"
   ]
  },
  {
   "cell_type": "markdown",
   "id": "bf69f9ed",
   "metadata": {},
   "source": [
    "### Nested List"
   ]
  },
  {
   "cell_type": "code",
   "execution_count": 24,
   "id": "1dcfbd08",
   "metadata": {},
   "outputs": [
    {
     "name": "stdout",
     "output_type": "stream",
     "text": [
      "[2, 3445]\n"
     ]
    }
   ],
   "source": [
    "colour=[\"red\",\"green\",\"pink\",\"black\",\"blue\",[1,2,3,4],[2,3445]]\n",
    "print(colour[6])"
   ]
  },
  {
   "cell_type": "code",
   "execution_count": 26,
   "id": "3f27cccb",
   "metadata": {},
   "outputs": [
    {
     "name": "stdout",
     "output_type": "stream",
     "text": [
      "2\n"
     ]
    }
   ],
   "source": [
    "print(colour[6][0])"
   ]
  },
  {
   "cell_type": "code",
   "execution_count": 27,
   "id": "5d15096a",
   "metadata": {},
   "outputs": [
    {
     "data": {
      "text/plain": [
       "'d'"
      ]
     },
     "execution_count": 27,
     "metadata": {},
     "output_type": "execute_result"
    }
   ],
   "source": [
    "colour[0][2]"
   ]
  },
  {
   "cell_type": "code",
   "execution_count": 28,
   "id": "d1b4e474",
   "metadata": {},
   "outputs": [
    {
     "data": {
      "text/plain": [
       "2"
      ]
     },
     "execution_count": 28,
     "metadata": {},
     "output_type": "execute_result"
    }
   ],
   "source": [
    "colour[5][1]"
   ]
  },
  {
   "cell_type": "code",
   "execution_count": 29,
   "id": "e8ba01f9",
   "metadata": {},
   "outputs": [
    {
     "data": {
      "text/plain": [
       "'ed'"
      ]
     },
     "execution_count": 29,
     "metadata": {},
     "output_type": "execute_result"
    }
   ],
   "source": [
    "colour[0][1:3]"
   ]
  },
  {
   "cell_type": "code",
   "execution_count": 30,
   "id": "5fab2eab",
   "metadata": {},
   "outputs": [
    {
     "data": {
      "text/plain": [
       "[2, 3, 4]"
      ]
     },
     "execution_count": 30,
     "metadata": {},
     "output_type": "execute_result"
    }
   ],
   "source": [
    "colour[5][1:4]"
   ]
  },
  {
   "cell_type": "code",
   "execution_count": 37,
   "id": "f0ed71ee",
   "metadata": {},
   "outputs": [
    {
     "data": {
      "text/plain": [
       "[2, 3445]"
      ]
     },
     "execution_count": 37,
     "metadata": {},
     "output_type": "execute_result"
    }
   ],
   "source": [
    "colour[-1]"
   ]
  },
  {
   "cell_type": "code",
   "execution_count": 34,
   "id": "78a8a144",
   "metadata": {},
   "outputs": [
    {
     "data": {
      "text/plain": [
       "['red', 'green', 'pink', 'black', 'blue']"
      ]
     },
     "execution_count": 34,
     "metadata": {},
     "output_type": "execute_result"
    }
   ],
   "source": [
    "colour[0:5]"
   ]
  },
  {
   "cell_type": "code",
   "execution_count": 45,
   "id": "f7fb5fa2",
   "metadata": {},
   "outputs": [
    {
     "data": {
      "text/plain": [
       "'ed'"
      ]
     },
     "execution_count": 45,
     "metadata": {},
     "output_type": "execute_result"
    }
   ],
   "source": [
    "colour[-7][-2:]"
   ]
  },
  {
   "cell_type": "code",
   "execution_count": 68,
   "id": "0d3703cd",
   "metadata": {},
   "outputs": [
    {
     "data": {
      "text/plain": [
       "'neerg'"
      ]
     },
     "execution_count": 68,
     "metadata": {},
     "output_type": "execute_result"
    }
   ],
   "source": [
    "colour=[\"red\",\"green\",\"pink\",\"black\",\"blue\",[1,2,3,4],[2,3445]]\n",
    "colour[-6][-1:-6:-1]"
   ]
  },
  {
   "cell_type": "code",
   "execution_count": 48,
   "id": "c7432ebd",
   "metadata": {},
   "outputs": [
    {
     "data": {
      "text/plain": [
       "'gree'"
      ]
     },
     "execution_count": 48,
     "metadata": {},
     "output_type": "execute_result"
    }
   ],
   "source": [
    "colour[-6][-5:-1]"
   ]
  },
  {
   "cell_type": "code",
   "execution_count": 50,
   "id": "ff25a7c0",
   "metadata": {},
   "outputs": [
    {
     "name": "stdout",
     "output_type": "stream",
     "text": [
      "['orange', 'green', 'pink', 'black', 'blue', [1, 2, 3, 4], [2, 3445]]\n"
     ]
    }
   ],
   "source": [
    "colour[0]=\"orange\"\n",
    "print(colour)"
   ]
  },
  {
   "cell_type": "code",
   "execution_count": 51,
   "id": "01c3bcb8",
   "metadata": {},
   "outputs": [
    {
     "name": "stdout",
     "output_type": "stream",
     "text": [
      "['orange', 'green', 'pink', 'black', [1, 2, 345], [1, 2, 3, 4], [2, 3445]]\n"
     ]
    }
   ],
   "source": [
    "colour[4]=[1,2,345]\n",
    "print(colour)"
   ]
  },
  {
   "cell_type": "code",
   "execution_count": 69,
   "id": "9cd167e3",
   "metadata": {},
   "outputs": [],
   "source": [
    "colour=[\"red\",\"green\",\"pink\",\"black\",\"blue\",[1,2,3,4],[2,3445]]"
   ]
  },
  {
   "cell_type": "code",
   "execution_count": 70,
   "id": "0f8a42f2",
   "metadata": {},
   "outputs": [],
   "source": [
    "colour[1:3]=[\"gauri\",\"sayli\"]"
   ]
  },
  {
   "cell_type": "code",
   "execution_count": 71,
   "id": "fc2bdce9",
   "metadata": {},
   "outputs": [
    {
     "name": "stdout",
     "output_type": "stream",
     "text": [
      "['red', 'gauri', 'sayli', 'black', 'blue', [1, 2, 3, 4], [2, 3445]]\n"
     ]
    }
   ],
   "source": [
    "print(colour)"
   ]
  },
  {
   "cell_type": "code",
   "execution_count": 72,
   "id": "d6558958",
   "metadata": {},
   "outputs": [],
   "source": [
    "colour[1:3]=[2,4,6]"
   ]
  },
  {
   "cell_type": "code",
   "execution_count": 73,
   "id": "9c91d13a",
   "metadata": {},
   "outputs": [
    {
     "name": "stdout",
     "output_type": "stream",
     "text": [
      "['red', 2, 4, 6, 'black', 'blue', [1, 2, 3, 4], [2, 3445]]\n"
     ]
    }
   ],
   "source": [
    "print(colour)"
   ]
  },
  {
   "cell_type": "markdown",
   "id": "00d4ada7",
   "metadata": {},
   "source": [
    "### List comprehesion"
   ]
  },
  {
   "cell_type": "code",
   "execution_count": null,
   "id": "5b1c8270",
   "metadata": {},
   "outputs": [],
   "source": [
    "#syntax:  [expression for item in iterable if condition]"
   ]
  },
  {
   "cell_type": "markdown",
   "id": "29dc9a45",
   "metadata": {},
   "source": [
    "- List comprehension offers a shorter syntax when you want to create a new list based on the values of an existing list.\n",
    "Example:\n",
    "Based on a list of fruits, you want a new list, that startswith the letter \"a\" in the name.\n",
    "Without list comprehension you will have to write a for statement with a conditional test inside.\n",
    "- result always in list\n",
    "\n",
    "\n",
    "syntax:\n",
    "\n",
    "[expressoin for item in list ]\n"
   ]
  },
  {
   "cell_type": "markdown",
   "id": "e0474159",
   "metadata": {},
   "source": [
    "#### Without List Comperehensive"
   ]
  },
  {
   "cell_type": "code",
   "execution_count": 5,
   "id": "2adf0f74",
   "metadata": {},
   "outputs": [
    {
     "name": "stdout",
     "output_type": "stream",
     "text": [
      "['apple']\n"
     ]
    }
   ],
   "source": [
    "fruits=[\"apple\",\"banana\",\"cherry\",\"kiwi\",\"mango\"]\n",
    "newlist=[]\n",
    "for x in fruits:\n",
    "        if x.startswith(\"a\"):\n",
    "            newlist.append(x)\n",
    "\n",
    "print(newlist)"
   ]
  },
  {
   "cell_type": "markdown",
   "id": "ed3ecc7f",
   "metadata": {},
   "source": [
    "#### With List comprehesive"
   ]
  },
  {
   "cell_type": "code",
   "execution_count": 6,
   "id": "a3c9597e",
   "metadata": {},
   "outputs": [
    {
     "data": {
      "text/plain": [
       "['apple']"
      ]
     },
     "execution_count": 6,
     "metadata": {},
     "output_type": "execute_result"
    }
   ],
   "source": [
    "newlist1=[x for x in fruits if x.startswith(\"a\")]\n",
    "newlist1"
   ]
  },
  {
   "cell_type": "markdown",
   "id": "d2865cf3",
   "metadata": {},
   "source": [
    "#### List of even no."
   ]
  },
  {
   "cell_type": "code",
   "execution_count": 7,
   "id": "0b706fc4",
   "metadata": {},
   "outputs": [
    {
     "name": "stdout",
     "output_type": "stream",
     "text": [
      "1\n",
      "2\n",
      "3\n",
      "4\n",
      "5\n",
      "6\n",
      "7\n",
      "8\n",
      "9\n",
      "10\n",
      "11\n",
      "12\n",
      "13\n",
      "14\n",
      "15\n",
      "16\n",
      "17\n",
      "18\n",
      "19\n",
      "20\n",
      "21\n",
      "22\n",
      "23\n",
      "24\n",
      "25\n",
      "26\n",
      "27\n",
      "28\n",
      "29\n",
      "30\n",
      "31\n",
      "32\n",
      "33\n",
      "34\n",
      "35\n",
      "36\n",
      "37\n",
      "38\n",
      "39\n",
      "40\n",
      "41\n",
      "42\n",
      "43\n",
      "44\n",
      "45\n",
      "46\n",
      "47\n",
      "48\n",
      "49\n",
      "50\n"
     ]
    }
   ],
   "source": [
    "for i in range(1,51):\n",
    "    print(i)"
   ]
  },
  {
   "cell_type": "code",
   "execution_count": 8,
   "id": "bdb5c5fb",
   "metadata": {},
   "outputs": [
    {
     "name": "stdout",
     "output_type": "stream",
     "text": [
      "[1, 2, 3, 4, 5, 6, 7, 8, 9, 10, 11, 12, 13, 14, 15, 16, 17, 18, 19, 20, 21, 22, 23, 24, 25, 26, 27, 28, 29, 30, 31, 32, 33, 34, 35, 36, 37, 38, 39, 40, 41, 42, 43, 44, 45, 46, 47, 48, 49, 50]\n"
     ]
    }
   ],
   "source": [
    "numbers=[n for n in range(1,51)]\n",
    "print(numbers)"
   ]
  },
  {
   "cell_type": "code",
   "execution_count": 9,
   "id": "9412d980",
   "metadata": {},
   "outputs": [],
   "source": [
    "even_no=[x for x in range(1,51) if x%2==0]"
   ]
  },
  {
   "cell_type": "code",
   "execution_count": 10,
   "id": "503cca8b",
   "metadata": {},
   "outputs": [
    {
     "name": "stdout",
     "output_type": "stream",
     "text": [
      "[2, 4, 6, 8, 10, 12, 14, 16, 18, 20, 22, 24, 26, 28, 30, 32, 34, 36, 38, 40, 42, 44, 46, 48, 50]\n"
     ]
    }
   ],
   "source": [
    "print(even_no)"
   ]
  },
  {
   "cell_type": "code",
   "execution_count": 11,
   "id": "9e30a5be",
   "metadata": {},
   "outputs": [],
   "source": [
    "n=[1,2,3,4,5,6,7]\n",
    "n2=[x*x for x in n]"
   ]
  },
  {
   "cell_type": "code",
   "execution_count": 12,
   "id": "39c06704",
   "metadata": {},
   "outputs": [
    {
     "data": {
      "text/plain": [
       "[1, 4, 9, 16, 25, 36, 49]"
      ]
     },
     "execution_count": 12,
     "metadata": {},
     "output_type": "execute_result"
    }
   ],
   "source": [
    "n2"
   ]
  },
  {
   "cell_type": "markdown",
   "id": "ed1984f4",
   "metadata": {},
   "source": [
    "#### Convert a string to a uppercase()"
   ]
  },
  {
   "cell_type": "code",
   "execution_count": 14,
   "id": "38c35514",
   "metadata": {},
   "outputs": [
    {
     "name": "stdout",
     "output_type": "stream",
     "text": [
      "['D', 'A', 'T', 'A', ' ', 'S', 'C', 'I', 'E', 'N', 'C', 'E']\n"
     ]
    }
   ],
   "source": [
    "string=\"data science\"\n",
    "l=[]\n",
    "for i in string:\n",
    "    upper_chr=i.upper()\n",
    "    l.append(upper_chr)\n",
    "print(l)"
   ]
  },
  {
   "cell_type": "code",
   "execution_count": 15,
   "id": "9974ca37",
   "metadata": {},
   "outputs": [
    {
     "data": {
      "text/plain": [
       "['D', 'A', 'T', 'A', ' ', 'S', 'C', 'I', 'E', 'N', 'C', 'E']"
      ]
     },
     "execution_count": 15,
     "metadata": {},
     "output_type": "execute_result"
    }
   ],
   "source": [
    "string=\"data science\"\n",
    "upper=[x.upper() for x in string]\n",
    "upper"
   ]
  },
  {
   "cell_type": "code",
   "execution_count": 16,
   "id": "23d3aaec",
   "metadata": {},
   "outputs": [],
   "source": [
    "s=\"data science\"\n",
    "a=[i for i in s]"
   ]
  },
  {
   "cell_type": "code",
   "execution_count": 17,
   "id": "b29d4f5c",
   "metadata": {},
   "outputs": [
    {
     "data": {
      "text/plain": [
       "['d', 'a', 't', 'a', ' ', 's', 'c', 'i', 'e', 'n', 'c', 'e']"
      ]
     },
     "execution_count": 17,
     "metadata": {},
     "output_type": "execute_result"
    }
   ],
   "source": [
    "a"
   ]
  },
  {
   "cell_type": "markdown",
   "id": "3502b9ce",
   "metadata": {},
   "source": [
    "#### Generating a list of tuples representing pairds of numbers:"
   ]
  },
  {
   "cell_type": "code",
   "execution_count": null,
   "id": "f6e44b2f",
   "metadata": {},
   "outputs": [],
   "source": [
    "#output: [(1,2),(2,3),(3,4),(4,5)]"
   ]
  },
  {
   "cell_type": "code",
   "execution_count": 18,
   "id": "57798c73",
   "metadata": {},
   "outputs": [
    {
     "data": {
      "text/plain": [
       "[(1, 2), (2, 3), (3, 4), (4, 5)]"
      ]
     },
     "execution_count": 18,
     "metadata": {},
     "output_type": "execute_result"
    }
   ],
   "source": [
    "pairs =[(x,x+1) for x in range(1,5)]\n",
    "pairs"
   ]
  },
  {
   "cell_type": "markdown",
   "id": "05924ff6",
   "metadata": {},
   "source": [
    "#### Creating a list of even squares using conditional expressions:"
   ]
  },
  {
   "cell_type": "code",
   "execution_count": 20,
   "id": "96a40b08",
   "metadata": {},
   "outputs": [],
   "source": [
    "numbers=[1,2,3,4,5,6]\n",
    "even_squares =[x**2 for x in numbers if x%2==0]\n",
    "#Output:[4,16,36]"
   ]
  },
  {
   "cell_type": "code",
   "execution_count": 21,
   "id": "52ca1317",
   "metadata": {},
   "outputs": [
    {
     "data": {
      "text/plain": [
       "[4, 16, 36]"
      ]
     },
     "execution_count": 21,
     "metadata": {},
     "output_type": "execute_result"
    }
   ],
   "source": [
    "even_squares"
   ]
  },
  {
   "cell_type": "code",
   "execution_count": null,
   "id": "cd7c6b79",
   "metadata": {},
   "outputs": [],
   "source": []
  }
 ],
 "metadata": {
  "kernelspec": {
   "display_name": "Python 3 (ipykernel)",
   "language": "python",
   "name": "python3"
  },
  "language_info": {
   "codemirror_mode": {
    "name": "ipython",
    "version": 3
   },
   "file_extension": ".py",
   "mimetype": "text/x-python",
   "name": "python",
   "nbconvert_exporter": "python",
   "pygments_lexer": "ipython3",
   "version": "3.11.3"
  }
 },
 "nbformat": 4,
 "nbformat_minor": 5
}
