{
 "cells": [
  {
   "cell_type": "markdown",
   "id": "f4b1cb12",
   "metadata": {},
   "source": [
    "# OOPS"
   ]
  },
  {
   "cell_type": "markdown",
   "id": "f43ee959",
   "metadata": {},
   "source": [
    "#### (oops) object oriented programming is a programing paradigam that uses objects and classes in programming"
   ]
  },
  {
   "cell_type": "markdown",
   "id": "b43b737d",
   "metadata": {},
   "source": [
    "## Class "
   ]
  },
  {
   "cell_type": "markdown",
   "id": "7da5743d",
   "metadata": {},
   "source": [
    "Class is a blueprint for creating objects.\n",
    "class represents a group of objects having similar properties and behavior."
   ]
  },
  {
   "cell_type": "code",
   "execution_count": 1,
   "id": "60aa645d",
   "metadata": {},
   "outputs": [
    {
     "name": "stdout",
     "output_type": "stream",
     "text": [
      "The car name is Ferrari ,colour is and speed is 340KMPH\n"
     ]
    }
   ],
   "source": [
    "class car:\n",
    "    def specifications(self,name,speed):\n",
    "        self.name=name\n",
    "        self.speed=speed\n",
    "        print(\"The car name is\",self.name,\",colour is\",\"and speed is\",self.speed)\n",
    "obj1=car()\n",
    "obj1.specifications(\"Ferrari\",\"340KMPH\")"
   ]
  },
  {
   "cell_type": "markdown",
   "id": "96071bce",
   "metadata": {},
   "source": [
    "### Using init"
   ]
  },
  {
   "cell_type": "code",
   "execution_count": 2,
   "id": "e09b3e7d",
   "metadata": {
    "scrolled": true
   },
   "outputs": [
    {
     "name": "stdout",
     "output_type": "stream",
     "text": [
      "The car name is Ferrari ,colour is and speed is 340KMPH\n"
     ]
    }
   ],
   "source": [
    "class car:\n",
    "    def __init__(self,name,speed):\n",
    "        self.name=name\n",
    "        self.speed=speed\n",
    "        print(\"The car name is\",self.name,\",colour is\",\"and speed is\",self.speed)\n",
    "obj1=car(\"Ferrari\",\"340KMPH\")"
   ]
  },
  {
   "cell_type": "markdown",
   "id": "1113528e",
   "metadata": {},
   "source": [
    "### Object"
   ]
  },
  {
   "cell_type": "code",
   "execution_count": 13,
   "id": "fc18d885",
   "metadata": {},
   "outputs": [
    {
     "name": "stdout",
     "output_type": "stream",
     "text": [
      "hello my name is John\n"
     ]
    }
   ],
   "source": [
    "#What is an object \n",
    "class Person:\n",
    "    def __init__(self,name,age):\n",
    "        self.name =name\n",
    "        self.age=age\n",
    "    def myfunc(self):\n",
    "        print(\"hello my name is \"+self.name)\n",
    "p1 =Person(\"John\",36)    #object name p1 of class person is created \n",
    "p1.myfunc()              #object called\n",
    "    "
   ]
  },
  {
   "cell_type": "markdown",
   "id": "f61780fb",
   "metadata": {},
   "source": [
    "### encapsulation"
   ]
  },
  {
   "cell_type": "code",
   "execution_count": null,
   "id": "0acdb412",
   "metadata": {},
   "outputs": [],
   "source": [
    "#self.name .......#public \n",
    "#self._name.......#protected\n",
    "#self.__name......#private"
   ]
  },
  {
   "cell_type": "code",
   "execution_count": 9,
   "id": "54cd6222",
   "metadata": {},
   "outputs": [
    {
     "name": "stdout",
     "output_type": "stream",
     "text": [
      "Live free ride hard royal enfield\n",
      "royal enfield\n"
     ]
    }
   ],
   "source": [
    "#protected\n",
    "class bike:\n",
    "    _name=\"royal enfield\"\n",
    "    \n",
    "    def ride(self,name1):\n",
    "        self.name1=name1\n",
    "        print(\"Live free ride hard\",self._name)\n",
    "class A(bike):\n",
    "    def function(self):\n",
    "        print(self._name)\n",
    "obj=bike()\n",
    "obj.ride(\"ferrari\")\n",
    "obj=A()\n",
    "obj.function()"
   ]
  },
  {
   "cell_type": "code",
   "execution_count": 20,
   "id": "02c24f6a",
   "metadata": {},
   "outputs": [
    {
     "name": "stdout",
     "output_type": "stream",
     "text": [
      "Live free ride hard royal enfield\n",
      "bmw\n"
     ]
    }
   ],
   "source": [
    "#private\n",
    "class bike:\n",
    "    name1=\"royal enfield\"\n",
    "    \n",
    "    def ride(self,name1):\n",
    "        self.name1=name1\n",
    "        print(\"Live free ride hard\",self.__name1)\n",
    "class A(bike):\n",
    "    def function(self,name):\n",
    "        self.name=name\n",
    "        print(self.name1)\n",
    "obj=bike()\n",
    "obj.ride(\"ferrari\")\n",
    "obj=A()\n",
    "obj.function(\"bmw\")"
   ]
  },
  {
   "cell_type": "code",
   "execution_count": 16,
   "id": "c6285a2c",
   "metadata": {},
   "outputs": [
    {
     "name": "stdout",
     "output_type": "stream",
     "text": [
      "live free ride hard\n"
     ]
    },
    {
     "data": {
      "text/plain": [
       "'royal enfield'"
      ]
     },
     "execution_count": 16,
     "metadata": {},
     "output_type": "execute_result"
    }
   ],
   "source": [
    "#public member\n",
    "class bike:\n",
    "    name=\"royal enfield\"\n",
    "    \n",
    "    def ride(self):\n",
    "        print(\"live free ride hard\")\n",
    "obj=bike()\n",
    "obj.ride()\n",
    "obj.name"
   ]
  },
  {
   "cell_type": "markdown",
   "id": "bff450ae",
   "metadata": {},
   "source": [
    "### Polymorphism"
   ]
  },
  {
   "cell_type": "code",
   "execution_count": 5,
   "id": "0f1c68de",
   "metadata": {},
   "outputs": [
    {
     "ename": "TypeError",
     "evalue": "Overloading.add() missing 1 required positional argument: 'c'",
     "output_type": "error",
     "traceback": [
      "\u001b[1;31m---------------------------------------------------------------------------\u001b[0m",
      "\u001b[1;31mTypeError\u001b[0m                                 Traceback (most recent call last)",
      "Cell \u001b[1;32mIn[5], line 8\u001b[0m\n\u001b[0;32m      6\u001b[0m         \u001b[38;5;28mprint\u001b[39m(a\u001b[38;5;241m+\u001b[39mb\u001b[38;5;241m+\u001b[39mc)\n\u001b[0;32m      7\u001b[0m a\u001b[38;5;241m=\u001b[39mOverloading()\n\u001b[1;32m----> 8\u001b[0m a\u001b[38;5;241m.\u001b[39madd(\u001b[38;5;241m5\u001b[39m,\u001b[38;5;241m10\u001b[39m)\n\u001b[0;32m      9\u001b[0m a\u001b[38;5;241m.\u001b[39madd(\u001b[38;5;241m5\u001b[39m,\u001b[38;5;241m10\u001b[39m,\u001b[38;5;241m20\u001b[39m)\n",
      "\u001b[1;31mTypeError\u001b[0m: Overloading.add() missing 1 required positional argument: 'c'"
     ]
    }
   ],
   "source": [
    "#Method overloading\n",
    "class Overloading:\n",
    "    def add(self,a,b):\n",
    "        print(a+b)\n",
    "    def add(self,a,b,c):\n",
    "        print(a+b+c)\n",
    "a=Overloading()\n",
    "a.add(5,10)\n",
    "a.add(5,10,20)\n",
    "#Note.Python does not support method overloading, this is because python always picks up the latest \n",
    "#defined method. we can still overload method in python but it would be if no use.\n",
    "#However , you can implement method overloading in the above way in java,C++,etc"
   ]
  },
  {
   "cell_type": "code",
   "execution_count": 6,
   "id": "4dd34577",
   "metadata": {},
   "outputs": [
    {
     "name": "stdout",
     "output_type": "stream",
     "text": [
      "20\n",
      "35\n"
     ]
    }
   ],
   "source": [
    "#Method overloading\n",
    "class Overloading:\n",
    "    def add(self,a,b):\n",
    "        print(a+b)\n",
    "    def add(self,a,b,c=5):\n",
    "        print(a+b+c)\n",
    "a=Overloading()\n",
    "a.add(5,10)\n",
    "a.add(5,10,20)\n",
    "#Here,we dont mention the function definition multilple times.\n",
    "#Instend, we manipulate the arguments using the same method repeatedly."
   ]
  },
  {
   "cell_type": "code",
   "execution_count": 11,
   "id": "1758d98c",
   "metadata": {},
   "outputs": [
    {
     "name": "stdout",
     "output_type": "stream",
     "text": [
      "there are different types of birds\n",
      "most of the birds can fly bt some cannot\n",
      "parrots can fly\n",
      "penguin do not fly\n"
     ]
    }
   ],
   "source": [
    "#Method Overriding \n",
    "class bird:\n",
    "    def intro(self):\n",
    "        print(\"there are different types of birds\")\n",
    "    def flight(self):\n",
    "        print(\"most of the birds can fly bt some cannot\")\n",
    "class parrot(bird):\n",
    "    def flight(self):\n",
    "        print(\"parrots can fly\")\n",
    "class penguin(bird):\n",
    "    def flight(self):\n",
    "        print(\"penguin do not fly\")\n",
    "obj=bird()\n",
    "obj.intro()\n",
    "obj.flight()\n",
    "obj1=parrot()\n",
    "obj1.flight()\n",
    "obj2=penguin()\n",
    "obj2.flight()"
   ]
  },
  {
   "cell_type": "markdown",
   "id": "4a3e0493",
   "metadata": {},
   "source": [
    "### operator ovrloading\n"
   ]
  },
  {
   "cell_type": "code",
   "execution_count": 13,
   "id": "ff5f624e",
   "metadata": {},
   "outputs": [
    {
     "ename": "SyntaxError",
     "evalue": "invalid syntax. Perhaps you forgot a comma? (1384705973.py, line 12)",
     "output_type": "error",
     "traceback": [
      "\u001b[1;36m  Cell \u001b[1;32mIn[13], line 12\u001b[1;36m\u001b[0m\n\u001b[1;33m    print(\"python\"*3 end\" \")\u001b[0m\n\u001b[1;37m          ^\u001b[0m\n\u001b[1;31mSyntaxError\u001b[0m\u001b[1;31m:\u001b[0m invalid syntax. Perhaps you forgot a comma?\n"
     ]
    }
   ],
   "source": [
    "#Python program to show use of\n",
    "# + operator for different purposes.\n",
    "print(1+2)\n",
    "\n",
    "#Concatenate two strings \n",
    "print(\"data\"+\"science\")\n",
    "\n",
    "#Product two numbers\n",
    "print(3*4)\n",
    "\n",
    "#Repeat the String\n",
    "print(\"python\"*3)"
   ]
  },
  {
   "cell_type": "markdown",
   "id": "9085d877",
   "metadata": {},
   "source": [
    "### Inheritance"
   ]
  },
  {
   "cell_type": "code",
   "execution_count": null,
   "id": "22e626e8",
   "metadata": {},
   "outputs": [],
   "source": [
    "#types of inheritance\n",
    ".Single inheritance\n",
    ".Multiple inheritance\n",
    ".Multilavel inheritance\n",
    "Hierarchical inheritance"
   ]
  },
  {
   "cell_type": "markdown",
   "id": "cbb9c830",
   "metadata": {},
   "source": [
    "## Single inheritance "
   ]
  },
  {
   "cell_type": "code",
   "execution_count": 3,
   "id": "189aaba6",
   "metadata": {},
   "outputs": [
    {
     "name": "stdout",
     "output_type": "stream",
     "text": [
      "feature 1 is working\n"
     ]
    }
   ],
   "source": [
    "class A: #parent class\n",
    "    def feature1(self):\n",
    "        print(\"feature 1 is working\")\n",
    "        \n",
    "    def feature2(self):\n",
    "        print(\"feature 2 is working\")\n",
    "\n",
    "class B(A): #child class\n",
    "    \n",
    "    def feature3(self):\n",
    "        print(\"feature 3 s working\")\n",
    "        \n",
    "    def fature4(self):\n",
    "         print(\"feature 4 is workig\")\n",
    "b=B()\n",
    "b.feature1()"
   ]
  },
  {
   "cell_type": "markdown",
   "id": "54386352",
   "metadata": {},
   "source": [
    "### Abstraction "
   ]
  },
  {
   "cell_type": "markdown",
   "id": "3f3f9781",
   "metadata": {},
   "source": [
    "### Data abstraction is one of the most essential concepts of Python OOPs which is used to hide irrelevant details from the user and show the details that are relevant to the users."
   ]
  },
  {
   "cell_type": "code",
   "execution_count": 1,
   "id": "da63e554",
   "metadata": {},
   "outputs": [
    {
     "name": "stdout",
     "output_type": "stream",
     "text": [
      "Studing python\n"
     ]
    }
   ],
   "source": [
    "from abc import ABC,abstractclassmethod\n",
    "class my_class: #concetre class\n",
    "    def study(self):\n",
    "        print(\"Studing python\")\n",
    "obj1=my_class()\n",
    "obj1.study()"
   ]
  },
  {
   "cell_type": "code",
   "execution_count": 2,
   "id": "ca441574",
   "metadata": {},
   "outputs": [
    {
     "ename": "TypeError",
     "evalue": "Can't instantiate abstract class my_class1 with abstract method mock",
     "output_type": "error",
     "traceback": [
      "\u001b[1;31m---------------------------------------------------------------------------\u001b[0m",
      "\u001b[1;31mTypeError\u001b[0m                                 Traceback (most recent call last)",
      "Cell \u001b[1;32mIn[2], line 8\u001b[0m\n\u001b[0;32m      4\u001b[0m     \u001b[38;5;129m@abstractclassmethod\u001b[39m          \u001b[38;5;66;03m#decorator:to make abstract method\u001b[39;00m\n\u001b[0;32m      5\u001b[0m     \u001b[38;5;28;01mdef\u001b[39;00m \u001b[38;5;21mmock\u001b[39m(\u001b[38;5;28mself\u001b[39m):               \u001b[38;5;66;03m#a method with only declaration but no implementation\u001b[39;00m\n\u001b[0;32m      6\u001b[0m         \u001b[38;5;28;01mpass\u001b[39;00m\n\u001b[1;32m----> 8\u001b[0m obj\u001b[38;5;241m=\u001b[39mmy_class1()\n",
      "\u001b[1;31mTypeError\u001b[0m: Can't instantiate abstract class my_class1 with abstract method mock"
     ]
    }
   ],
   "source": [
    "class my_class1(ABC):\n",
    "    def study(self):\n",
    "        print(\"Studing python\")\n",
    "    @abstractclassmethod          #decorator:to make abstract method\n",
    "    def mock(self):               #a method with only declaration but no implementation\n",
    "        pass\n",
    "    \n",
    "obj=my_class1()"
   ]
  },
  {
   "cell_type": "code",
   "execution_count": 3,
   "id": "ca7eefa7",
   "metadata": {},
   "outputs": [
    {
     "name": "stdout",
     "output_type": "stream",
     "text": [
      "doing mock to become DS\n",
      "enjoying the weekend to fullest\n"
     ]
    }
   ],
   "source": [
    "class my_class1(ABC):  #abstract class\n",
    "    \n",
    "    def study(self):\n",
    "        pass\n",
    "    \n",
    "    @abstractclassmethod    #abstract method\n",
    "    def mock(self):\n",
    "        pass\n",
    "class student(my_class1):   #concrete class\n",
    "    def miss_mock(self):\n",
    "        print(\"enjoying the weekend to fullest\")\n",
    "    def mock(self):\n",
    "        print(\"doing mock to become DS\")\n",
    "    def study(self):\n",
    "        pass\n",
    "\n",
    "s1=student()\n",
    "s1.mock()\n",
    "s1.miss_mock()\n",
    "s1.study()"
   ]
  },
  {
   "cell_type": "code",
   "execution_count": 4,
   "id": "03bdf0fb",
   "metadata": {
    "scrolled": true
   },
   "outputs": [
    {
     "name": "stdout",
     "output_type": "stream",
     "text": [
      "hissssing sound\n",
      "i am going to sleep\n"
     ]
    }
   ],
   "source": [
    "#Using Super() method we can invoke the method in abstract class\n",
    "from abc import ABC,abstractclassmethod\n",
    "class Animal(ABC): #abstract class\n",
    "    def sleep(self):\n",
    "        print(\"i am going to sleep\")\n",
    "        \n",
    "    @abstractclassmethod\n",
    "    def sound(self):\n",
    "        pass\n",
    "class snake(Animal):\n",
    "    def sound(self):\n",
    "        print(\"hissssing sound\")\n",
    "        super() \n",
    "        \n",
    "s=snake()\n",
    "s.sound()\n",
    "s.sleep()"
   ]
  },
  {
   "cell_type": "markdown",
   "id": "ba2c2edc",
   "metadata": {},
   "source": [
    "## 14, What are the types of class variables? there are three types of variables:\n",
    "1)instence variable(object level variable) 2)static variable(class level variable) 3)local variable(method level variable)\n",
    "\n",
    "1-instance variable : -when value of variable is changing from object to object then such variables are called instance variable -declared within the methods or object\n",
    "\n",
    "2-Statuc variable: -when value of variable is not changing from object to object then such variables are called static variable -declared inside a class but ouside any method -we can call\n",
    "them using class name\n",
    "\n",
    "3-Local variables: -a variable that is defined in a block is available only in that block.it is not accessible outside the block"
   ]
  },
  {
   "cell_type": "code",
   "execution_count": 1,
   "id": "99a971af",
   "metadata": {},
   "outputs": [
    {
     "name": "stdout",
     "output_type": "stream",
     "text": [
      "MS dhoni\n",
      "The wineer of ipl is RCB\n",
      "instance variable is : MS dhoni\n"
     ]
    },
    {
     "data": {
      "text/plain": [
       "'India'"
      ]
     },
     "execution_count": 1,
     "metadata": {},
     "output_type": "execute_result"
    }
   ],
   "source": [
    "class cricket:\n",
    "    Team=\"India\"  #static variable\n",
    "    \n",
    "    def __init__(self,name,jersy_no):\n",
    "        self.name=name\n",
    "        self.jersy_no=jersy_no  #instance variable\n",
    "     \n",
    "    def IPL(self):\n",
    "        x=\"RCB\"       #Local variable\n",
    "        print(\"The wineer of ipl is\",x)\n",
    "        print(\"instance variable is :\",self.name)  #self.name instance variable\n",
    "    \n",
    "obj=cricket(\"MS dhoni\",7)\n",
    "print(obj.name)\n",
    "obj.IPL()\n",
    "cricket.Team"
   ]
  },
  {
   "cell_type": "code",
   "execution_count": 2,
   "id": "a8952e78",
   "metadata": {},
   "outputs": [
    {
     "ename": "IndentationError",
     "evalue": "expected an indented block after class definition on line 5 (4187126528.py, line 6)",
     "output_type": "error",
     "traceback": [
      "\u001b[1;36m  Cell \u001b[1;32mIn[2], line 6\u001b[1;36m\u001b[0m\n\u001b[1;33m    def __init__(self, brand, model, year):\u001b[0m\n\u001b[1;37m    ^\u001b[0m\n\u001b[1;31mIndentationError\u001b[0m\u001b[1;31m:\u001b[0m expected an indented block after class definition on line 5\n"
     ]
    }
   ],
   "source": [
    "# Import required modules\n",
    "from abc import ABC, abstractmethod\n",
    "\n",
    "# Create Abstract base class\n",
    "class Car(ABC):\n",
    "def __init__(self, brand, model, year):\n",
    "\tself.brand = brand\n",
    "\tself.model = model\n",
    "\tself.year = year\n",
    "\t\n",
    "# Create abstract method\t \n",
    "@abstractmethod\n",
    "def printDetails(self):\n",
    "\tpass\n",
    "\n",
    "# Create concrete method\n",
    "def accelerate(self):\n",
    "\tprint(\"speed up ...\")\n",
    "\n",
    "def break_applied(self):\n",
    "\tprint(\"Car stop\")\n",
    "\t\n",
    "# Create a child class\n",
    "class Hatchback(Car):\n",
    "\n",
    "def printDetails(self):\n",
    "\tprint(\"Brand:\", self.brand);\n",
    "\tprint(\"Model:\", self.model);\n",
    "\tprint(\"Year:\", self.year);\n",
    "\n",
    "def Sunroof(self):\n",
    "\tprint(\"Not having this feature\")\n",
    "\t\n",
    "# Create a child class\n",
    "class Suv(Car):\n",
    "\n",
    "def printDetails(self):\n",
    "\tprint(\"Brand:\", self.brand);\n",
    "\tprint(\"Model:\", self.model);\n",
    "\tprint(\"Year:\", self.year);\n",
    "\n",
    "def Sunroof(self):\n",
    "\tprint(\"Available\")\n",
    "\n",
    "\t\n",
    "car1 = Hatchback(\"Maruti\", \"Alto\", \"2022\");\n",
    "\n",
    "car1.printDetails()\n",
    "car1.accelerate()\n",
    "\t\n"
   ]
  },
  {
   "cell_type": "code",
   "execution_count": null,
   "id": "50430453",
   "metadata": {},
   "outputs": [],
   "source": []
  }
 ],
 "metadata": {
  "kernelspec": {
   "display_name": "Python 3 (ipykernel)",
   "language": "python",
   "name": "python3"
  },
  "language_info": {
   "codemirror_mode": {
    "name": "ipython",
    "version": 3
   },
   "file_extension": ".py",
   "mimetype": "text/x-python",
   "name": "python",
   "nbconvert_exporter": "python",
   "pygments_lexer": "ipython3",
   "version": "3.11.5"
  }
 },
 "nbformat": 4,
 "nbformat_minor": 5
}
