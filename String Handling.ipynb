{
 "cells": [
  {
   "cell_type": "markdown",
   "id": "886d2213",
   "metadata": {},
   "source": [
    "## String Handling "
   ]
  },
  {
   "cell_type": "code",
   "execution_count": 2,
   "id": "91272c60",
   "metadata": {},
   "outputs": [],
   "source": [
    "s1=\"i am here to learn python from IPCS\""
   ]
  },
  {
   "cell_type": "code",
   "execution_count": 4,
   "id": "b845e0bf",
   "metadata": {},
   "outputs": [
    {
     "data": {
      "text/plain": [
       "'IPC'"
      ]
     },
     "execution_count": 4,
     "metadata": {},
     "output_type": "execute_result"
    }
   ],
   "source": [
    "s1[-4:-1]"
   ]
  },
  {
   "cell_type": "markdown",
   "id": "42cbc856",
   "metadata": {},
   "source": [
    "### String Slincing"
   ]
  },
  {
   "cell_type": "code",
   "execution_count": 2,
   "id": "927baa3f",
   "metadata": {},
   "outputs": [
    {
     "name": "stdout",
     "output_type": "stream",
     "text": [
      "i am here to learn data scinece\n",
      "i\n"
     ]
    }
   ],
   "source": [
    "s=\"i am here to learn data scinece\"\n",
    "print(s)\n",
    "print(s[0])"
   ]
  },
  {
   "cell_type": "code",
   "execution_count": 5,
   "id": "1ef8f5a1",
   "metadata": {},
   "outputs": [
    {
     "name": "stdout",
     "output_type": "stream",
     "text": [
      "i am here to learn data scinece\n",
      "i am here t\n"
     ]
    }
   ],
   "source": [
    "s=\"i am here to learn data scinece\"\n",
    "print(s)\n",
    "print(s[0:11])"
   ]
  },
  {
   "cell_type": "code",
   "execution_count": 4,
   "id": "fc88de07",
   "metadata": {},
   "outputs": [
    {
     "name": "stdout",
     "output_type": "stream",
     "text": [
      "i am here to learn data scinece\n",
      "to learn d\n"
     ]
    }
   ],
   "source": [
    "s=\"i am here to learn data scinece\"\n",
    "print(s)\n",
    "print(s[10:20])"
   ]
  },
  {
   "cell_type": "code",
   "execution_count": 5,
   "id": "856518a3",
   "metadata": {},
   "outputs": [
    {
     "name": "stdout",
     "output_type": "stream",
     "text": [
      "i am here to learn data scinece\n",
      "e\n"
     ]
    }
   ],
   "source": [
    "s=\"i am here to learn data scinece\"\n",
    "print(s)\n",
    "print(s[-1])"
   ]
  },
  {
   "cell_type": "code",
   "execution_count": 6,
   "id": "9c6caa12",
   "metadata": {},
   "outputs": [
    {
     "name": "stdout",
     "output_type": "stream",
     "text": [
      "i am here to learn data scinece\n",
      "ecenics a\n"
     ]
    }
   ],
   "source": [
    "s=\"i am here to learn data scinece\"\n",
    "print(s)\n",
    "print(s[-1:-10:-1])"
   ]
  },
  {
   "cell_type": "code",
   "execution_count": 8,
   "id": "2c09a7fc",
   "metadata": {},
   "outputs": [
    {
     "name": "stdout",
     "output_type": "stream",
     "text": [
      "i am here to learn data scinece\n",
      "tad nrael ot\n"
     ]
    }
   ],
   "source": [
    "s=\"i am here to learn data scinece\"\n",
    "print(s)\n",
    "print(s[-10:-22:-1])"
   ]
  },
  {
   "cell_type": "code",
   "execution_count": 9,
   "id": "bee4feaa",
   "metadata": {},
   "outputs": [
    {
     "name": "stdout",
     "output_type": "stream",
     "text": [
      "i am here to learn data scinece\n",
      "\n"
     ]
    }
   ],
   "source": [
    "s=\"i am here to learn data scinece\"\n",
    "print(s)\n",
    "print(s[3:-11:-3])"
   ]
  },
  {
   "cell_type": "code",
   "execution_count": 10,
   "id": "3588966f",
   "metadata": {},
   "outputs": [
    {
     "name": "stdout",
     "output_type": "stream",
     "text": [
      "i am here to learn data scinece\n",
      "t a \n"
     ]
    }
   ],
   "source": [
    "s=\"i am here to learn data scinece\"\n",
    "print(s)\n",
    "print(s[-10:-20:-3])"
   ]
  },
  {
   "cell_type": "code",
   "execution_count": 11,
   "id": "cd5e0e71",
   "metadata": {},
   "outputs": [
    {
     "name": "stdout",
     "output_type": "stream",
     "text": [
      "i am here to learn data scinece\n",
      "ecenics atad nrael ot ereh ma i\n"
     ]
    }
   ],
   "source": [
    "s=\"i am here to learn data scinece\"\n",
    "print(s)\n",
    "print(s[::-1])"
   ]
  },
  {
   "cell_type": "code",
   "execution_count": 18,
   "id": "04289d13",
   "metadata": {},
   "outputs": [
    {
     "name": "stdout",
     "output_type": "stream",
     "text": [
      "my name is gauri\n",
      "gauri\n",
      "gauri\n"
     ]
    }
   ],
   "source": [
    "s1=\"my name is gauri\"\n",
    "print(s1)\n",
    "print(s1[11:16])  #Positive indexing\n",
    "print(s1[-5:])    #negative indexing"
   ]
  },
  {
   "cell_type": "code",
   "execution_count": 24,
   "id": "7eafa361",
   "metadata": {},
   "outputs": [
    {
     "name": "stdout",
     "output_type": "stream",
     "text": [
      "my name is gauri\n",
      "eman\n"
     ]
    }
   ],
   "source": [
    "s1=\"my name is gauri\"\n",
    "print(s1)\n",
    "print(s1[-10:-14:-1])   "
   ]
  },
  {
   "cell_type": "code",
   "execution_count": 28,
   "id": "b0a3ac93",
   "metadata": {},
   "outputs": [
    {
     "name": "stdout",
     "output_type": "stream",
     "text": [
      "my name is gauri\n",
      "m\n",
      "m\n"
     ]
    }
   ],
   "source": [
    "s1=\"my name is gauri\"\n",
    "print(s1)\n",
    "print(s1[0])   \n",
    "print(s1[5])"
   ]
  },
  {
   "cell_type": "code",
   "execution_count": 31,
   "id": "10ab46df",
   "metadata": {},
   "outputs": [
    {
     "name": "stdout",
     "output_type": "stream",
     "text": [
      "my name is gauri\n",
      "is gauri\n"
     ]
    }
   ],
   "source": [
    "s1=\"my name is gauri\"\n",
    "print(s1)\n",
    "print(s1[8:])  #positive indexing\n"
   ]
  },
  {
   "cell_type": "code",
   "execution_count": 33,
   "id": "c776aacf",
   "metadata": {},
   "outputs": [
    {
     "name": "stdout",
     "output_type": "stream",
     "text": [
      "my name is gauri\n",
      " is gauri\n"
     ]
    }
   ],
   "source": [
    "s1=\"my name is gauri\"\n",
    "print(s1)\n",
    "print(s1[-9:]) #negitive indexing  \n"
   ]
  },
  {
   "cell_type": "code",
   "execution_count": 34,
   "id": "c1cfb48a",
   "metadata": {
    "scrolled": true
   },
   "outputs": [
    {
     "name": "stdout",
     "output_type": "stream",
     "text": [
      "my name is gauri\n",
      "name\n"
     ]
    }
   ],
   "source": [
    "s1=\"my name is gauri\"\n",
    "print(s1)\n",
    "print(s1[3:7]) #positive indexing  \n"
   ]
  },
  {
   "cell_type": "code",
   "execution_count": 35,
   "id": "e9629044",
   "metadata": {},
   "outputs": [
    {
     "name": "stdout",
     "output_type": "stream",
     "text": [
      "my name is gauri\n",
      "name\n"
     ]
    }
   ],
   "source": [
    "s1=\"my name is gauri\"\n",
    "print(s1)\n",
    "print(s1[-13:-9]) #negative indexing"
   ]
  },
  {
   "cell_type": "code",
   "execution_count": 45,
   "id": "221c67e1",
   "metadata": {},
   "outputs": [
    {
     "name": "stdout",
     "output_type": "stream",
     "text": [
      "my name is gauri\n",
      "my n\n"
     ]
    }
   ],
   "source": [
    "s1=\"my name is gauri\"\n",
    "print(s1)\n",
    "print(s1[0:4]) #positive indexing  \n"
   ]
  },
  {
   "cell_type": "code",
   "execution_count": 47,
   "id": "23812777",
   "metadata": {},
   "outputs": [
    {
     "name": "stdout",
     "output_type": "stream",
     "text": [
      "my name is gauri\n",
      "my n\n"
     ]
    }
   ],
   "source": [
    "s1=\"my name is gauri\"\n",
    "print(s1)\n",
    "print(s1[-16:-12]) #negative indexing"
   ]
  },
  {
   "cell_type": "code",
   "execution_count": 49,
   "id": "a29402a1",
   "metadata": {},
   "outputs": [
    {
     "name": "stdout",
     "output_type": "stream",
     "text": [
      "my name is gauri\n",
      "iruag\n"
     ]
    }
   ],
   "source": [
    "s1=\"my name is gauri\"\n",
    "print(s1)\n",
    "print(s1[-1:-6:-1]) #negative indexing"
   ]
  },
  {
   "cell_type": "code",
   "execution_count": 52,
   "id": "cda20f8a",
   "metadata": {},
   "outputs": [
    {
     "name": "stdout",
     "output_type": "stream",
     "text": [
      "my name is gauri\n",
      "iasen\n"
     ]
    }
   ],
   "source": [
    "s1=\"my name is gauri\"\n",
    "print(s1)\n",
    "print(s1[-1:-14:-3]) #negative indexing"
   ]
  },
  {
   "cell_type": "code",
   "execution_count": null,
   "id": "3c61e3a8",
   "metadata": {},
   "outputs": [],
   "source": []
  }
 ],
 "metadata": {
  "kernelspec": {
   "display_name": "Python 3 (ipykernel)",
   "language": "python",
   "name": "python3"
  },
  "language_info": {
   "codemirror_mode": {
    "name": "ipython",
    "version": 3
   },
   "file_extension": ".py",
   "mimetype": "text/x-python",
   "name": "python",
   "nbconvert_exporter": "python",
   "pygments_lexer": "ipython3",
   "version": "3.11.3"
  }
 },
 "nbformat": 4,
 "nbformat_minor": 5
}
