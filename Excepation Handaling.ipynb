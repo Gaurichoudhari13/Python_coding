{
 "cells": [
  {
   "cell_type": "markdown",
   "id": "45c786dd",
   "metadata": {},
   "source": [
    "### Exception====Error"
   ]
  },
  {
   "cell_type": "markdown",
   "id": "0f5c69aa",
   "metadata": {},
   "source": [
    "#### There are two types of error"
   ]
  },
  {
   "cell_type": "markdown",
   "id": "e6ec90ad",
   "metadata": {},
   "source": [
    "#### 1.syntax error(complied time error)"
   ]
  },
  {
   "cell_type": "markdown",
   "id": "2a41076e",
   "metadata": {},
   "source": [
    "##### 2.logical error(Run time error)-excepation"
   ]
  },
  {
   "cell_type": "markdown",
   "id": "6127c2fd",
   "metadata": {},
   "source": [
    "### Syntax Error"
   ]
  },
  {
   "cell_type": "code",
   "execution_count": 1,
   "id": "f6a51a3a",
   "metadata": {
    "scrolled": true
   },
   "outputs": [
    {
     "name": "stdout",
     "output_type": "stream",
     "text": [
      "20\n"
     ]
    }
   ],
   "source": [
    "a=20\n",
    "if a>10:\n",
    "    print(a)"
   ]
  },
  {
   "cell_type": "code",
   "execution_count": 2,
   "id": "d7fc5b1a",
   "metadata": {},
   "outputs": [
    {
     "ename": "ZeroDivisionError",
     "evalue": "division by zero",
     "output_type": "error",
     "traceback": [
      "\u001b[1;31m---------------------------------------------------------------------------\u001b[0m",
      "\u001b[1;31mZeroDivisionError\u001b[0m                         Traceback (most recent call last)",
      "Cell \u001b[1;32mIn[2], line 4\u001b[0m\n\u001b[0;32m      2\u001b[0m b\u001b[38;5;241m=\u001b[39m\u001b[38;5;241m0\u001b[39m \n\u001b[0;32m      3\u001b[0m \u001b[38;5;28;01mif\u001b[39;00m a\u001b[38;5;241m>\u001b[39m\u001b[38;5;241m10\u001b[39m:\n\u001b[1;32m----> 4\u001b[0m     a\u001b[38;5;241m/\u001b[39mb\n",
      "\u001b[1;31mZeroDivisionError\u001b[0m: division by zero"
     ]
    }
   ],
   "source": [
    "a=20\n",
    "b=0 \n",
    "if a>10:\n",
    "    a/b"
   ]
  },
  {
   "cell_type": "markdown",
   "id": "13d927d7",
   "metadata": {},
   "source": [
    "### Logical Error "
   ]
  },
  {
   "cell_type": "code",
   "execution_count": 3,
   "id": "ca896973",
   "metadata": {},
   "outputs": [
    {
     "ename": "ModuleNotFoundError",
     "evalue": "No module named 'panda'",
     "output_type": "error",
     "traceback": [
      "\u001b[1;31m---------------------------------------------------------------------------\u001b[0m",
      "\u001b[1;31mModuleNotFoundError\u001b[0m                       Traceback (most recent call last)",
      "Cell \u001b[1;32mIn[3], line 1\u001b[0m\n\u001b[1;32m----> 1\u001b[0m \u001b[38;5;28;01mimport\u001b[39;00m \u001b[38;5;21;01mpanda\u001b[39;00m\n",
      "\u001b[1;31mModuleNotFoundError\u001b[0m: No module named 'panda'"
     ]
    }
   ],
   "source": [
    "import panda\n",
    " #syntx Error"
   ]
  },
  {
   "cell_type": "code",
   "execution_count": 4,
   "id": "6f840e92",
   "metadata": {},
   "outputs": [
    {
     "ename": "ModuleNotFoundError",
     "evalue": "No module named 'pytorch'",
     "output_type": "error",
     "traceback": [
      "\u001b[1;31m---------------------------------------------------------------------------\u001b[0m",
      "\u001b[1;31mModuleNotFoundError\u001b[0m                       Traceback (most recent call last)",
      "Cell \u001b[1;32mIn[4], line 1\u001b[0m\n\u001b[1;32m----> 1\u001b[0m \u001b[38;5;28;01mimport\u001b[39;00m \u001b[38;5;21;01mpytorch\u001b[39;00m\n",
      "\u001b[1;31mModuleNotFoundError\u001b[0m: No module named 'pytorch'"
     ]
    }
   ],
   "source": [
    "import pytorch \n",
    "#logical error becoz i havent installed the lib or module"
   ]
  },
  {
   "cell_type": "markdown",
   "id": "64e081ac",
   "metadata": {},
   "source": [
    "### Exceptions In Python "
   ]
  },
  {
   "cell_type": "code",
   "execution_count": 5,
   "id": "d3c591e0",
   "metadata": {},
   "outputs": [
    {
     "name": "stdout",
     "output_type": "stream",
     "text": [
      "**#\n",
      "*12*\n",
      "**6\n"
     ]
    },
    {
     "ename": "ZeroDivisionError",
     "evalue": "division by zero",
     "output_type": "error",
     "traceback": [
      "\u001b[1;31m---------------------------------------------------------------------------\u001b[0m",
      "\u001b[1;31mZeroDivisionError\u001b[0m                         Traceback (most recent call last)",
      "Cell \u001b[1;32mIn[5], line 5\u001b[0m\n\u001b[0;32m      3\u001b[0m \u001b[38;5;28mprint\u001b[39m(\u001b[38;5;124m\"\u001b[39m\u001b[38;5;124m*12*\u001b[39m\u001b[38;5;124m\"\u001b[39m)\n\u001b[0;32m      4\u001b[0m \u001b[38;5;28mprint\u001b[39m(\u001b[38;5;124m\"\u001b[39m\u001b[38;5;124m**6\u001b[39m\u001b[38;5;124m\"\u001b[39m)\n\u001b[1;32m----> 5\u001b[0m \u001b[38;5;241m1\u001b[39m\u001b[38;5;241m/\u001b[39m\u001b[38;5;241m0\u001b[39m\n\u001b[0;32m      6\u001b[0m \u001b[38;5;28mprint\u001b[39m(\u001b[38;5;124m\"\u001b[39m\u001b[38;5;124m**+\u001b[39m\u001b[38;5;124m\"\u001b[39m)\n",
      "\u001b[1;31mZeroDivisionError\u001b[0m: division by zero"
     ]
    }
   ],
   "source": [
    "print(\"**#\")\n",
    "\n",
    "print(\"*12*\")\n",
    "print(\"**6\")\n",
    "1/0\n",
    "print(\"**+\")"
   ]
  },
  {
   "cell_type": "markdown",
   "id": "2b406b8c",
   "metadata": {},
   "source": [
    "## To check inbulit error in python"
   ]
  },
  {
   "cell_type": "code",
   "execution_count": 6,
   "id": "8efeb493",
   "metadata": {},
   "outputs": [
    {
     "name": "stdout",
     "output_type": "stream",
     "text": [
      "['ArithmeticError', 'AssertionError', 'AttributeError', 'BaseException', 'BaseExceptionGroup', 'BlockingIOError', 'BrokenPipeError', 'BufferError', 'BytesWarning', 'ChildProcessError', 'ConnectionAbortedError', 'ConnectionError', 'ConnectionRefusedError', 'ConnectionResetError', 'DeprecationWarning', 'EOFError', 'Ellipsis', 'EncodingWarning', 'EnvironmentError', 'Exception', 'ExceptionGroup', 'False', 'FileExistsError', 'FileNotFoundError', 'FloatingPointError', 'FutureWarning', 'GeneratorExit', 'IOError', 'ImportError', 'ImportWarning', 'IndentationError', 'IndexError', 'InterruptedError', 'IsADirectoryError', 'KeyError', 'KeyboardInterrupt', 'LookupError', 'MemoryError', 'ModuleNotFoundError', 'NameError', 'None', 'NotADirectoryError', 'NotImplemented', 'NotImplementedError', 'OSError', 'OverflowError', 'PendingDeprecationWarning', 'PermissionError', 'ProcessLookupError', 'RecursionError', 'ReferenceError', 'ResourceWarning', 'RuntimeError', 'RuntimeWarning', 'StopAsyncIteration', 'StopIteration', 'SyntaxError', 'SyntaxWarning', 'SystemError', 'SystemExit', 'TabError', 'TimeoutError', 'True', 'TypeError', 'UnboundLocalError', 'UnicodeDecodeError', 'UnicodeEncodeError', 'UnicodeError', 'UnicodeTranslateError', 'UnicodeWarning', 'UserWarning', 'ValueError', 'Warning', 'WindowsError', 'ZeroDivisionError', '__IPYTHON__', '__build_class__', '__debug__', '__doc__', '__import__', '__loader__', '__name__', '__package__', '__spec__', 'abs', 'aiter', 'all', 'anext', 'any', 'ascii', 'bin', 'bool', 'breakpoint', 'bytearray', 'bytes', 'callable', 'chr', 'classmethod', 'compile', 'complex', 'copyright', 'credits', 'delattr', 'dict', 'dir', 'display', 'divmod', 'enumerate', 'eval', 'exec', 'execfile', 'filter', 'float', 'format', 'frozenset', 'get_ipython', 'getattr', 'globals', 'hasattr', 'hash', 'help', 'hex', 'id', 'input', 'int', 'isinstance', 'issubclass', 'iter', 'len', 'license', 'list', 'locals', 'map', 'max', 'memoryview', 'min', 'next', 'object', 'oct', 'open', 'ord', 'pow', 'print', 'property', 'range', 'repr', 'reversed', 'round', 'runfile', 'set', 'setattr', 'slice', 'sorted', 'staticmethod', 'str', 'sum', 'super', 'tuple', 'type', 'vars', 'zip']\n"
     ]
    }
   ],
   "source": [
    " print(list(dir(locals()['__builtins__'])))"
   ]
  },
  {
   "cell_type": "markdown",
   "id": "a60ee9dc",
   "metadata": {},
   "source": [
    "## Cathing Exceptions in python "
   ]
  },
  {
   "cell_type": "code",
   "execution_count": 7,
   "id": "086d9db8",
   "metadata": {
    "scrolled": true
   },
   "outputs": [
    {
     "ename": "SyntaxError",
     "evalue": "invalid syntax (3159803709.py, line 5)",
     "output_type": "error",
     "traceback": [
      "\u001b[1;36m  Cell \u001b[1;32mIn[7], line 5\u001b[1;36m\u001b[0m\n\u001b[1;33m    except:\u001b[0m\n\u001b[1;37m    ^\u001b[0m\n\u001b[1;31mSyntaxError\u001b[0m\u001b[1;31m:\u001b[0m invalid syntax\n"
     ]
    }
   ],
   "source": [
    "#syntax \n",
    "try:\n",
    "    code\n",
    "    \n",
    "    except:"
   ]
  },
  {
   "cell_type": "code",
   "execution_count": 8,
   "id": "b675874a",
   "metadata": {},
   "outputs": [
    {
     "name": "stdout",
     "output_type": "stream",
     "text": [
      "**1\n",
      "***2\n",
      "**3\n",
      "**\n",
      "somthing wrong happen,Please try after sometime\n"
     ]
    }
   ],
   "source": [
    "print(\"**1\")\n",
    "print(\"***2\")\n",
    "print(\"**3\")\n",
    "try:\n",
    "    print(\"**\")\n",
    "    a=1\n",
    "    b=0\n",
    "    a/b\n",
    "    print(\"**\")\n",
    "    print(\"**\")\n",
    "    print(\"**\")\n",
    "    \n",
    "except:\n",
    "    print(\"somthing wrong happen,Please try after sometime\")"
   ]
  },
  {
   "cell_type": "code",
   "execution_count": 11,
   "id": "142e2495",
   "metadata": {},
   "outputs": [
    {
     "name": "stdout",
     "output_type": "stream",
     "text": [
      "**1\n",
      "***2\n",
      "**3\n",
      "**\n"
     ]
    },
    {
     "ename": "ZeroDivisionError",
     "evalue": "division by zero",
     "output_type": "error",
     "traceback": [
      "\u001b[1;31m---------------------------------------------------------------------------\u001b[0m",
      "\u001b[1;31mZeroDivisionError\u001b[0m                         Traceback (most recent call last)",
      "Cell \u001b[1;32mIn[11], line 8\u001b[0m\n\u001b[0;32m      6\u001b[0m a\u001b[38;5;241m=\u001b[39m\u001b[38;5;241m1\u001b[39m\n\u001b[0;32m      7\u001b[0m b\u001b[38;5;241m=\u001b[39m\u001b[38;5;241m0\u001b[39m\n\u001b[1;32m----> 8\u001b[0m a\u001b[38;5;241m/\u001b[39mb\n\u001b[0;32m      9\u001b[0m \u001b[38;5;28mprint\u001b[39m(\u001b[38;5;124m\"\u001b[39m\u001b[38;5;124m**\u001b[39m\u001b[38;5;124m\"\u001b[39m)\n\u001b[0;32m     10\u001b[0m \u001b[38;5;28mprint\u001b[39m(\u001b[38;5;124m\"\u001b[39m\u001b[38;5;124m**\u001b[39m\u001b[38;5;124m\"\u001b[39m)\n",
      "\u001b[1;31mZeroDivisionError\u001b[0m: division by zero"
     ]
    }
   ],
   "source": [
    "    print(\"**1\")\n",
    "    print(\"***2\")\n",
    "    print(\"**3\")\n",
    "\n",
    "    print(\"**\")\n",
    "    a=1\n",
    "    b=0\n",
    "    a/b\n",
    "    print(\"**\")\n",
    "    print(\"**\")\n",
    "    print(\"**\")\n",
    "    \n",
    "    \n",
    "    \n",
    "    \n",
    "    \n",
    "    print(\"*4*\")\n",
    "    print(\"*5*\")\n",
    "    print(\"*6*\")\n",
    "    "
   ]
  },
  {
   "cell_type": "code",
   "execution_count": 12,
   "id": "0bbf6ac0",
   "metadata": {},
   "outputs": [
    {
     "name": "stdout",
     "output_type": "stream",
     "text": [
      "**1\n",
      "**2\n",
      "**3\n",
      "**\n",
      "Somthing wriong happend,Please tgry after somthime\n",
      "*4\n",
      "**5\n",
      "*6*\n"
     ]
    }
   ],
   "source": [
    "    print(\"**1\")\n",
    "    print(\"**2\")\n",
    "    print(\"**3\")\n",
    "    try:\n",
    "        print(\"**\")\n",
    "        a=1\n",
    "        b=0\n",
    "        a/b\n",
    "        print(\"**\")\n",
    "        print(\"**\")\n",
    "        print(\"**\")\n",
    "    except:\n",
    "        print(\"Somthing wriong happend,Please tgry after somthime\")\n",
    "           \n",
    "    print(\"*4\")\n",
    "    print(\"**5\")\n",
    "    print(\"*6*\")\n",
    "    "
   ]
  },
  {
   "cell_type": "code",
   "execution_count": 14,
   "id": "266d6081",
   "metadata": {},
   "outputs": [
    {
     "name": "stdout",
     "output_type": "stream",
     "text": [
      "**1\n",
      "**2\n",
      "**3\n",
      "**\n",
      "*4\n",
      "**5\n",
      "*6*\n"
     ]
    }
   ],
   "source": [
    "    print(\"**1\")\n",
    "    print(\"**2\")\n",
    "    print(\"**3\")\n",
    "    try:\n",
    "        print(\"**\")\n",
    "        a=1\n",
    "        b=0\n",
    "        a/b\n",
    "        print(\"**\")\n",
    "        print(\"**\")\n",
    "        print(\"**\")\n",
    "    except:\n",
    "        pass\n",
    "           \n",
    "    print(\"*4\")\n",
    "    print(\"**5\")\n",
    "    print(\"*6*\")"
   ]
  },
  {
   "cell_type": "markdown",
   "id": "16e86a11",
   "metadata": {},
   "source": [
    "### Python Built in excepation"
   ]
  },
  {
   "cell_type": "code",
   "execution_count": 15,
   "id": "a78cea05",
   "metadata": {},
   "outputs": [],
   "source": [
    "if a>b:\n",
    "    pass"
   ]
  },
  {
   "cell_type": "code",
   "execution_count": 16,
   "id": "b79ab33a",
   "metadata": {},
   "outputs": [
    {
     "ename": "ZeroDivisionError",
     "evalue": "division by zero",
     "output_type": "error",
     "traceback": [
      "\u001b[1;31m---------------------------------------------------------------------------\u001b[0m",
      "\u001b[1;31mZeroDivisionError\u001b[0m                         Traceback (most recent call last)",
      "Cell \u001b[1;32mIn[16], line 3\u001b[0m\n\u001b[0;32m      1\u001b[0m a\u001b[38;5;241m=\u001b[39m\u001b[38;5;241m1\u001b[39m\n\u001b[0;32m      2\u001b[0m b\u001b[38;5;241m=\u001b[39m\u001b[38;5;241m0\u001b[39m\n\u001b[1;32m----> 3\u001b[0m c\u001b[38;5;241m=\u001b[39ma\u001b[38;5;241m/\u001b[39mb\n\u001b[0;32m      4\u001b[0m \u001b[38;5;28mprint\u001b[39m(c)\n",
      "\u001b[1;31mZeroDivisionError\u001b[0m: division by zero"
     ]
    }
   ],
   "source": [
    "a=1\n",
    "b=0\n",
    "c=a/b\n",
    "print(c)\n"
   ]
  },
  {
   "cell_type": "code",
   "execution_count": 17,
   "id": "fc7f04dd",
   "metadata": {},
   "outputs": [
    {
     "ename": "TypeError",
     "evalue": "can only concatenate str (not \"int\") to str",
     "output_type": "error",
     "traceback": [
      "\u001b[1;31m---------------------------------------------------------------------------\u001b[0m",
      "\u001b[1;31mTypeError\u001b[0m                                 Traceback (most recent call last)",
      "Cell \u001b[1;32mIn[17], line 4\u001b[0m\n\u001b[0;32m      1\u001b[0m a\u001b[38;5;241m=\u001b[39m\u001b[38;5;124m\"\u001b[39m\u001b[38;5;124mas\u001b[39m\u001b[38;5;124m\"\u001b[39m\n\u001b[0;32m      2\u001b[0m b\u001b[38;5;241m=\u001b[39m\u001b[38;5;241m1\u001b[39m\n\u001b[1;32m----> 4\u001b[0m a\u001b[38;5;241m+\u001b[39mb\n",
      "\u001b[1;31mTypeError\u001b[0m: can only concatenate str (not \"int\") to str"
     ]
    }
   ],
   "source": [
    "a=\"as\"\n",
    "b=1\n",
    "\n",
    "a+b"
   ]
  },
  {
   "cell_type": "code",
   "execution_count": 8,
   "id": "ee51b184",
   "metadata": {},
   "outputs": [
    {
     "name": "stdout",
     "output_type": "stream",
     "text": [
      "can only concatenate str (not \"int\") to str <class 'TypeError'>\n"
     ]
    }
   ],
   "source": [
    "try:\n",
    "    a=\"as\"\n",
    "    b=1\n",
    "    a+b\n",
    "except Exception as ex1:\n",
    "    print(ex1,type(ex1))"
   ]
  },
  {
   "cell_type": "code",
   "execution_count": 19,
   "id": "53da6432",
   "metadata": {},
   "outputs": [
    {
     "name": "stdout",
     "output_type": "stream",
     "text": [
      "Please add strt to str and int to int\n"
     ]
    }
   ],
   "source": [
    "try:\n",
    "    a=\"as\"\n",
    "    b=1\n",
    "    a+b\n",
    "except:\n",
    "    print(\"Please add strt to str and int to int\")"
   ]
  },
  {
   "cell_type": "code",
   "execution_count": 3,
   "id": "0137e044",
   "metadata": {},
   "outputs": [
    {
     "name": "stdout",
     "output_type": "stream",
     "text": [
      "Enter the 1st no4\n",
      "Enter 2nd the no0\n",
      "The Error is division by zero and error name is <class 'ZeroDivisionError'>\n"
     ]
    }
   ],
   "source": [
    "try:\n",
    "    a=eval(input(\"Enter the 1st no\"))\n",
    "    b=eval(input(\"Enter 2nd the no\"))\n",
    "    c=a/b\n",
    "    #c=a+b\n",
    "    print(c)\n",
    "    \n",
    "except Exception as ex:\n",
    "    print(\"The Error is\",ex,\"and error name is\",type(ex))"
   ]
  },
  {
   "cell_type": "code",
   "execution_count": 4,
   "id": "014d20a2",
   "metadata": {},
   "outputs": [
    {
     "ename": "ValueError",
     "evalue": "invalid literal for int() with base 10: 'a'",
     "output_type": "error",
     "traceback": [
      "\u001b[1;31m---------------------------------------------------------------------------\u001b[0m",
      "\u001b[1;31mValueError\u001b[0m                                Traceback (most recent call last)",
      "Cell \u001b[1;32mIn[4], line 1\u001b[0m\n\u001b[1;32m----> 1\u001b[0m \u001b[38;5;28mint\u001b[39m(\u001b[38;5;124m\"\u001b[39m\u001b[38;5;124ma\u001b[39m\u001b[38;5;124m\"\u001b[39m)\n",
      "\u001b[1;31mValueError\u001b[0m: invalid literal for int() with base 10: 'a'"
     ]
    }
   ],
   "source": [
    "int(\"a\")"
   ]
  },
  {
   "cell_type": "code",
   "execution_count": 1,
   "id": "2496c55a",
   "metadata": {},
   "outputs": [
    {
     "data": {
      "text/plain": [
       "1"
      ]
     },
     "execution_count": 1,
     "metadata": {},
     "output_type": "execute_result"
    }
   ],
   "source": [
    "int(\"1\")"
   ]
  },
  {
   "cell_type": "code",
   "execution_count": 1,
   "id": "f70c81a9",
   "metadata": {},
   "outputs": [
    {
     "name": "stdout",
     "output_type": "stream",
     "text": [
      "Enter the num5\n",
      "Enter the num0\n",
      "The program crashed becoz of the error: division by zero\n",
      "Enter a non-zero num value tp proceed\n",
      "Enter the num8\n",
      "Enter the num9\n",
      "0.8888888888888888\n"
     ]
    }
   ],
   "source": [
    "def division_check():\n",
    "    try:\n",
    "        a=int(input(\"Enter the num\"))\n",
    "        b=int(input(\"Enter the num\"))\n",
    "        c=a/b\n",
    "        print(c)\n",
    "    except Exception as ex1:\n",
    "        print(\"The program crashed becoz of the error:\",ex1)\n",
    "        print(\"Enter a non-zero num value tp proceed\")\n",
    "        division_check()  ##recurssion function\n",
    "division_check()"
   ]
  },
  {
   "cell_type": "markdown",
   "id": "0adbb8fb",
   "metadata": {},
   "source": [
    "### IndentationError"
   ]
  },
  {
   "cell_type": "code",
   "execution_count": 2,
   "id": "7144e059",
   "metadata": {
    "scrolled": true
   },
   "outputs": [
    {
     "ename": "IndentationError",
     "evalue": "expected an indented block after 'if' statement on line 1 (4187842639.py, line 2)",
     "output_type": "error",
     "traceback": [
      "\u001b[1;36m  Cell \u001b[1;32mIn[2], line 2\u001b[1;36m\u001b[0m\n\u001b[1;33m    pass\u001b[0m\n\u001b[1;37m    ^\u001b[0m\n\u001b[1;31mIndentationError\u001b[0m\u001b[1;31m:\u001b[0m expected an indented block after 'if' statement on line 1\n"
     ]
    }
   ],
   "source": [
    "if a:\n",
    "pass"
   ]
  },
  {
   "cell_type": "code",
   "execution_count": 15,
   "id": "a5497e1d",
   "metadata": {},
   "outputs": [
    {
     "name": "stdout",
     "output_type": "stream",
     "text": [
      "enter the nol\n",
      "The error is name 'l' is not defined and error name is <class 'NameError'>\n"
     ]
    }
   ],
   "source": [
    "try:\n",
    "    a=eval(input(\"enter the no\"))\n",
    "    b=eval(input(\"enter the no\"))\n",
    "    c=a/b\n",
    "    \n",
    "except ZeroDivisionError as a:\n",
    "    print(\"error bacause of 0.\",a,\"please enter non-zero value in b\")\n",
    "except TypeError as t1:\n",
    "    print(\"error because you have enter string\",t1,\"please enetr int value in a and b\")\n",
    "except SyntaxError as s1:\n",
    "    print(\"\\ncheck syntax\",s1,\"please complete the string with:\\\"\")\n",
    "except Exception as ex:\n",
    "    print(\"The error is\",ex,\"and error name is\",type(ex))"
   ]
  },
  {
   "cell_type": "code",
   "execution_count": 16,
   "id": "b24b608c",
   "metadata": {},
   "outputs": [
    {
     "ename": "SyntaxError",
     "evalue": "unterminated string literal (detected at line 1) (2427385467.py, line 1)",
     "output_type": "error",
     "traceback": [
      "\u001b[1;36m  Cell \u001b[1;32mIn[16], line 1\u001b[1;36m\u001b[0m\n\u001b[1;33m    a=\"1\u001b[0m\n\u001b[1;37m      ^\u001b[0m\n\u001b[1;31mSyntaxError\u001b[0m\u001b[1;31m:\u001b[0m unterminated string literal (detected at line 1)\n"
     ]
    }
   ],
   "source": [
    "a=\"1\n",
    "b=0"
   ]
  },
  {
   "cell_type": "code",
   "execution_count": 19,
   "id": "a91ead2b",
   "metadata": {},
   "outputs": [
    {
     "name": "stdout",
     "output_type": "stream",
     "text": [
      "division by zero\n",
      "<class 'ZeroDivisionError'>\n"
     ]
    }
   ],
   "source": [
    "try:\n",
    "    1/0\n",
    "except Exception as msdhoni:\n",
    "    print(msdhoni)\n",
    "    print(type(msdhoni))"
   ]
  },
  {
   "cell_type": "code",
   "execution_count": 20,
   "id": "6ea23351",
   "metadata": {},
   "outputs": [
    {
     "ename": "TypeError",
     "evalue": "unsupported operand type(s) for /: 'int' and 'str'",
     "output_type": "error",
     "traceback": [
      "\u001b[1;31m---------------------------------------------------------------------------\u001b[0m",
      "\u001b[1;31mTypeError\u001b[0m                                 Traceback (most recent call last)",
      "Cell \u001b[1;32mIn[20], line 1\u001b[0m\n\u001b[1;32m----> 1\u001b[0m \u001b[38;5;241m1\u001b[39m\u001b[38;5;241m/\u001b[39m\u001b[38;5;124m\"\u001b[39m\u001b[38;5;124ma\u001b[39m\u001b[38;5;124m\"\u001b[39m\n",
      "\u001b[1;31mTypeError\u001b[0m: unsupported operand type(s) for /: 'int' and 'str'"
     ]
    }
   ],
   "source": [
    "1/\"a\""
   ]
  },
  {
   "cell_type": "markdown",
   "id": "a7671ef4",
   "metadata": {},
   "source": [
    "### Python try wiith else clause"
   ]
  },
  {
   "cell_type": "code",
   "execution_count": 21,
   "id": "e9f51b9f",
   "metadata": {},
   "outputs": [
    {
     "name": "stdout",
     "output_type": "stream",
     "text": [
      "division by zero\n",
      "this is last line\n"
     ]
    }
   ],
   "source": [
    "try:\n",
    "    a=1\n",
    "    b=0\n",
    "    c=a/b\n",
    "    d=a*b\n",
    "    e=a+b\n",
    "    \n",
    "except Exception as ex:\n",
    "    print(ex)\n",
    "    \n",
    "else:\n",
    "    print(a)\n",
    "    print(b)\n",
    "    print(c)\n",
    "    \n",
    "print(\"this is last line\")"
   ]
  },
  {
   "cell_type": "code",
   "execution_count": 24,
   "id": "00074b8c",
   "metadata": {},
   "outputs": [
    {
     "name": "stdout",
     "output_type": "stream",
     "text": [
      "division by zero\n"
     ]
    }
   ],
   "source": [
    "try:\n",
    "    a=1\n",
    "    b=0\n",
    "    c=a/b\n",
    "    d=a*b\n",
    "    e=a+b\n",
    "except Exception as ex:\n",
    "    print(ex)\n",
    "else:\n",
    "    print(a)\n",
    "    print(b)\n",
    "    print(c)"
   ]
  },
  {
   "cell_type": "markdown",
   "id": "2d03f77f",
   "metadata": {},
   "source": [
    "### Python try......finally\n"
   ]
  },
  {
   "cell_type": "code",
   "execution_count": 25,
   "id": "a0fbda9e",
   "metadata": {},
   "outputs": [
    {
     "ename": "NameError",
     "evalue": "name 'f' is not defined",
     "output_type": "error",
     "traceback": [
      "\u001b[1;31m---------------------------------------------------------------------------\u001b[0m",
      "\u001b[1;31mFileNotFoundError\u001b[0m                         Traceback (most recent call last)",
      "Cell \u001b[1;32mIn[25], line 2\u001b[0m\n\u001b[0;32m      1\u001b[0m \u001b[38;5;28;01mtry\u001b[39;00m:\n\u001b[1;32m----> 2\u001b[0m     f\u001b[38;5;241m=\u001b[39m\u001b[38;5;28mopen\u001b[39m(\u001b[38;5;124m\"\u001b[39m\u001b[38;5;124mmy.text\u001b[39m\u001b[38;5;124m\"\u001b[39m,mode\u001b[38;5;241m=\u001b[39m\u001b[38;5;124m\"\u001b[39m\u001b[38;5;124mr\u001b[39m\u001b[38;5;124m\"\u001b[39m)\n\u001b[0;32m      3\u001b[0m     f\u001b[38;5;241m.\u001b[39mread()\n",
      "File \u001b[1;32m~\\AppData\\Local\\anaconda3\\Lib\\site-packages\\IPython\\core\\interactiveshell.py:284\u001b[0m, in \u001b[0;36m_modified_open\u001b[1;34m(file, *args, **kwargs)\u001b[0m\n\u001b[0;32m    278\u001b[0m     \u001b[38;5;28;01mraise\u001b[39;00m \u001b[38;5;167;01mValueError\u001b[39;00m(\n\u001b[0;32m    279\u001b[0m         \u001b[38;5;124mf\u001b[39m\u001b[38;5;124m\"\u001b[39m\u001b[38;5;124mIPython won\u001b[39m\u001b[38;5;124m'\u001b[39m\u001b[38;5;124mt let you open fd=\u001b[39m\u001b[38;5;132;01m{\u001b[39;00mfile\u001b[38;5;132;01m}\u001b[39;00m\u001b[38;5;124m by default \u001b[39m\u001b[38;5;124m\"\u001b[39m\n\u001b[0;32m    280\u001b[0m         \u001b[38;5;124m\"\u001b[39m\u001b[38;5;124mas it is likely to crash IPython. If you know what you are doing, \u001b[39m\u001b[38;5;124m\"\u001b[39m\n\u001b[0;32m    281\u001b[0m         \u001b[38;5;124m\"\u001b[39m\u001b[38;5;124myou can use builtins\u001b[39m\u001b[38;5;124m'\u001b[39m\u001b[38;5;124m open.\u001b[39m\u001b[38;5;124m\"\u001b[39m\n\u001b[0;32m    282\u001b[0m     )\n\u001b[1;32m--> 284\u001b[0m \u001b[38;5;28;01mreturn\u001b[39;00m io_open(file, \u001b[38;5;241m*\u001b[39margs, \u001b[38;5;241m*\u001b[39m\u001b[38;5;241m*\u001b[39mkwargs)\n",
      "\u001b[1;31mFileNotFoundError\u001b[0m: [Errno 2] No such file or directory: 'my.text'",
      "\nDuring handling of the above exception, another exception occurred:\n",
      "\u001b[1;31mNameError\u001b[0m                                 Traceback (most recent call last)",
      "Cell \u001b[1;32mIn[25], line 6\u001b[0m\n\u001b[0;32m      3\u001b[0m     f\u001b[38;5;241m.\u001b[39mread()\n\u001b[0;32m      4\u001b[0m \u001b[38;5;66;03m#    opertaions\u001b[39;00m\n\u001b[0;32m      5\u001b[0m \u001b[38;5;28;01mfinally\u001b[39;00m:\n\u001b[1;32m----> 6\u001b[0m     f\u001b[38;5;241m.\u001b[39mclose()\n",
      "\u001b[1;31mNameError\u001b[0m: name 'f' is not defined"
     ]
    }
   ],
   "source": [
    "try:\n",
    "    f=open(\"my.text\",mode=\"r\")\n",
    "    f.read()\n",
    "#    opertaions\n",
    "finally:\n",
    "    f.close()"
   ]
  },
  {
   "cell_type": "code",
   "execution_count": 27,
   "id": "bafba566",
   "metadata": {},
   "outputs": [
    {
     "ename": "FileNotFoundError",
     "evalue": "[Errno 2] No such file or directory: 'my.txt'",
     "output_type": "error",
     "traceback": [
      "\u001b[1;31m---------------------------------------------------------------------------\u001b[0m",
      "\u001b[1;31mFileNotFoundError\u001b[0m                         Traceback (most recent call last)",
      "Cell \u001b[1;32mIn[27], line 1\u001b[0m\n\u001b[1;32m----> 1\u001b[0m f\u001b[38;5;241m=\u001b[39m\u001b[38;5;28mopen\u001b[39m(\u001b[38;5;124m\"\u001b[39m\u001b[38;5;124mmy.txt\u001b[39m\u001b[38;5;124m\"\u001b[39m,mode\u001b[38;5;241m=\u001b[39m\u001b[38;5;124m\"\u001b[39m\u001b[38;5;124mr\u001b[39m\u001b[38;5;124m\"\u001b[39m)\n\u001b[0;32m      2\u001b[0m f\u001b[38;5;241m.\u001b[39mread()\n\u001b[0;32m      3\u001b[0m f\u001b[38;5;241m.\u001b[39mclose()\n",
      "File \u001b[1;32m~\\AppData\\Local\\anaconda3\\Lib\\site-packages\\IPython\\core\\interactiveshell.py:284\u001b[0m, in \u001b[0;36m_modified_open\u001b[1;34m(file, *args, **kwargs)\u001b[0m\n\u001b[0;32m    277\u001b[0m \u001b[38;5;28;01mif\u001b[39;00m file \u001b[38;5;129;01min\u001b[39;00m {\u001b[38;5;241m0\u001b[39m, \u001b[38;5;241m1\u001b[39m, \u001b[38;5;241m2\u001b[39m}:\n\u001b[0;32m    278\u001b[0m     \u001b[38;5;28;01mraise\u001b[39;00m \u001b[38;5;167;01mValueError\u001b[39;00m(\n\u001b[0;32m    279\u001b[0m         \u001b[38;5;124mf\u001b[39m\u001b[38;5;124m\"\u001b[39m\u001b[38;5;124mIPython won\u001b[39m\u001b[38;5;124m'\u001b[39m\u001b[38;5;124mt let you open fd=\u001b[39m\u001b[38;5;132;01m{\u001b[39;00mfile\u001b[38;5;132;01m}\u001b[39;00m\u001b[38;5;124m by default \u001b[39m\u001b[38;5;124m\"\u001b[39m\n\u001b[0;32m    280\u001b[0m         \u001b[38;5;124m\"\u001b[39m\u001b[38;5;124mas it is likely to crash IPython. If you know what you are doing, \u001b[39m\u001b[38;5;124m\"\u001b[39m\n\u001b[0;32m    281\u001b[0m         \u001b[38;5;124m\"\u001b[39m\u001b[38;5;124myou can use builtins\u001b[39m\u001b[38;5;124m'\u001b[39m\u001b[38;5;124m open.\u001b[39m\u001b[38;5;124m\"\u001b[39m\n\u001b[0;32m    282\u001b[0m     )\n\u001b[1;32m--> 284\u001b[0m \u001b[38;5;28;01mreturn\u001b[39;00m io_open(file, \u001b[38;5;241m*\u001b[39margs, \u001b[38;5;241m*\u001b[39m\u001b[38;5;241m*\u001b[39mkwargs)\n",
      "\u001b[1;31mFileNotFoundError\u001b[0m: [Errno 2] No such file or directory: 'my.txt'"
     ]
    }
   ],
   "source": [
    "f=open(\"my.txt\",mode=\"r\")\n",
    "f.read()\n",
    "f.close()"
   ]
  },
  {
   "cell_type": "code",
   "execution_count": 30,
   "id": "03c824f1",
   "metadata": {},
   "outputs": [
    {
     "name": "stdout",
     "output_type": "stream",
     "text": [
      "division by zero\n",
      "the code is complete\n"
     ]
    }
   ],
   "source": [
    "try:\n",
    "    a=1\n",
    "    b=0\n",
    "    c=a/b\n",
    "    d=a*b\n",
    "    e=a+b\n",
    "    \n",
    "except Exception as ex:\n",
    "    print(ex)\n",
    "\n",
    "else:\n",
    "    print(a)\n",
    "    print(b)\n",
    "    print(c)\n",
    "    \n",
    "finally:\n",
    "    print(\"the code is complete\")"
   ]
  },
  {
   "cell_type": "code",
   "execution_count": 4,
   "id": "43ef7260",
   "metadata": {},
   "outputs": [
    {
     "name": "stdout",
     "output_type": "stream",
     "text": [
      "2\n",
      "the code is complete\n"
     ]
    }
   ],
   "source": [
    "try:\n",
    "    a=1\n",
    "    b=2\n",
    "    d=a*b\n",
    "    e=a+b\n",
    "    \n",
    "except Exception as ex:\n",
    "    print(ex)\n",
    "\n",
    "else:\n",
    "    print(d)\n",
    "    \n",
    "finally:\n",
    "    print(\"the code is complete\")"
   ]
  },
  {
   "cell_type": "markdown",
   "id": "053844f7",
   "metadata": {},
   "source": [
    "### Python Custom Excepation "
   ]
  },
  {
   "cell_type": "markdown",
   "id": "478142ca",
   "metadata": {},
   "source": [
    "### Creating Custom Exceptions"
   ]
  },
  {
   "cell_type": "code",
   "execution_count": 3,
   "id": "ff817896",
   "metadata": {},
   "outputs": [],
   "source": [
    "class NoNegative(Exception):\n",
    "    pass\n"
   ]
  },
  {
   "cell_type": "code",
   "execution_count": 15,
   "id": "cd43688f",
   "metadata": {},
   "outputs": [
    {
     "name": "stdout",
     "output_type": "stream",
     "text": [
      "enter a positiv no:-9\n"
     ]
    },
    {
     "ename": "NoNegative",
     "evalue": "Not a postive no,enter positive no",
     "output_type": "error",
     "traceback": [
      "\u001b[1;31m---------------------------------------------------------------------------\u001b[0m",
      "\u001b[1;31mNoNegative\u001b[0m                                Traceback (most recent call last)",
      "Cell \u001b[1;32mIn[15], line 3\u001b[0m\n\u001b[0;32m      1\u001b[0m a\u001b[38;5;241m=\u001b[39m\u001b[38;5;28mint\u001b[39m(\u001b[38;5;28minput\u001b[39m(\u001b[38;5;124m'\u001b[39m\u001b[38;5;124menter a positiv no:\u001b[39m\u001b[38;5;124m'\u001b[39m))\n\u001b[0;32m      2\u001b[0m \u001b[38;5;28;01mif\u001b[39;00m a\u001b[38;5;241m<\u001b[39m\u001b[38;5;241m0\u001b[39m:\n\u001b[1;32m----> 3\u001b[0m     \u001b[38;5;28;01mraise\u001b[39;00m NoNegative(\u001b[38;5;124m\"\u001b[39m\u001b[38;5;124mNot a postive no,enter positive no\u001b[39m\u001b[38;5;124m\"\u001b[39m)\n",
      "\u001b[1;31mNoNegative\u001b[0m: Not a postive no,enter positive no"
     ]
    }
   ],
   "source": [
    "a=int(input('enter a positiv no:'))\n",
    "if a<0:\n",
    "    raise NoNegative(\"Not a postive no,enter positive no\")"
   ]
  },
  {
   "cell_type": "code",
   "execution_count": 7,
   "id": "c365a9e9",
   "metadata": {},
   "outputs": [
    {
     "name": "stdout",
     "output_type": "stream",
     "text": [
      "Enter 1st no:6\n",
      "Enter 2nd no:0\n",
      "0 division error\n"
     ]
    }
   ],
   "source": [
    "class zerodivision(Exception):\n",
    "    pass\n",
    "\n",
    "try:\n",
    "    a=int(input(\"Enter 1st no:\"))\n",
    "    b=int(input(\"Enter 2nd no:\"))\n",
    "    if a>0 and b>0:\n",
    "        c=a/b\n",
    "        print(c)\n",
    "        \n",
    "    else:\n",
    "        raise zerodivision(\"0 division error\")\n",
    "        \n",
    "except Exception as ex:\n",
    "    print(ex)\n",
    "    \n"
   ]
  },
  {
   "cell_type": "code",
   "execution_count": 19,
   "id": "b61c60ea",
   "metadata": {},
   "outputs": [
    {
     "name": "stdout",
     "output_type": "stream",
     "text": [
      "enter a positive no:9\n",
      "not a positive no,enter positive no\n"
     ]
    }
   ],
   "source": [
    "class NoNegative(Exception):\n",
    "    pass\n",
    "\n",
    "try:\n",
    "    a=int(input(\"enter a positive no:\"))\n",
    "    raise NoNegative('not a positive no,enter positive no')\n",
    "except Exception as Nv:\n",
    "    print(Nv)"
   ]
  },
  {
   "cell_type": "markdown",
   "id": "653e7492",
   "metadata": {},
   "source": [
    "### To checak password and Email Validity"
   ]
  },
  {
   "cell_type": "code",
   "execution_count": 22,
   "id": "21673276",
   "metadata": {},
   "outputs": [
    {
     "name": "stdout",
     "output_type": "stream",
     "text": [
      "Enter Your password:1234\n",
      "Enter Your Email:gaurichouudhari1345@gamil.com\n",
      "successful Login!\n"
     ]
    }
   ],
   "source": [
    "try:\n",
    "    pass1=\"1234\"\n",
    "    email1=\"gaurichouudhari1345@gamil.com\"\n",
    "    pass2=str(input(\"Enter Your password:\"))\n",
    "    email2=str(input(\"Enter Your Email:\"))\n",
    "    if pass2==pass1 and email2==email1:\n",
    "        print(\"successful Login!\")\n",
    "    else:\n",
    "        raise Ex\n",
    "except Exception as Ex:\n",
    "    print(\"Invalid Password and email.\")\n",
    "\n",
    "    "
   ]
  },
  {
   "cell_type": "code",
   "execution_count": 30,
   "id": "3c84142e",
   "metadata": {},
   "outputs": [
    {
     "name": "stdout",
     "output_type": "stream",
     "text": [
      "Enter Your password:1234\n",
      "Enter Your Email:gaurichouudhari1345@gamil.com\n",
      "<class '__main__.login'>\n"
     ]
    }
   ],
   "source": [
    "\n",
    "class login(Exception):\n",
    "    pass\n",
    "\n",
    "try:\n",
    "    pass1=\"1234\"\n",
    "    email1=\"gaurichouudhari1345@gamil.com\"\n",
    "    pass2=str(input(\"Enter Your password:\"))\n",
    "    email2=str(input(\"Enter Your Email:\"))\n",
    "    if pass2==pass1 and email2==email1:\n",
    "        raise login(\"successful Login!\")\n",
    "    \n",
    "except Exception as Ex:\n",
    "    print(login) \n",
    "#else:\n",
    "    #print(\"Welcome\")\n",
    "       "
   ]
  },
  {
   "cell_type": "code",
   "execution_count": 1,
   "id": "02a67cf9",
   "metadata": {},
   "outputs": [
    {
     "name": "stdout",
     "output_type": "stream",
     "text": [
      "Enter the money you want to withdraw9000\n",
      "Insufficent Balance, you cannot withdraw\n",
      "Have a good day\n"
     ]
    }
   ],
   "source": [
    "class Balanceexception(Exception):\n",
    "    pass\n",
    "def checkbalnce():\n",
    "    money=10000\n",
    "    money_to_withdraw=int(input(\"Enter the money you want to withdraw\"))\n",
    "    balance=money-money_to_withdraw\n",
    "    if balance<=2000:\n",
    "        raise Balanceexception(\"Insufficent Balance, you cannot withdraw\")\n",
    "    \n",
    "    return balance\n",
    "try:\n",
    "    checkbalnce()\n",
    "\n",
    "except Balanceexception as be:\n",
    "    print(be)\n",
    "    \n",
    "else:\n",
    "    print(balance,\"you can withdraw it sucessfully\")\n",
    "\n",
    "finally:\n",
    "    print(\"Have a good day\")"
   ]
  },
  {
   "cell_type": "code",
   "execution_count": 2,
   "id": "156353fe",
   "metadata": {},
   "outputs": [
    {
     "name": "stdout",
     "output_type": "stream",
     "text": [
      "enter the money you want to withdraw3000\n",
      "Available Balance is : 7000\n",
      "you can withdraw it sucessfully\n",
      "have a good day\n"
     ]
    }
   ],
   "source": [
    "class Balanceexception(Exception):\n",
    "    pass\n",
    "try:\n",
    "    money=10000\n",
    "    money_to_withdraw=int(input(\"enter the money you want to withdraw\"))\n",
    "    balance=money-money_to_withdraw\n",
    "    if balance<=2000:\n",
    "        raise Balanceexception(\"Insufficent Balance, you cannot withdraw\")\n",
    "        \n",
    "    \n",
    "    \n",
    "except Balanceexception as be:\n",
    "    print(be)\n",
    "    \n",
    "    \n",
    "else:\n",
    "    print(\"Available Balance is :\",balance)\n",
    "    print(\"you can withdraw it sucessfully\")\n",
    "    \n",
    "    \n",
    "finally:\n",
    "    print(\"have a good day\")"
   ]
  },
  {
   "cell_type": "code",
   "execution_count": null,
   "id": "7f31529b",
   "metadata": {},
   "outputs": [],
   "source": []
  }
 ],
 "metadata": {
  "kernelspec": {
   "display_name": "Python 3 (ipykernel)",
   "language": "python",
   "name": "python3"
  },
  "language_info": {
   "codemirror_mode": {
    "name": "ipython",
    "version": 3
   },
   "file_extension": ".py",
   "mimetype": "text/x-python",
   "name": "python",
   "nbconvert_exporter": "python",
   "pygments_lexer": "ipython3",
   "version": "3.11.5"
  }
 },
 "nbformat": 4,
 "nbformat_minor": 5
}
