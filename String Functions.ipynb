{
 "cells": [
  {
   "cell_type": "markdown",
   "id": "65163258",
   "metadata": {},
   "source": [
    "### chr()"
   ]
  },
  {
   "cell_type": "code",
   "execution_count": 1,
   "id": "f0b07259",
   "metadata": {},
   "outputs": [
    {
     "data": {
      "text/plain": [
       "'d'"
      ]
     },
     "execution_count": 1,
     "metadata": {},
     "output_type": "execute_result"
    }
   ],
   "source": [
    "chr(100)"
   ]
  },
  {
   "cell_type": "code",
   "execution_count": 3,
   "id": "b4d8a2db",
   "metadata": {},
   "outputs": [
    {
     "data": {
      "text/plain": [
       "103"
      ]
     },
     "execution_count": 3,
     "metadata": {},
     "output_type": "execute_result"
    }
   ],
   "source": [
    "ord(\"g\")"
   ]
  },
  {
   "cell_type": "code",
   "execution_count": 4,
   "id": "44926de1",
   "metadata": {},
   "outputs": [
    {
     "data": {
      "text/plain": [
       "4"
      ]
     },
     "execution_count": 4,
     "metadata": {},
     "output_type": "execute_result"
    }
   ],
   "source": [
    "s2=\"good\"\n",
    "len(s2)"
   ]
  },
  {
   "cell_type": "code",
   "execution_count": 6,
   "id": "5c5f00a1",
   "metadata": {},
   "outputs": [
    {
     "name": "stdout",
     "output_type": "stream",
     "text": [
      "You Have Done Good Job\n"
     ]
    }
   ],
   "source": [
    "s1=\"You\"\n",
    "s2=\"Have\"\n",
    "s3=\"Done\"\n",
    "s4=\"Good Job\"\n",
    "print(s1,s2,s3,s4)"
   ]
  },
  {
   "cell_type": "code",
   "execution_count": 8,
   "id": "c2a7e90b",
   "metadata": {},
   "outputs": [
    {
     "name": "stdout",
     "output_type": "stream",
     "text": [
      "You Have Done Good Job\n"
     ]
    }
   ],
   "source": [
    "print(s1+\" \"+s2+\" \"+s3+\" \"+s4)"
   ]
  },
  {
   "cell_type": "markdown",
   "id": "dbdd69ab",
   "metadata": {},
   "source": [
    "### upper()\n"
   ]
  },
  {
   "cell_type": "code",
   "execution_count": 11,
   "id": "34ace616",
   "metadata": {},
   "outputs": [
    {
     "name": "stdout",
     "output_type": "stream",
     "text": [
      "THIS IS A CLASS ON PYTHON\n"
     ]
    }
   ],
   "source": [
    "S1=\"This is a class on python\" \n",
    "print(S1.upper())"
   ]
  },
  {
   "cell_type": "markdown",
   "id": "84f3b038",
   "metadata": {},
   "source": [
    "### lower()"
   ]
  },
  {
   "cell_type": "code",
   "execution_count": 23,
   "id": "3e7d87a6",
   "metadata": {
    "scrolled": false
   },
   "outputs": [
    {
     "name": "stdout",
     "output_type": "stream",
     "text": [
      "this is a class on python\n"
     ]
    }
   ],
   "source": [
    "S1=\"This is a class on python\" \n",
    "print(S1.lower())"
   ]
  },
  {
   "cell_type": "markdown",
   "id": "741eb4d9",
   "metadata": {},
   "source": [
    "### title()"
   ]
  },
  {
   "cell_type": "code",
   "execution_count": 13,
   "id": "c6c01d6e",
   "metadata": {},
   "outputs": [
    {
     "name": "stdout",
     "output_type": "stream",
     "text": [
      "This Is A Class On Python\n"
     ]
    }
   ],
   "source": [
    "S1=\"This is a class on python\" \n",
    "print(S1.title())"
   ]
  },
  {
   "cell_type": "code",
   "execution_count": 15,
   "id": "58129610",
   "metadata": {},
   "outputs": [
    {
     "name": "stdout",
     "output_type": "stream",
     "text": [
      "This is a class on data science\n"
     ]
    }
   ],
   "source": [
    "S1=\"This is a class on python\" \n",
    "print(S1.replace(\"python\",\"data science\"))"
   ]
  },
  {
   "cell_type": "code",
   "execution_count": 17,
   "id": "32f8405c",
   "metadata": {},
   "outputs": [
    {
     "name": "stdout",
     "output_type": "stream",
     "text": [
      "2\n"
     ]
    }
   ],
   "source": [
    "S1=\"This is a class on python\" \n",
    "print(S1.count('n'))"
   ]
  },
  {
   "cell_type": "markdown",
   "id": "a7f0059c",
   "metadata": {},
   "source": [
    "# boolen string functions "
   ]
  },
  {
   "cell_type": "code",
   "execution_count": 24,
   "id": "262a524f",
   "metadata": {},
   "outputs": [],
   "source": [
    "#It returns True or False"
   ]
  },
  {
   "cell_type": "code",
   "execution_count": 18,
   "id": "485ad687",
   "metadata": {},
   "outputs": [
    {
     "name": "stdout",
     "output_type": "stream",
     "text": [
      "False\n"
     ]
    }
   ],
   "source": [
    "S1=\"This is a class on python\" \n",
    "print(S1.endswith('T'))"
   ]
  },
  {
   "cell_type": "code",
   "execution_count": 20,
   "id": "a57805c5",
   "metadata": {},
   "outputs": [
    {
     "name": "stdout",
     "output_type": "stream",
     "text": [
      "True\n"
     ]
    }
   ],
   "source": [
    "S1=\"This is a class on python\" \n",
    "print(S1.endswith('n'))"
   ]
  },
  {
   "cell_type": "code",
   "execution_count": 21,
   "id": "f87aae11",
   "metadata": {},
   "outputs": [
    {
     "name": "stdout",
     "output_type": "stream",
     "text": [
      "True\n"
     ]
    }
   ],
   "source": [
    "S1=\"This is a class on python\" \n",
    "print(S1.startswith('T'))"
   ]
  },
  {
   "cell_type": "code",
   "execution_count": 22,
   "id": "06e5ee0f",
   "metadata": {},
   "outputs": [
    {
     "name": "stdout",
     "output_type": "stream",
     "text": [
      "False\n"
     ]
    }
   ],
   "source": [
    "S1=\"This is a class on python\" \n",
    "print(S1.startswith('y'))"
   ]
  },
  {
   "cell_type": "code",
   "execution_count": 32,
   "id": "697699f8",
   "metadata": {},
   "outputs": [
    {
     "name": "stdout",
     "output_type": "stream",
     "text": [
      "True\n"
     ]
    }
   ],
   "source": [
    "S1=\"Thisisaclassonpython\" \n",
    "print(S1.isalpha())"
   ]
  },
  {
   "cell_type": "code",
   "execution_count": 30,
   "id": "1792e0b1",
   "metadata": {},
   "outputs": [
    {
     "name": "stdout",
     "output_type": "stream",
     "text": [
      "True\n"
     ]
    }
   ],
   "source": [
    "s2=\"hellopython\"\n",
    "print(s2.isalpha())"
   ]
  },
  {
   "cell_type": "code",
   "execution_count": 33,
   "id": "48ce01eb",
   "metadata": {},
   "outputs": [
    {
     "name": "stdout",
     "output_type": "stream",
     "text": [
      "True\n"
     ]
    }
   ],
   "source": [
    "print(S1.isalnum())"
   ]
  },
  {
   "cell_type": "code",
   "execution_count": 34,
   "id": "b55d302b",
   "metadata": {},
   "outputs": [
    {
     "name": "stdout",
     "output_type": "stream",
     "text": [
      "True\n"
     ]
    }
   ],
   "source": [
    "s3=\"1234\"\n",
    "print(s3.isalnum())"
   ]
  },
  {
   "cell_type": "code",
   "execution_count": 36,
   "id": "e03168ff",
   "metadata": {},
   "outputs": [
    {
     "name": "stdout",
     "output_type": "stream",
     "text": [
      "False\n"
     ]
    }
   ],
   "source": [
    "s4=\"1234 python\"\n",
    "print(s4.isalnum())"
   ]
  },
  {
   "cell_type": "code",
   "execution_count": 39,
   "id": "612cdb0a",
   "metadata": {},
   "outputs": [
    {
     "name": "stdout",
     "output_type": "stream",
     "text": [
      "False\n",
      "True\n",
      "False\n"
     ]
    }
   ],
   "source": [
    "s5=\"1234\"\n",
    "s6=\"  \"\n",
    "s7=\"\"\n",
    "print(s5.isspace())\n",
    "print(s6.isspace())\n",
    "print(s7.isspace())\n"
   ]
  },
  {
   "cell_type": "code",
   "execution_count": 40,
   "id": "486d8524",
   "metadata": {},
   "outputs": [
    {
     "name": "stdout",
     "output_type": "stream",
     "text": [
      "True\n"
     ]
    }
   ],
   "source": [
    "print(s5.isdigit())"
   ]
  },
  {
   "cell_type": "code",
   "execution_count": 41,
   "id": "0994bec2",
   "metadata": {},
   "outputs": [
    {
     "name": "stdout",
     "output_type": "stream",
     "text": [
      "True\n",
      "False\n"
     ]
    }
   ],
   "source": [
    "s8=\"GOOD\"\n",
    "s9=\"good\"\n",
    "print(s8.isupper())\n",
    "print(s9.isupper())\n"
   ]
  },
  {
   "cell_type": "code",
   "execution_count": 43,
   "id": "e9979677",
   "metadata": {},
   "outputs": [
    {
     "data": {
      "text/plain": [
       "False"
      ]
     },
     "execution_count": 43,
     "metadata": {},
     "output_type": "execute_result"
    }
   ],
   "source": [
    "s8=\"GOOD\"\n",
    "s9=\"good\"\n",
    "s8.islower()"
   ]
  },
  {
   "cell_type": "code",
   "execution_count": 44,
   "id": "46194dd3",
   "metadata": {},
   "outputs": [
    {
     "data": {
      "text/plain": [
       "True"
      ]
     },
     "execution_count": 44,
     "metadata": {},
     "output_type": "execute_result"
    }
   ],
   "source": [
    "s9.islower()"
   ]
  },
  {
   "cell_type": "code",
   "execution_count": null,
   "id": "b88bc4f0",
   "metadata": {},
   "outputs": [],
   "source": []
  }
 ],
 "metadata": {
  "kernelspec": {
   "display_name": "Python 3 (ipykernel)",
   "language": "python",
   "name": "python3"
  },
  "language_info": {
   "codemirror_mode": {
    "name": "ipython",
    "version": 3
   },
   "file_extension": ".py",
   "mimetype": "text/x-python",
   "name": "python",
   "nbconvert_exporter": "python",
   "pygments_lexer": "ipython3",
   "version": "3.11.3"
  }
 },
 "nbformat": 4,
 "nbformat_minor": 5
}
