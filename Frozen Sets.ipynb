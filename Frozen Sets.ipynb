{
 "cells": [
  {
   "cell_type": "code",
   "execution_count": 2,
   "id": "2159df81",
   "metadata": {},
   "outputs": [
    {
     "name": "stdout",
     "output_type": "stream",
     "text": [
      "frozenset objects is: frozenset({1, 2, 3, 4, 5, 6, 7, 8, 9})\n"
     ]
    }
   ],
   "source": [
    "nu=(1,2,3,4,5,6,7,8,9)\n",
    "fnum=frozenset(nu)\n",
    "print(\"frozenset objects is:\",fnum)"
   ]
  },
  {
   "cell_type": "markdown",
   "id": "7e67ee7f",
   "metadata": {},
   "source": [
    "### Dictionary"
   ]
  },
  {
   "cell_type": "code",
   "execution_count": 26,
   "id": "8f7d81fb",
   "metadata": {},
   "outputs": [
    {
     "name": "stdout",
     "output_type": "stream",
     "text": [
      "{'name': 'jax', 'age': 17}\n"
     ]
    }
   ],
   "source": [
    "dog={'name':'jax','age':17}\n",
    "print(dog)"
   ]
  },
  {
   "cell_type": "code",
   "execution_count": 12,
   "id": "655a3d87",
   "metadata": {},
   "outputs": [
    {
     "name": "stdout",
     "output_type": "stream",
     "text": [
      "{'name': 'jax', 'age': '17', 'colour': 'brown'}\n"
     ]
    }
   ],
   "source": [
    "dog={'name':'jax','age':'17','colour':'brown'}\n",
    "print(dog)"
   ]
  },
  {
   "cell_type": "code",
   "execution_count": 27,
   "id": "50b37834",
   "metadata": {},
   "outputs": [
    {
     "name": "stdout",
     "output_type": "stream",
     "text": [
      "{'name': 'jax', 'age': 17, 'weight': 90}\n"
     ]
    }
   ],
   "source": [
    "#add an item\n",
    "dog['weight']=90\n",
    "print(dog)"
   ]
  },
  {
   "cell_type": "code",
   "execution_count": 14,
   "id": "ab6e67e2",
   "metadata": {},
   "outputs": [
    {
     "name": "stdout",
     "output_type": "stream",
     "text": [
      "{'name': 'jax', 'age': 34, 'colour': 'brown', 'weight': 90}\n"
     ]
    }
   ],
   "source": [
    "#Modify the value\n",
    "dog['age']=34\n",
    "print(dog)"
   ]
  },
  {
   "cell_type": "code",
   "execution_count": 15,
   "id": "ea3bc764",
   "metadata": {},
   "outputs": [
    {
     "name": "stdout",
     "output_type": "stream",
     "text": [
      "4\n"
     ]
    }
   ],
   "source": [
    "#len of dicitionary\n",
    "print(len(dog))"
   ]
  },
  {
   "cell_type": "code",
   "execution_count": 8,
   "id": "ab41d8e7",
   "metadata": {},
   "outputs": [
    {
     "name": "stdout",
     "output_type": "stream",
     "text": [
      "dict_keys(['name', 'age', 'colour', 'weight'])\n"
     ]
    }
   ],
   "source": [
    "#only keys\n",
    "print(dog.keys())"
   ]
  },
  {
   "cell_type": "code",
   "execution_count": 9,
   "id": "8304b57c",
   "metadata": {},
   "outputs": [
    {
     "name": "stdout",
     "output_type": "stream",
     "text": [
      "dict_values(['jax', 34, 'brown', 90])\n"
     ]
    }
   ],
   "source": [
    "#only values\n",
    "print(dog.values())"
   ]
  },
  {
   "cell_type": "code",
   "execution_count": 10,
   "id": "41c91b86",
   "metadata": {},
   "outputs": [
    {
     "name": "stdout",
     "output_type": "stream",
     "text": [
      "dict_items([('name', 'jax'), ('age', 34), ('colour', 'brown'), ('weight', 90)])\n"
     ]
    }
   ],
   "source": [
    "#get items\n",
    "print(dog.items())"
   ]
  },
  {
   "cell_type": "code",
   "execution_count": 38,
   "id": "24fb0c7b",
   "metadata": {},
   "outputs": [
    {
     "name": "stdout",
     "output_type": "stream",
     "text": [
      "{'name': 'jax', 'age': '17', 'colour': 'brown', 'hight': '23'}\n"
     ]
    }
   ],
   "source": [
    "dog={'name':'jax','age':'17','colour':'brown','hight':'23'}\n",
    "print(dog)"
   ]
  },
  {
   "cell_type": "code",
   "execution_count": 39,
   "id": "3c0d21f4",
   "metadata": {},
   "outputs": [
    {
     "data": {
      "text/plain": [
       "'brown'"
      ]
     },
     "execution_count": 39,
     "metadata": {},
     "output_type": "execute_result"
    }
   ],
   "source": [
    "dog.pop('colour')"
   ]
  },
  {
   "cell_type": "code",
   "execution_count": 40,
   "id": "c1e2545e",
   "metadata": {},
   "outputs": [
    {
     "name": "stdout",
     "output_type": "stream",
     "text": [
      "{'name': 'jax', 'age': '17'}\n"
     ]
    }
   ],
   "source": [
    "dog.popitem()\n",
    "print(dog)"
   ]
  },
  {
   "cell_type": "code",
   "execution_count": 41,
   "id": "e8ca6d32",
   "metadata": {},
   "outputs": [
    {
     "name": "stdout",
     "output_type": "stream",
     "text": [
      "{'age': '17'}\n"
     ]
    }
   ],
   "source": [
    "del dog['name']\n",
    "print(dog)"
   ]
  },
  {
   "cell_type": "code",
   "execution_count": 42,
   "id": "d47eb76b",
   "metadata": {},
   "outputs": [
    {
     "name": "stdout",
     "output_type": "stream",
     "text": [
      "{}\n"
     ]
    }
   ],
   "source": [
    "dog.clear()\n",
    "print(dog)"
   ]
  },
  {
   "cell_type": "code",
   "execution_count": null,
   "id": "e38e2565",
   "metadata": {},
   "outputs": [],
   "source": []
  }
 ],
 "metadata": {
  "kernelspec": {
   "display_name": "Python 3 (ipykernel)",
   "language": "python",
   "name": "python3"
  },
  "language_info": {
   "codemirror_mode": {
    "name": "ipython",
    "version": 3
   },
   "file_extension": ".py",
   "mimetype": "text/x-python",
   "name": "python",
   "nbconvert_exporter": "python",
   "pygments_lexer": "ipython3",
   "version": "3.11.3"
  }
 },
 "nbformat": 4,
 "nbformat_minor": 5
}
