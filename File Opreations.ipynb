{
 "cells": [
  {
   "cell_type": "markdown",
   "id": "737b5b7b",
   "metadata": {},
   "source": [
    "# Reading and writing text file"
   ]
  },
  {
   "cell_type": "code",
   "execution_count": 10,
   "id": "ba3ce6eb",
   "metadata": {},
   "outputs": [
    {
     "name": "stdout",
     "output_type": "stream",
     "text": [
      "in ipcs\n"
     ]
    }
   ],
   "source": [
    "file=open(r\"C:\\Users\\ipcs\\Desktop\\file.txt\",\"r\")\n",
    "for content in file:\n",
    "    print(content)"
   ]
  },
  {
   "cell_type": "code",
   "execution_count": 11,
   "id": "f6e51643",
   "metadata": {},
   "outputs": [
    {
     "name": "stdout",
     "output_type": "stream",
     "text": [
      "i am learing data science\n"
     ]
    }
   ],
   "source": [
    "file=open(r\"C:\\Users\\ipcs\\Desktop\\data.txt\",\"r\")\n",
    "print(file.read())\n"
   ]
  },
  {
   "cell_type": "code",
   "execution_count": 8,
   "id": "6ed894e0",
   "metadata": {},
   "outputs": [
    {
     "name": "stdout",
     "output_type": "stream",
     "text": [
      "in ipcsI am learing \n",
      "data sciencemy name is gauriI am learing \n",
      "data sciencemy name is gauriI am learing \n",
      " data science\n"
     ]
    }
   ],
   "source": [
    "file=open(r\"C:\\Users\\ipcs\\Desktop\\file.txt\",\"r\")\n",
    "print(file.read())"
   ]
  },
  {
   "cell_type": "code",
   "execution_count": 9,
   "id": "41b58ee2",
   "metadata": {},
   "outputs": [
    {
     "name": "stdout",
     "output_type": "stream",
     "text": [
      "in ipcs\n"
     ]
    }
   ],
   "source": [
    "file=open(r\"C:\\Users\\ipcs\\Desktop\\file.txt\",\"r\")\n",
    "print(file.read(7))"
   ]
  },
  {
   "cell_type": "code",
   "execution_count": 11,
   "id": "21fa10f9",
   "metadata": {},
   "outputs": [],
   "source": [
    "file=open(r\"C:\\Users\\ipcs\\Desktop\\file.txt\",\"w\")\n",
    "file.write(\"in ipcs\")\n",
    "file.write(\"I am learing data science\")\n",
    "file.close()"
   ]
  },
  {
   "cell_type": "code",
   "execution_count": 12,
   "id": "9563b98e",
   "metadata": {},
   "outputs": [],
   "source": [
    "file=open(r\"C:\\Users\\ipcs\\Desktop\\file.txt\",\"w\")\n",
    "file.write(\"in ipcs\")\n",
    "file.write(\"I am learing \\ndata science\")\n",
    "file.close()"
   ]
  },
  {
   "cell_type": "code",
   "execution_count": 1,
   "id": "b0f75eaf",
   "metadata": {},
   "outputs": [],
   "source": [
    "file=open(r\"C:\\Users\\ipcs\\Desktop\\file.txt\",\"a\")\n",
    "file.write(\"my name is gauri\")\n",
    "file.write(\"I am learing \\n data science\")\n",
    "file.close()"
   ]
  },
  {
   "cell_type": "markdown",
   "id": "72168abe",
   "metadata": {},
   "source": [
    "## Using With statement"
   ]
  },
  {
   "cell_type": "code",
   "execution_count": 29,
   "id": "eaf69c89",
   "metadata": {},
   "outputs": [],
   "source": [
    "l1=[\"This Is delhi\\n\",\"This is london\\n\",\"This is paris\\n\"]\n",
    "with open(r\"C:\\Users\\ipcs\\Desktop\\using_with.txt\",\"w\") as file2:\n",
    "    file2.write(\"hello\\n\")\n",
    "    file2.writelines(l1)"
   ]
  },
  {
   "cell_type": "code",
   "execution_count": 30,
   "id": "12cdc42f",
   "metadata": {},
   "outputs": [],
   "source": [
    "with open(r\"C:\\Users\\ipcs\\Desktop\\using_with.txt\",\"a\") as file2:\n",
    "    file2.write(\"Today\\n\")"
   ]
  },
  {
   "cell_type": "code",
   "execution_count": 32,
   "id": "9ba94fe6",
   "metadata": {},
   "outputs": [
    {
     "name": "stdout",
     "output_type": "stream",
     "text": [
      "hello\n",
      "This Is delhi\n",
      "This is london\n",
      "This is paris\n",
      "Today\n",
      "\n"
     ]
    }
   ],
   "source": [
    "with open(r\"C:\\Users\\ipcs\\Desktop\\using_with.txt\",\"r+\") as file2:\n",
    "    print(file2.read())"
   ]
  },
  {
   "cell_type": "code",
   "execution_count": null,
   "id": "216f19d1",
   "metadata": {},
   "outputs": [],
   "source": []
  }
 ],
 "metadata": {
  "kernelspec": {
   "display_name": "Python 3 (ipykernel)",
   "language": "python",
   "name": "python3"
  },
  "language_info": {
   "codemirror_mode": {
    "name": "ipython",
    "version": 3
   },
   "file_extension": ".py",
   "mimetype": "text/x-python",
   "name": "python",
   "nbconvert_exporter": "python",
   "pygments_lexer": "ipython3",
   "version": "3.11.5"
  }
 },
 "nbformat": 4,
 "nbformat_minor": 5
}
